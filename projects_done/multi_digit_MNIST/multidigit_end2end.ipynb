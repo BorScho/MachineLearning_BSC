{
 "cells": [
  {
   "cell_type": "code",
   "execution_count": 2,
   "metadata": {},
   "outputs": [],
   "source": [
    "import torch\n",
    "import torchvision.transforms as TT\n",
    "import matplotlib.pyplot as plt"
   ]
  },
  {
   "cell_type": "code",
   "execution_count": 3,
   "metadata": {},
   "outputs": [],
   "source": [
    "import torchvision.transforms as TT\n",
    "\n",
    "def cut_to_mnist(multi_img, merge_points):\n",
    "    '''\n",
    "        Cuts the input image (multi-digit) vertically by the merge_points and returns a list of images\n",
    "        Input:\n",
    "            multi_img: torch tensor to be cut into pieces\n",
    "            merge_points: list of integers giving the horizontal-coordinate (in pixels) of the places to make the cut\n",
    "        Output:\n",
    "            A Python list of images.\n",
    "    '''\n",
    "    mnist_images = []\n",
    "    top_vertical = 0\n",
    "    top_horizontal = 0\n",
    "    crop_height = 28\n",
    "    crop_width = 0\n",
    "    for mp in merge_points:\n",
    "        mp = int(mp)\n",
    "        crop_width = mp - top_horizontal\n",
    "        cut_image =TT.functional.crop(multi_img, top=top_vertical, left=top_horizontal, height=crop_height, width=crop_width)\n",
    "        top_horizontal = mp\n",
    "        # fill or cut the image to 1 x 28 x 28 mnist shape:\n",
    "        if(crop_width < 28):\n",
    "            black_fill = torch.zeros([1,28,28 - cut_image.shape[2]])\n",
    "            img = torch.cat([cut_image, black_fill], dim=2)\n",
    "        elif(crop_width > 28):\n",
    "            img = TT.functional.crop(cut_image, top=0, left=0, height=28, width=28)\n",
    "        \n",
    "        mnist_images.append(img)\n",
    "\n",
    "    return mnist_images"
   ]
  },
  {
   "cell_type": "code",
   "execution_count": 4,
   "metadata": {},
   "outputs": [
    {
     "ename": "FileNotFoundError",
     "evalue": "[Errno 2] No such file or directory: 'test4/2312_21_45_67_93.pt'",
     "output_type": "error",
     "traceback": [
      "\u001b[1;31m---------------------------------------------------------------------------\u001b[0m",
      "\u001b[1;31mFileNotFoundError\u001b[0m                         Traceback (most recent call last)",
      "Cell \u001b[1;32mIn[4], line 6\u001b[0m\n\u001b[0;32m      3\u001b[0m \u001b[38;5;28;01mimport\u001b[39;00m \u001b[38;5;21;01mmatplotlib\u001b[39;00m\u001b[38;5;21;01m.\u001b[39;00m\u001b[38;5;21;01mpyplot\u001b[39;00m \u001b[38;5;28;01mas\u001b[39;00m \u001b[38;5;21;01mplt\u001b[39;00m\n\u001b[0;32m      4\u001b[0m \u001b[38;5;28;01mfrom\u001b[39;00m \u001b[38;5;21;01mPIL\u001b[39;00m \u001b[38;5;28;01mimport\u001b[39;00m ImageDraw \u001b[38;5;66;03m# used to draw lines on an image\u001b[39;00m\n\u001b[1;32m----> 6\u001b[0m mr \u001b[38;5;241m=\u001b[39m \u001b[43mtorch\u001b[49m\u001b[38;5;241;43m.\u001b[39;49m\u001b[43mload\u001b[49m\u001b[43m(\u001b[49m\u001b[38;5;124;43m\"\u001b[39;49m\u001b[38;5;124;43mtest4/2312_21_45_67_93.pt\u001b[39;49m\u001b[38;5;124;43m\"\u001b[39;49m\u001b[43m)\u001b[49m\n\u001b[0;32m      7\u001b[0m \u001b[38;5;28mprint\u001b[39m(mr)\n\u001b[0;32m      9\u001b[0m t_img \u001b[38;5;241m=\u001b[39m mr[\u001b[38;5;124m\"\u001b[39m\u001b[38;5;124mmulti_img\u001b[39m\u001b[38;5;124m\"\u001b[39m]\n",
      "File \u001b[1;32mc:\\Users\\Hal9\\anaconda3\\envs\\condaPytorchEnv\\lib\\site-packages\\torch\\serialization.py:771\u001b[0m, in \u001b[0;36mload\u001b[1;34m(f, map_location, pickle_module, weights_only, **pickle_load_args)\u001b[0m\n\u001b[0;32m    768\u001b[0m \u001b[38;5;28;01mif\u001b[39;00m \u001b[38;5;124m'\u001b[39m\u001b[38;5;124mencoding\u001b[39m\u001b[38;5;124m'\u001b[39m \u001b[38;5;129;01mnot\u001b[39;00m \u001b[38;5;129;01min\u001b[39;00m pickle_load_args\u001b[38;5;241m.\u001b[39mkeys():\n\u001b[0;32m    769\u001b[0m     pickle_load_args[\u001b[38;5;124m'\u001b[39m\u001b[38;5;124mencoding\u001b[39m\u001b[38;5;124m'\u001b[39m] \u001b[38;5;241m=\u001b[39m \u001b[38;5;124m'\u001b[39m\u001b[38;5;124mutf-8\u001b[39m\u001b[38;5;124m'\u001b[39m\n\u001b[1;32m--> 771\u001b[0m \u001b[38;5;28;01mwith\u001b[39;00m \u001b[43m_open_file_like\u001b[49m\u001b[43m(\u001b[49m\u001b[43mf\u001b[49m\u001b[43m,\u001b[49m\u001b[43m \u001b[49m\u001b[38;5;124;43m'\u001b[39;49m\u001b[38;5;124;43mrb\u001b[39;49m\u001b[38;5;124;43m'\u001b[39;49m\u001b[43m)\u001b[49m \u001b[38;5;28;01mas\u001b[39;00m opened_file:\n\u001b[0;32m    772\u001b[0m     \u001b[38;5;28;01mif\u001b[39;00m _is_zipfile(opened_file):\n\u001b[0;32m    773\u001b[0m         \u001b[38;5;66;03m# The zipfile reader is going to advance the current file position.\u001b[39;00m\n\u001b[0;32m    774\u001b[0m         \u001b[38;5;66;03m# If we want to actually tail call to torch.jit.load, we need to\u001b[39;00m\n\u001b[0;32m    775\u001b[0m         \u001b[38;5;66;03m# reset back to the original position.\u001b[39;00m\n\u001b[0;32m    776\u001b[0m         orig_position \u001b[38;5;241m=\u001b[39m opened_file\u001b[38;5;241m.\u001b[39mtell()\n",
      "File \u001b[1;32mc:\\Users\\Hal9\\anaconda3\\envs\\condaPytorchEnv\\lib\\site-packages\\torch\\serialization.py:270\u001b[0m, in \u001b[0;36m_open_file_like\u001b[1;34m(name_or_buffer, mode)\u001b[0m\n\u001b[0;32m    268\u001b[0m \u001b[38;5;28;01mdef\u001b[39;00m \u001b[38;5;21m_open_file_like\u001b[39m(name_or_buffer, mode):\n\u001b[0;32m    269\u001b[0m     \u001b[38;5;28;01mif\u001b[39;00m _is_path(name_or_buffer):\n\u001b[1;32m--> 270\u001b[0m         \u001b[38;5;28;01mreturn\u001b[39;00m \u001b[43m_open_file\u001b[49m\u001b[43m(\u001b[49m\u001b[43mname_or_buffer\u001b[49m\u001b[43m,\u001b[49m\u001b[43m \u001b[49m\u001b[43mmode\u001b[49m\u001b[43m)\u001b[49m\n\u001b[0;32m    271\u001b[0m     \u001b[38;5;28;01melse\u001b[39;00m:\n\u001b[0;32m    272\u001b[0m         \u001b[38;5;28;01mif\u001b[39;00m \u001b[38;5;124m'\u001b[39m\u001b[38;5;124mw\u001b[39m\u001b[38;5;124m'\u001b[39m \u001b[38;5;129;01min\u001b[39;00m mode:\n",
      "File \u001b[1;32mc:\\Users\\Hal9\\anaconda3\\envs\\condaPytorchEnv\\lib\\site-packages\\torch\\serialization.py:251\u001b[0m, in \u001b[0;36m_open_file.__init__\u001b[1;34m(self, name, mode)\u001b[0m\n\u001b[0;32m    250\u001b[0m \u001b[38;5;28;01mdef\u001b[39;00m \u001b[38;5;21m__init__\u001b[39m(\u001b[38;5;28mself\u001b[39m, name, mode):\n\u001b[1;32m--> 251\u001b[0m     \u001b[38;5;28msuper\u001b[39m(_open_file, \u001b[38;5;28mself\u001b[39m)\u001b[38;5;241m.\u001b[39m\u001b[38;5;21m__init__\u001b[39m(\u001b[38;5;28;43mopen\u001b[39;49m\u001b[43m(\u001b[49m\u001b[43mname\u001b[49m\u001b[43m,\u001b[49m\u001b[43m \u001b[49m\u001b[43mmode\u001b[49m\u001b[43m)\u001b[49m)\n",
      "\u001b[1;31mFileNotFoundError\u001b[0m: [Errno 2] No such file or directory: 'test4/2312_21_45_67_93.pt'"
     ]
    }
   ],
   "source": [
    "# load example image:\n",
    "import torchvision.transforms as TT\n",
    "import matplotlib.pyplot as plt\n",
    "from PIL import ImageDraw # used to draw lines on an image\n",
    "\n",
    "mr = torch.load(\"test4/2312_21_45_67_93.pt\")\n",
    "print(mr)\n",
    "\n",
    "t_img = mr[\"multi_img\"]\n",
    "print(f\"mr[\\\"multi_img\\\"].shape : {t_img.shape}\")\n",
    "\n",
    "merge_points = mr[\"merge_points\"]\n",
    "print(f\"merge_points: {merge_points}\")\n",
    "\n",
    "img = TT.ToPILImage()(mr[\"multi_img\"])\n",
    "plt.title(mr[\"multi_img_label\"])\n",
    "draw = ImageDraw.Draw(img)\n",
    "for mp in merge_points:\n",
    "    draw.line([(mp, 0), (mp, 28)], width=1, fill=128)\n",
    "plt.imshow(img, cmap=\"gray\")"
   ]
  },
  {
   "cell_type": "code",
   "execution_count": null,
   "metadata": {},
   "outputs": [
    {
     "data": {
      "image/png": "[encoded data removed]",
      "text/plain": [
       "<Figure size 720x720 with 4 Axes>"
      ]
     },
     "metadata": {
      "needs_background": "light"
     },
     "output_type": "display_data"
    }
   ],
   "source": [
    "# test cut_to_mnist() by displaying the single images:\n",
    "\n",
    "import torchvision.transforms as TT\n",
    "import matplotlib.pyplot as plt\n",
    "\n",
    "torch_image_record = torch.load(\"test4/2312_21_45_67_93.pt\")\n",
    "torch_image = torch_image_record[\"multi_img\"]\n",
    "merge_points = torch_image_record[\"merge_points\"]\n",
    "multi_img_label = torch_image_record[\"multi_img_label\"]\n",
    "\n",
    "labels = [c for c in str(multi_img_label)]\n",
    "torch_single_imgs = cut_to_mnist(torch_image, merge_points)\n",
    "\n",
    "figure = plt.figure(figsize=(10,10))\n",
    "rows, cols = 2,2\n",
    "for i in range(1, cols * rows +1):\n",
    "    img = torch_single_imgs[i-1]\n",
    "    label = labels[i-1]\n",
    "    figure.add_subplot(rows, cols, i)\n",
    "    plt.title(label)\n",
    "    plt.axis=\"off\"\n",
    "    plt.imshow(img.squeeze(), cmap=\"gray\")"
   ]
  },
  {
   "cell_type": "code",
   "execution_count": null,
   "metadata": {},
   "outputs": [],
   "source": [
    "#from own module MultiDigitMnist_functions.py import SingleDigitMNISTNet\n",
    "import torch\n",
    "import MultiDigitMnist_functions as mdf\n",
    "sys.path.append(\".\") # add current directory to module-search path - otherwize classes in modules are not found\n",
    "from MultiDigitMnist_functions import SingleDigitMNISTNet\n",
    "newmodel = SingleDigitMNISTNet()\n"
   ]
  },
  {
   "cell_type": "code",
   "execution_count": null,
   "metadata": {},
   "outputs": [
    {
     "name": "stdout",
     "output_type": "stream",
     "text": [
      "Finished loading the model to c:\\Users\\BoSc\\Documents\\9999_Public_Repository_Github\\BSC Public Github\\multi_digit_MNIST\\simplesaved_model_085val.pt.\n"
     ]
    }
   ],
   "source": [
    "# save, load the mnist-classifier model via it's state-dict:\n",
    "\n",
    "import os\n",
    "\n",
    "MODE=\"load\"\n",
    "#MODE=\"save\"\n",
    "\n",
    "MODEL_PATH = os.path.join(os.getcwd(), \"simplesaved_model_085val.pt\")\n",
    "\n",
    "if( MODE==\"save\"):\n",
    "    torch.save(single_model.state_dict(), MODEL_PATH)\n",
    "\n",
    "if ( MODE == \"load\"):\n",
    "    #Load with this code:\n",
    "    sys.path.append(\".\") # add current directory to module-search path - otherwise classes in modules are not found\n",
    "    from MultiDigitMnist_functions import SingleDigitMNISTNet\n",
    "    single_model = SingleDigitMNISTNet()\n",
    "    single_model.load_state_dict(torch.load(MODEL_PATH))\n",
    "    single_model.eval()\n",
    "\n",
    "print(f\"Finished {MODE}ing the model to {MODEL_PATH}.\")"
   ]
  },
  {
   "cell_type": "markdown",
   "metadata": {},
   "source": [
    "### Test the model on 4-digit numbers from the Mnist4_val directory: ###"
   ]
  },
  {
   "cell_type": "code",
   "execution_count": null,
   "metadata": {},
   "outputs": [
    {
     "name": "stdout",
     "output_type": "stream",
     "text": [
      "There have been 16 correctly recognized 4-digit numbers.\n",
      "The accuracy is: acc=8.00%\n"
     ]
    }
   ],
   "source": [
    "# test the model on 4-digit numbers from the Mnist4_val directory:\n",
    "import random\n",
    "\n",
    "val_dir = \"Mnist4_val\"\n",
    "dir_path = os.path.join(os.getcwd(), val_dir)\n",
    "\n",
    "# create a list of image names in the directory:\n",
    "val_images_names = []\n",
    "with os.scandir(dir_path) as dp:\n",
    "    for record in dp:\n",
    "        if record.name.endswith('pt'):\n",
    "            val_images_names.append(record.name)\n",
    "\n",
    "imaged_numbers=[]\n",
    "recognized_numbers=[]\n",
    "\n",
    "# extract the number on the image and the number recognized by the network:\n",
    "for img_name in val_images_names:\n",
    "    file_path = os.path.join(val_dir, img_name)\n",
    "    torch_image_record = torch.load(file_path)\n",
    "    torch_image = torch_image_record[\"multi_img\"]\n",
    "    merge_points = torch_image_record[\"merge_points\"]\n",
    "    multi_img_label = torch_image_record[\"multi_img_label\"]\n",
    "    snumber = \"\".join([str(c) for c in multi_img_label])\n",
    "    imaged_numbers.append(snumber)\n",
    "\n",
    "    torch_single_imgs = cut_to_mnist(torch_image, merge_points)\n",
    "    preds = []\n",
    "    for img in torch_single_imgs:\n",
    "        pred = single_model(img.unsqueeze(dim=0))\n",
    "        preds.append(torch.argmax(pred).item())\n",
    "\n",
    "    recognized_numbers.append(\"\".join([str(p) for p in preds]))\n",
    "\n",
    "result = [ i==r for i,r in zip(imaged_numbers, recognized_numbers)]\n",
    "\n",
    "print(f\"There have been {sum(result)} correctly recognized 4-digit numbers.\")\n",
    "print(f\"The accuracy is: acc={sum(result)/200 * 100:.1f}%\")\n",
    "\n",
    "# uncomment for some more information:\n",
    "#print(\"image : recognition\")\n",
    "#for i, r in zip(imaged_numbers, recognized_numbers):\n",
    "#    print(str(i) + \" : \" + str(r))"
   ]
  },
  {
   "cell_type": "markdown",
   "metadata": {},
   "source": [
    "### The overall performance of the 4-digit recognizer is quite low ###\n",
    "\n",
    "With some easy probabilistic arguments this could have been foreseen (see next cell)\n"
   ]
  },
  {
   "cell_type": "code",
   "execution_count": 116,
   "metadata": {},
   "outputs": [
    {
     "name": "stdout",
     "output_type": "stream",
     "text": [
      "Probability of one correctly recognized 4-digit number: 0.52\n",
      "Probability of at least one correctly recognized 4-digit number out of 200:  1.00\n",
      "Mean number of correctly recognized 4-digit numbers out of 200: 104.40\n",
      "Necessary single digit (Mnist) recognition probability for 95% propability to recognize a 4-digit number: 0.9873 \n"
     ]
    }
   ],
   "source": [
    "import math as m\n",
    "\n",
    "# from the training of the single-mnist network we have:\n",
    "one_digit_recog_probab=0.85\n",
    "\n",
    "\n",
    "# probability of all 4 digits correctly recognized:\n",
    "p_four_digit_recognized = one_digit_recog_probab**4\n",
    "print(f\"Probability of one correctly recognized 4-digit number: {p_four_digit_recognized:.2f}\")\n",
    "\n",
    "# probabilty for at least one 4-digit number out of 200 to be correctly recognized:\n",
    "print(f\"Probability of at least one correctly recognized 4-digit number out of 200: {1 - (1-p_four_digit_recognized)**200: .2f}\")\n",
    "\n",
    "print(f\"Mean number of correctly recognized 4-digit numbers out of 200: {200 * p_four_digit_recognized:.2f}\")\n",
    "\n",
    "# necessary recog-probability of one digit for four digit correctly recognized with 0.95 probability: 0.95 = p**4 => p = exp(ln(0.95)/4)\n",
    "print(f\"Necessary single digit (Mnist) recognition probability for 95% propability to recognize a 4-digit number: {m.exp(m.log(0.95)/4):.4f} \")\n"
   ]
  }
 ],
 "metadata": {
  "interpreter": {
   "hash": "3e3b78e97e18c72126c3c5b3e515c7ce053012eba14c4d1ae01d8c98942b8394"
  },
  "kernelspec": {
   "display_name": "Python 3.8.5 64-bit ('conenv_multiMnist': conda)",
   "language": "python",
   "name": "python3"
  },
  "language_info": {
   "codemirror_mode": {
    "name": "ipython",
    "version": 3
   },
   "file_extension": ".py",
   "mimetype": "text/x-python",
   "name": "python",
   "nbconvert_exporter": "python",
   "pygments_lexer": "ipython3",
   "version": "3.10.13"
  },
  "orig_nbformat": 4
 },
 "nbformat": 4,
 "nbformat_minor": 2
}

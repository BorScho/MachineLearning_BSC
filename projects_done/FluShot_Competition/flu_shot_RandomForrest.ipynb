{
 "cells": [
  {
   "cell_type": "markdown",
   "metadata": {},
   "source": [
    "Source https://www.drivendata.org/competitions/66/flu-shot-learning/page/211/\n",
    "\n",
    "# Problem description #\n",
    "Your goal is to predict how likely individuals are to receive their H1N1 and seasonal flu vaccines. Specifically, you'll be predicting two probabilities: <br>\n",
    "one for h1n1_vaccine and one for seasonal_vaccine.<br>\n",
    "<br>\n",
    "Each row in the dataset represents one person who responded to the National 2009 H1N1 Flu Survey.<br>\n",
    "<br>"
   ]
  },
  {
   "cell_type": "markdown",
   "metadata": {},
   "source": [
    "## Labels ##\n",
    "For this competition, there are two target variables:<br>\n",
    "<br>\n",
    "h1n1_vaccine - Whether respondent received H1N1 flu vaccine.<br>\n",
    "seasonal_vaccine - Whether respondent received seasonal flu vaccine.<br>\n",
    "Both are binary variables: 0 = No; 1 = Yes. Some respondents didn't get either vaccine, others got only one, and some got both. <br>\n",
    "This is formulated as a multilabel (and not multiclass) problem.<br>\n",
    "<br>"
   ]
  },
  {
   "cell_type": "markdown",
   "metadata": {},
   "source": [
    "## The features in this dataset ##\n",
    "<br>\n",
    "You are provided a dataset with 36 columns. The first column respondent_id is a unique and random identifier. The remaining 35 features are described below.<br>\n",
    "<br>\n",
    "For all binary variables: 0 = No; 1 = Yes.<br>\n",
    "<br>\n",
    "h1n1_concern - Level of concern about the H1N1 flu.<br>\n",
    "0 = Not at all concerned; 1 = Not very concerned; 2 = Somewhat concerned; 3 = Very concerned.<br>\n",
    " <br>\n",
    "h1n1_knowledge - Level of knowledge about H1N1 flu.<br>\n",
    "0 = No knowledge; 1 = A little knowledge; 2 = A lot of knowledge.<br>\n",
    " <br>\n",
    "behavioral_antiviral_meds - Has taken antiviral medications. (binary)<br>\n",
    "behavioral_avoidance - Has avoided close contact with others with flu-like symptoms. (binary)<br>\n",
    "behavioral_face_mask - Has bought a face mask. (binary)<br>\n",
    "behavioral_wash_hands - Has frequently washed hands or used hand sanitizer. (binary)<br>\n",
    "behavioral_large_gatherings - Has reduced time at large gatherings. (binary)<br>\n",
    "behavioral_outside_home - Has reduced contact with people outside of own household. (binary)<br>\n",
    "behavioral_touch_face - Has avoided touching eyes, nose, or mouth. (binary)<br>\n",
    "doctor_recc_h1n1 - H1N1 flu vaccine was recommended by doctor. (binary)<br>\n",
    "doctor_recc_seasonal - Seasonal flu vaccine was recommended by doctor. (binary)<br>\n",
    "chronic_med_condition - Has any of the following chronic medical conditions:  <br>\n",
    "asthma or an other lung condition, diabetes, a heart condition, a kidney condition, sickle cell anemia or other anemia, a neurological or neuromuscular condition, a liver condition, or a weakened immune system caused by a chronic illness or by medicines taken for a chronic illness. (binary) <br>\n",
    "child_under_6_months - Has regular close contact with a child under the age of six months. (binary) <br>\n",
    "health_worker - Is a healthcare worker. (binary) <br>\n",
    "health_insurance - Has health insurance. (binary) <br>\n",
    "<br>\n",
    "opinion_h1n1_vacc_effective - Respondent's opinion about H1N1 vaccine effectiveness. <br>\n",
    "1 = Not at all effective; 2 = Not very effective; 3 = Don't know; 4 = Somewhat effective; 5 = Very effective. <br>\n",
    " <br>\n",
    "opinion_h1n1_risk - Respondent's opinion about risk of getting sick with H1N1 flu without vaccine. <br>\n",
    "1 = Very Low; 2 = Somewhat low; 3 = Don't know; 4 = Somewhat high; 5 = Very high. <br>\n",
    " <br>\n",
    "opinion_h1n1_sick_from_vacc - Respondent's worry of getting sick from taking H1N1 vaccine. <br>\n",
    "1 = Not at all worried; 2 = Not very worried; 3 = Don't know; 4 = Somewhat worried; 5 = Very worried. <br>\n",
    " <br>\n",
    "opinion_seas_vacc_effective - Respondent's opinion about seasonal flu vaccine effectiveness. <br>\n",
    "1 = Not at all effective; 2 = Not very effective; 3 = Don't know; 4 = Somewhat effective; 5 = Very effective. <br>\n",
    " <br>\n",
    "opinion_seas_risk - Respondent's opinion about risk of getting sick with seasonal flu without vaccine. <br>\n",
    "1 = Very Low; 2 = Somewhat low; 3 = Don't know; 4 = Somewhat high; 5 = Very high. <br>\n",
    " <br>\n",
    "opinion_seas_sick_from_vacc - Respondent's worry of getting sick from taking seasonal flu vaccine. <br>\n",
    "1 = Not at all worried; 2 = Not very worried; 3 = Don't know; 4 = Somewhat worried; 5 = Very worried. <br>\n",
    " <br>\n",
    "age_group - Age group of respondent. <br>\n",
    "education - Self-reported education level. <br>\n",
    "race - Race of respondent. <br>\n",
    "sex - Sex of respondent. <br>\n",
    "income_poverty - Household annual income of respondent with respect to 2008 Census poverty thresholds. <br>\n",
    "marital_status - Marital status of respondent. <br>\n",
    "rent_or_own - Housing situation of respondent. <br>\n",
    "employment_status - Employment status of respondent. <br>\n",
    "hhs_geo_region - Respondent's residence using a 10-region geographic classification defined by the U.S. Dept. of Health and Human Services. Values are represented as short random character strings. <br>\n",
    "census_msa - Respondent's residence within metropolitan statistical areas (MSA) as defined by the U.S. Census. <br>\n",
    "household_adults - Number of other adults in household, top-coded to 3. <br>\n",
    "household_children - Number of children in household, top-coded to 3. <br>\n",
    "employment_industry - Type of industry respondent is employed in. Values are represented as short random character strings. <br>\n",
    "employment_occupation - Type of occupation of respondent. Values are represented as short random character strings. <br>"
   ]
  },
  {
   "cell_type": "markdown",
   "metadata": {},
   "source": [
    "## Performance metric ##\n",
    "Performance will be evaluated according to the area under the receiver operating characteristic curve (ROC AUC) for each of the two target variables. <br>\n",
    "The mean of these two scores will be the overall score. A higher value indicates stronger performance. <br>\n",
    "<br>\n",
    "In Python, you can calculate this using sklearn.metrics.roc_auc_score for this multilabel setup with the default average=\"macro\" parameter. <br>\n",
    "<br>"
   ]
  },
  {
   "cell_type": "markdown",
   "metadata": {},
   "source": [
    "## Imports and Data-Loading ##"
   ]
  },
  {
   "cell_type": "code",
   "execution_count": 2,
   "metadata": {},
   "outputs": [],
   "source": [
    "import pandas as pd\n",
    "import numpy as np\n",
    "from sklearn.preprocessing import StandardScaler\n",
    "from sklearn.impute import SimpleImputer\n",
    "from sklearn.compose import ColumnTransformer\n",
    "\n",
    "from sklearn.linear_model import LogisticRegression\n",
    "from sklearn.multioutput import MultiOutputClassifier\n",
    "\n",
    "from sklearn.pipeline import Pipeline\n",
    "\n",
    "from sklearn.model_selection import train_test_split\n",
    "from sklearn.metrics import roc_curve, roc_auc_score\n",
    "\n",
    "from sklearn.svm import SVC\n",
    "\n",
    "%matplotlib inline\n",
    "import matplotlib.pyplot as plt\n",
    "from sklearn.metrics import accuracy_score"
   ]
  },
  {
   "cell_type": "code",
   "execution_count": 3,
   "metadata": {},
   "outputs": [],
   "source": [
    "# read the csv-files and take the respondent_id column as index:\n",
    "\n",
    "X_train_df = pd.read_csv(\"training_set_features.csv\", index_col=\"respondent_id\")\n",
    "y_train_df = pd.read_csv(\"training_set_labels.csv\", index_col=\"respondent_id\")\n",
    "X_test_df = pd.read_csv(\"test_set_features.csv\", index_col=\"respondent_id\")\n",
    "\n",
    "#X_train_df.shape\n",
    "# Output:\n",
    "# (26707, 36)\n",
    "\n",
    "#X_test_df.shape\n",
    "# out:\n",
    "# (26708, 36)"
   ]
  },
  {
   "cell_type": "code",
   "execution_count": 4,
   "metadata": {},
   "outputs": [],
   "source": [
    "#check sorting and completeness of respondent_id's in train and test data:\n",
    "np.testing.assert_array_equal(X_train_df.index.values, y_train_df.index.values)\n",
    "\n",
    "# out: \n",
    "# no output means the arrays are equal, otherwize an error would be risen."
   ]
  },
  {
   "cell_type": "markdown",
   "metadata": {},
   "source": [
    "### Usefull Functions ###"
   ]
  },
  {
   "cell_type": "code",
   "execution_count": 5,
   "metadata": {},
   "outputs": [],
   "source": [
    "def plot_roc(y_true, y_score, label_name, ax):\n",
    "    fpr, tpr, thresholds = roc_curve(y_true, y_score)\n",
    "    ax.plot(fpr, tpr)\n",
    "    ax.plot([0,1],[0,1], color=\"grey\", linestyle=\"--\")\n",
    "    ax.set_ylabel(\"TPR\")\n",
    "    ax.set_xlabel(\"FPR\")\n",
    "    ax.set_title(f\"{label_name}: AUC = {roc_auc_score(y_true, y_score):.4f}\")"
   ]
  },
  {
   "cell_type": "code",
   "execution_count": 6,
   "metadata": {},
   "outputs": [],
   "source": [
    "def plot_roc_h1n1_and_seasonal(y_eval, y_preds):\n",
    "    fig, ax = plt.subplots(1,2,figsize=(7, 3.5))\n",
    "\n",
    "    plot_roc(\n",
    "        y_eval[\"h1n1_vaccine\"],\n",
    "        y_preds[\"h1n1_vaccine\"],\n",
    "        \"h1n1_vaccine\",\n",
    "        ax=ax[0]\n",
    "    )\n",
    "\n",
    "    plot_roc(\n",
    "        y_eval[\"seasonal_vaccine\"],\n",
    "        y_preds[\"seasonal_vaccine\"],\n",
    "        \"seasonal_vaccine\",\n",
    "        ax=ax[1]\n",
    "    )\n",
    "\n",
    "    fig.tight_layout()"
   ]
  },
  {
   "cell_type": "code",
   "execution_count": 7,
   "metadata": {},
   "outputs": [],
   "source": [
    "def true_preds(preds, index_df):\n",
    "    result =  pd.DataFrame(\n",
    "        {\n",
    "            \"h1n1_vaccine\": preds[0][:,1],\n",
    "            \"seasonal_vaccine\": preds[1][:,1],\n",
    "        },\n",
    "        index=index_df\n",
    "    )\n",
    "    return result"
   ]
  },
  {
   "cell_type": "code",
   "execution_count": 8,
   "metadata": {},
   "outputs": [],
   "source": [
    "def train_fullset_and_save(estimator, X_test_df, X_train_df, y_train_df,submission_data_filepath):\n",
    "    submission_df = pd.read_csv(\"submission_format.csv\", index_col=\"respondent_id\")\n",
    "    np.testing.assert_array_equal(submission_df.index.values, X_test_df.index.values)\n",
    "    \n",
    "    estimator.fit(X_train_df, y_train_df)\n",
    "    test_preds = estimator.predict_proba(X_test_df)\n",
    "\n",
    "    submission_df[\"h1n1_vaccine\"]=test_preds[0][:,1]\n",
    "    submission_df[\"seasonal_vaccine\"]=test_preds[1][:,1]\n",
    "    \n",
    "    submission_df.to_csv(submission_data_filepath, index=True)"
   ]
  },
  {
   "cell_type": "markdown",
   "metadata": {},
   "source": [
    "### Look at the Table ###"
   ]
  },
  {
   "cell_type": "code",
   "execution_count": 9,
   "metadata": {},
   "outputs": [
    {
     "data": {
      "text/html": [
       "<div>\n",
       "<style scoped>\n",
       "    .dataframe tbody tr th:only-of-type {\n",
       "        vertical-align: middle;\n",
       "    }\n",
       "\n",
       "    .dataframe tbody tr th {\n",
       "        vertical-align: top;\n",
       "    }\n",
       "\n",
       "    .dataframe thead th {\n",
       "        text-align: right;\n",
       "    }\n",
       "</style>\n",
       "<table border=\"1\" class=\"dataframe\">\n",
       "  <thead>\n",
       "    <tr style=\"text-align: right;\">\n",
       "      <th></th>\n",
       "      <th>h1n1_concern</th>\n",
       "      <th>h1n1_knowledge</th>\n",
       "      <th>behavioral_antiviral_meds</th>\n",
       "      <th>behavioral_avoidance</th>\n",
       "      <th>behavioral_face_mask</th>\n",
       "      <th>behavioral_wash_hands</th>\n",
       "      <th>behavioral_large_gatherings</th>\n",
       "      <th>behavioral_outside_home</th>\n",
       "      <th>behavioral_touch_face</th>\n",
       "      <th>doctor_recc_h1n1</th>\n",
       "      <th>...</th>\n",
       "      <th>income_poverty</th>\n",
       "      <th>marital_status</th>\n",
       "      <th>rent_or_own</th>\n",
       "      <th>employment_status</th>\n",
       "      <th>hhs_geo_region</th>\n",
       "      <th>census_msa</th>\n",
       "      <th>household_adults</th>\n",
       "      <th>household_children</th>\n",
       "      <th>employment_industry</th>\n",
       "      <th>employment_occupation</th>\n",
       "    </tr>\n",
       "    <tr>\n",
       "      <th>respondent_id</th>\n",
       "      <th></th>\n",
       "      <th></th>\n",
       "      <th></th>\n",
       "      <th></th>\n",
       "      <th></th>\n",
       "      <th></th>\n",
       "      <th></th>\n",
       "      <th></th>\n",
       "      <th></th>\n",
       "      <th></th>\n",
       "      <th></th>\n",
       "      <th></th>\n",
       "      <th></th>\n",
       "      <th></th>\n",
       "      <th></th>\n",
       "      <th></th>\n",
       "      <th></th>\n",
       "      <th></th>\n",
       "      <th></th>\n",
       "      <th></th>\n",
       "      <th></th>\n",
       "    </tr>\n",
       "  </thead>\n",
       "  <tbody>\n",
       "    <tr>\n",
       "      <th>0</th>\n",
       "      <td>1.0</td>\n",
       "      <td>0.0</td>\n",
       "      <td>0.0</td>\n",
       "      <td>0.0</td>\n",
       "      <td>0.0</td>\n",
       "      <td>0.0</td>\n",
       "      <td>0.0</td>\n",
       "      <td>1.0</td>\n",
       "      <td>1.0</td>\n",
       "      <td>0.0</td>\n",
       "      <td>...</td>\n",
       "      <td>Below Poverty</td>\n",
       "      <td>Not Married</td>\n",
       "      <td>Own</td>\n",
       "      <td>Not in Labor Force</td>\n",
       "      <td>oxchjgsf</td>\n",
       "      <td>Non-MSA</td>\n",
       "      <td>0.0</td>\n",
       "      <td>0.0</td>\n",
       "      <td>NaN</td>\n",
       "      <td>NaN</td>\n",
       "    </tr>\n",
       "    <tr>\n",
       "      <th>1</th>\n",
       "      <td>3.0</td>\n",
       "      <td>2.0</td>\n",
       "      <td>0.0</td>\n",
       "      <td>1.0</td>\n",
       "      <td>0.0</td>\n",
       "      <td>1.0</td>\n",
       "      <td>0.0</td>\n",
       "      <td>1.0</td>\n",
       "      <td>1.0</td>\n",
       "      <td>0.0</td>\n",
       "      <td>...</td>\n",
       "      <td>Below Poverty</td>\n",
       "      <td>Not Married</td>\n",
       "      <td>Rent</td>\n",
       "      <td>Employed</td>\n",
       "      <td>bhuqouqj</td>\n",
       "      <td>MSA, Not Principle  City</td>\n",
       "      <td>0.0</td>\n",
       "      <td>0.0</td>\n",
       "      <td>pxcmvdjn</td>\n",
       "      <td>xgwztkwe</td>\n",
       "    </tr>\n",
       "    <tr>\n",
       "      <th>2</th>\n",
       "      <td>1.0</td>\n",
       "      <td>1.0</td>\n",
       "      <td>0.0</td>\n",
       "      <td>1.0</td>\n",
       "      <td>0.0</td>\n",
       "      <td>0.0</td>\n",
       "      <td>0.0</td>\n",
       "      <td>0.0</td>\n",
       "      <td>0.0</td>\n",
       "      <td>NaN</td>\n",
       "      <td>...</td>\n",
       "      <td>&lt;= $75,000, Above Poverty</td>\n",
       "      <td>Not Married</td>\n",
       "      <td>Own</td>\n",
       "      <td>Employed</td>\n",
       "      <td>qufhixun</td>\n",
       "      <td>MSA, Not Principle  City</td>\n",
       "      <td>2.0</td>\n",
       "      <td>0.0</td>\n",
       "      <td>rucpziij</td>\n",
       "      <td>xtkaffoo</td>\n",
       "    </tr>\n",
       "  </tbody>\n",
       "</table>\n",
       "<p>3 rows × 35 columns</p>\n",
       "</div>"
      ],
      "text/plain": [
       "               h1n1_concern  h1n1_knowledge  behavioral_antiviral_meds  \\\n",
       "respondent_id                                                            \n",
       "0                       1.0             0.0                        0.0   \n",
       "1                       3.0             2.0                        0.0   \n",
       "2                       1.0             1.0                        0.0   \n",
       "\n",
       "               behavioral_avoidance  behavioral_face_mask  \\\n",
       "respondent_id                                               \n",
       "0                               0.0                   0.0   \n",
       "1                               1.0                   0.0   \n",
       "2                               1.0                   0.0   \n",
       "\n",
       "               behavioral_wash_hands  behavioral_large_gatherings  \\\n",
       "respondent_id                                                       \n",
       "0                                0.0                          0.0   \n",
       "1                                1.0                          0.0   \n",
       "2                                0.0                          0.0   \n",
       "\n",
       "               behavioral_outside_home  behavioral_touch_face  \\\n",
       "respondent_id                                                   \n",
       "0                                  1.0                    1.0   \n",
       "1                                  1.0                    1.0   \n",
       "2                                  0.0                    0.0   \n",
       "\n",
       "               doctor_recc_h1n1  ...             income_poverty  \\\n",
       "respondent_id                    ...                              \n",
       "0                           0.0  ...              Below Poverty   \n",
       "1                           0.0  ...              Below Poverty   \n",
       "2                           NaN  ...  <= $75,000, Above Poverty   \n",
       "\n",
       "               marital_status  rent_or_own   employment_status  \\\n",
       "respondent_id                                                    \n",
       "0                 Not Married          Own  Not in Labor Force   \n",
       "1                 Not Married         Rent            Employed   \n",
       "2                 Not Married          Own            Employed   \n",
       "\n",
       "               hhs_geo_region                census_msa  household_adults  \\\n",
       "respondent_id                                                               \n",
       "0                    oxchjgsf                   Non-MSA               0.0   \n",
       "1                    bhuqouqj  MSA, Not Principle  City               0.0   \n",
       "2                    qufhixun  MSA, Not Principle  City               2.0   \n",
       "\n",
       "               household_children  employment_industry  employment_occupation  \n",
       "respondent_id                                                                  \n",
       "0                             0.0                  NaN                    NaN  \n",
       "1                             0.0             pxcmvdjn               xgwztkwe  \n",
       "2                             0.0             rucpziij               xtkaffoo  \n",
       "\n",
       "[3 rows x 35 columns]"
      ]
     },
     "execution_count": 9,
     "metadata": {},
     "output_type": "execute_result"
    }
   ],
   "source": [
    "X_train_df.head(3)"
   ]
  },
  {
   "cell_type": "code",
   "execution_count": 10,
   "metadata": {},
   "outputs": [
    {
     "data": {
      "text/html": [
       "<div>\n",
       "<style scoped>\n",
       "    .dataframe tbody tr th:only-of-type {\n",
       "        vertical-align: middle;\n",
       "    }\n",
       "\n",
       "    .dataframe tbody tr th {\n",
       "        vertical-align: top;\n",
       "    }\n",
       "\n",
       "    .dataframe thead th {\n",
       "        text-align: right;\n",
       "    }\n",
       "</style>\n",
       "<table border=\"1\" class=\"dataframe\">\n",
       "  <thead>\n",
       "    <tr style=\"text-align: right;\">\n",
       "      <th></th>\n",
       "      <th>h1n1_vaccine</th>\n",
       "      <th>seasonal_vaccine</th>\n",
       "    </tr>\n",
       "    <tr>\n",
       "      <th>respondent_id</th>\n",
       "      <th></th>\n",
       "      <th></th>\n",
       "    </tr>\n",
       "  </thead>\n",
       "  <tbody>\n",
       "    <tr>\n",
       "      <th>0</th>\n",
       "      <td>0</td>\n",
       "      <td>0</td>\n",
       "    </tr>\n",
       "    <tr>\n",
       "      <th>1</th>\n",
       "      <td>0</td>\n",
       "      <td>1</td>\n",
       "    </tr>\n",
       "    <tr>\n",
       "      <th>2</th>\n",
       "      <td>0</td>\n",
       "      <td>0</td>\n",
       "    </tr>\n",
       "  </tbody>\n",
       "</table>\n",
       "</div>"
      ],
      "text/plain": [
       "               h1n1_vaccine  seasonal_vaccine\n",
       "respondent_id                                \n",
       "0                         0                 0\n",
       "1                         0                 1\n",
       "2                         0                 0"
      ]
     },
     "execution_count": 10,
     "metadata": {},
     "output_type": "execute_result"
    }
   ],
   "source": [
    "y_train_df.head(3)"
   ]
  },
  {
   "cell_type": "code",
   "execution_count": 11,
   "metadata": {},
   "outputs": [
    {
     "name": "stdout",
     "output_type": "stream",
     "text": [
      "(26707, 35)\n",
      "(26707, 2)\n",
      "(26708, 35)\n",
      "h1n1_concern                   float64\n",
      "h1n1_knowledge                 float64\n",
      "behavioral_antiviral_meds      float64\n",
      "behavioral_avoidance           float64\n",
      "behavioral_face_mask           float64\n",
      "behavioral_wash_hands          float64\n",
      "behavioral_large_gatherings    float64\n",
      "behavioral_outside_home        float64\n",
      "behavioral_touch_face          float64\n",
      "doctor_recc_h1n1               float64\n",
      "doctor_recc_seasonal           float64\n",
      "chronic_med_condition          float64\n",
      "child_under_6_months           float64\n",
      "health_worker                  float64\n",
      "health_insurance               float64\n",
      "opinion_h1n1_vacc_effective    float64\n",
      "opinion_h1n1_risk              float64\n",
      "opinion_h1n1_sick_from_vacc    float64\n",
      "opinion_seas_vacc_effective    float64\n",
      "opinion_seas_risk              float64\n",
      "opinion_seas_sick_from_vacc    float64\n",
      "age_group                       object\n",
      "education                       object\n",
      "race                            object\n",
      "sex                             object\n",
      "income_poverty                  object\n",
      "marital_status                  object\n",
      "rent_or_own                     object\n",
      "employment_status               object\n",
      "hhs_geo_region                  object\n",
      "census_msa                      object\n",
      "household_adults               float64\n",
      "household_children             float64\n",
      "employment_industry             object\n",
      "employment_occupation           object\n",
      "dtype: object\n"
     ]
    }
   ],
   "source": [
    "print(X_train_df.shape)\n",
    "print(y_train_df.shape)\n",
    "print(X_test_df.shape)\n",
    "print(X_train_df.dtypes)"
   ]
  },
  {
   "cell_type": "code",
   "execution_count": 12,
   "metadata": {},
   "outputs": [],
   "source": [
    "%matplotlib inline\n",
    "import matplotlib.pyplot as plt"
   ]
  },
  {
   "cell_type": "markdown",
   "metadata": {},
   "source": [
    "## Models to Consider: ##\n",
    "1. Random Forrest with Scikit <br>\n",
    "1.1 Random Forrest: only numerical columns <br>\n",
    "1.2 Random Forrest: all columns <br>\n",
    "1.3 Random Forrest: parameter optimization with grid-search <br>\n",
    "2. XGBoost <br>\n",
    "<br>"
   ]
  },
  {
   "cell_type": "markdown",
   "metadata": {},
   "source": [
    "### 1.1 Random Forrest - Using Only Numerical Columns ###"
   ]
  },
  {
   "cell_type": "code",
   "execution_count": 13,
   "metadata": {},
   "outputs": [],
   "source": [
    "num_cols = X_train_df.columns[X_train_df.dtypes != \"object\"].values\n",
    "non_numeric_columns = X_train_df.columns[X_train_df.dtypes == \"object\"].values"
   ]
  },
  {
   "cell_type": "code",
   "execution_count": 14,
   "metadata": {},
   "outputs": [
    {
     "data": {
      "text/plain": [
       "array(['h1n1_concern', 'h1n1_knowledge', 'behavioral_antiviral_meds',\n",
       "       'behavioral_avoidance', 'behavioral_face_mask',\n",
       "       'behavioral_wash_hands', 'behavioral_large_gatherings',\n",
       "       'behavioral_outside_home', 'behavioral_touch_face',\n",
       "       'doctor_recc_h1n1', 'doctor_recc_seasonal',\n",
       "       'chronic_med_condition', 'child_under_6_months', 'health_worker',\n",
       "       'health_insurance', 'opinion_h1n1_vacc_effective',\n",
       "       'opinion_h1n1_risk', 'opinion_h1n1_sick_from_vacc',\n",
       "       'opinion_seas_vacc_effective', 'opinion_seas_risk',\n",
       "       'opinion_seas_sick_from_vacc', 'household_adults',\n",
       "       'household_children'], dtype=object)"
      ]
     },
     "execution_count": 14,
     "metadata": {},
     "output_type": "execute_result"
    }
   ],
   "source": [
    "# numeric columns:\n",
    "# numeric columns contain all columns that have a numeric datatype - ignoring the fact, that most of them are not numeric at all \n",
    "# but just boolean, modelled as \"0\" and \"1\" instead of \"true\" and \"false\"\n",
    "num_cols\n"
   ]
  },
  {
   "cell_type": "code",
   "execution_count": 15,
   "metadata": {},
   "outputs": [
    {
     "data": {
      "text/plain": [
       "array(['age_group', 'education', 'race', 'sex', 'income_poverty',\n",
       "       'marital_status', 'rent_or_own', 'employment_status',\n",
       "       'hhs_geo_region', 'census_msa', 'employment_industry',\n",
       "       'employment_occupation'], dtype=object)"
      ]
     },
     "execution_count": 15,
     "metadata": {},
     "output_type": "execute_result"
    }
   ],
   "source": [
    "non_numeric_columns"
   ]
  },
  {
   "cell_type": "code",
   "execution_count": 16,
   "metadata": {},
   "outputs": [],
   "source": [
    "# train test split:\n",
    "RANDOM_SEED = 42\n",
    "\n",
    "# output types are numpy.ndarray:\n",
    "#X_train_np, X_test_np, y_train_np, y_test_np = train_test_split(X_train_df.iloc[:,1:].to_numpy(), y_train_df.iloc[:,1:].to_numpy(), test_size=0.2, shuffle=True)\n",
    "\n",
    "# output types are pandas dataframes:\n",
    "X_train, X_eval, y_train, y_eval = train_test_split(X_train_df, y_train_df, test_size=0.33, shuffle=True, stratify=y_train_df, random_state=RANDOM_SEED)\n"
   ]
  },
  {
   "cell_type": "code",
   "execution_count": 17,
   "metadata": {},
   "outputs": [],
   "source": [
    "from sklearn.ensemble import RandomForestClassifier\n",
    "\n",
    "max_depth = 10\n",
    "n_estimators = 200\n",
    "\n",
    "rdfc = RandomForestClassifier(max_depth=max_depth, random_state=0, n_estimators=n_estimators)\n",
    "\n",
    "# numeric columns for regression:\n",
    "\n",
    "numeric_preprocessing_pipeline = Pipeline([\n",
    "    (\"simple_imputer\", SimpleImputer(strategy=\"median\"))\n",
    "])\n",
    "\n",
    "\n",
    "# column transformer with only numerical columns:\n",
    "\n",
    "preprocessor = ColumnTransformer(\n",
    "    transformers = [\n",
    "        (\"numeric\", numeric_preprocessing_pipeline, num_cols)\n",
    "    ],\n",
    "    remainder=\"drop\"\n",
    ")\n",
    "\n",
    "multi_estimator_rdf= MultiOutputClassifier(estimator=rdfc)\n",
    "\n",
    "full_pipeline = Pipeline([\n",
    "    (\"preprocessor\", preprocessor),\n",
    "    (\"multi_estimator_rdf\", multi_estimator_rdf),\n",
    "])"
   ]
  },
  {
   "cell_type": "code",
   "execution_count": 18,
   "metadata": {},
   "outputs": [],
   "source": [
    "full_pipeline.fit(X_train, y_train)\n",
    "preds = full_pipeline.predict_proba(X_eval)"
   ]
  },
  {
   "cell_type": "code",
   "execution_count": 20,
   "metadata": {},
   "outputs": [
    {
     "data": {
      "text/html": [
       "<div>\n",
       "<style scoped>\n",
       "    .dataframe tbody tr th:only-of-type {\n",
       "        vertical-align: middle;\n",
       "    }\n",
       "\n",
       "    .dataframe tbody tr th {\n",
       "        vertical-align: top;\n",
       "    }\n",
       "\n",
       "    .dataframe thead th {\n",
       "        text-align: right;\n",
       "    }\n",
       "</style>\n",
       "<table border=\"1\" class=\"dataframe\">\n",
       "  <thead>\n",
       "    <tr style=\"text-align: right;\">\n",
       "      <th></th>\n",
       "      <th>h1n1_vaccine</th>\n",
       "      <th>seasonal_vaccine</th>\n",
       "    </tr>\n",
       "    <tr>\n",
       "      <th>respondent_id</th>\n",
       "      <th></th>\n",
       "      <th></th>\n",
       "    </tr>\n",
       "  </thead>\n",
       "  <tbody>\n",
       "    <tr>\n",
       "      <th>6368</th>\n",
       "      <td>0.120770</td>\n",
       "      <td>0.157189</td>\n",
       "    </tr>\n",
       "    <tr>\n",
       "      <th>12566</th>\n",
       "      <td>0.692485</td>\n",
       "      <td>0.874616</td>\n",
       "    </tr>\n",
       "    <tr>\n",
       "      <th>13996</th>\n",
       "      <td>0.025195</td>\n",
       "      <td>0.096263</td>\n",
       "    </tr>\n",
       "    <tr>\n",
       "      <th>12769</th>\n",
       "      <td>0.291860</td>\n",
       "      <td>0.866573</td>\n",
       "    </tr>\n",
       "    <tr>\n",
       "      <th>16915</th>\n",
       "      <td>0.062717</td>\n",
       "      <td>0.186992</td>\n",
       "    </tr>\n",
       "    <tr>\n",
       "      <th>...</th>\n",
       "      <td>...</td>\n",
       "      <td>...</td>\n",
       "    </tr>\n",
       "    <tr>\n",
       "      <th>15528</th>\n",
       "      <td>0.235153</td>\n",
       "      <td>0.577801</td>\n",
       "    </tr>\n",
       "    <tr>\n",
       "      <th>1361</th>\n",
       "      <td>0.067036</td>\n",
       "      <td>0.157711</td>\n",
       "    </tr>\n",
       "    <tr>\n",
       "      <th>15741</th>\n",
       "      <td>0.709578</td>\n",
       "      <td>0.845383</td>\n",
       "    </tr>\n",
       "    <tr>\n",
       "      <th>8658</th>\n",
       "      <td>0.168329</td>\n",
       "      <td>0.554596</td>\n",
       "    </tr>\n",
       "    <tr>\n",
       "      <th>25656</th>\n",
       "      <td>0.241221</td>\n",
       "      <td>0.348862</td>\n",
       "    </tr>\n",
       "  </tbody>\n",
       "</table>\n",
       "<p>8814 rows × 2 columns</p>\n",
       "</div>"
      ],
      "text/plain": [
       "               h1n1_vaccine  seasonal_vaccine\n",
       "respondent_id                                \n",
       "6368               0.120770          0.157189\n",
       "12566              0.692485          0.874616\n",
       "13996              0.025195          0.096263\n",
       "12769              0.291860          0.866573\n",
       "16915              0.062717          0.186992\n",
       "...                     ...               ...\n",
       "15528              0.235153          0.577801\n",
       "1361               0.067036          0.157711\n",
       "15741              0.709578          0.845383\n",
       "8658               0.168329          0.554596\n",
       "25656              0.241221          0.348862\n",
       "\n",
       "[8814 rows x 2 columns]"
      ]
     },
     "execution_count": 20,
     "metadata": {},
     "output_type": "execute_result"
    }
   ],
   "source": [
    "true_preds(preds, y_eval.index)"
   ]
  },
  {
   "cell_type": "code",
   "execution_count": 21,
   "metadata": {},
   "outputs": [
    {
     "data": {
      "text/html": [
       "<div>\n",
       "<style scoped>\n",
       "    .dataframe tbody tr th:only-of-type {\n",
       "        vertical-align: middle;\n",
       "    }\n",
       "\n",
       "    .dataframe tbody tr th {\n",
       "        vertical-align: top;\n",
       "    }\n",
       "\n",
       "    .dataframe thead th {\n",
       "        text-align: right;\n",
       "    }\n",
       "</style>\n",
       "<table border=\"1\" class=\"dataframe\">\n",
       "  <thead>\n",
       "    <tr style=\"text-align: right;\">\n",
       "      <th></th>\n",
       "      <th>h1n1_vaccine</th>\n",
       "      <th>seasonal_vaccine</th>\n",
       "    </tr>\n",
       "    <tr>\n",
       "      <th>respondent_id</th>\n",
       "      <th></th>\n",
       "      <th></th>\n",
       "    </tr>\n",
       "  </thead>\n",
       "  <tbody>\n",
       "    <tr>\n",
       "      <th>6368</th>\n",
       "      <td>0</td>\n",
       "      <td>0</td>\n",
       "    </tr>\n",
       "    <tr>\n",
       "      <th>12566</th>\n",
       "      <td>1</td>\n",
       "      <td>1</td>\n",
       "    </tr>\n",
       "    <tr>\n",
       "      <th>13996</th>\n",
       "      <td>0</td>\n",
       "      <td>0</td>\n",
       "    </tr>\n",
       "    <tr>\n",
       "      <th>12769</th>\n",
       "      <td>1</td>\n",
       "      <td>1</td>\n",
       "    </tr>\n",
       "    <tr>\n",
       "      <th>16915</th>\n",
       "      <td>0</td>\n",
       "      <td>1</td>\n",
       "    </tr>\n",
       "    <tr>\n",
       "      <th>...</th>\n",
       "      <td>...</td>\n",
       "      <td>...</td>\n",
       "    </tr>\n",
       "    <tr>\n",
       "      <th>15528</th>\n",
       "      <td>0</td>\n",
       "      <td>1</td>\n",
       "    </tr>\n",
       "    <tr>\n",
       "      <th>1361</th>\n",
       "      <td>0</td>\n",
       "      <td>0</td>\n",
       "    </tr>\n",
       "    <tr>\n",
       "      <th>15741</th>\n",
       "      <td>1</td>\n",
       "      <td>1</td>\n",
       "    </tr>\n",
       "    <tr>\n",
       "      <th>8658</th>\n",
       "      <td>0</td>\n",
       "      <td>1</td>\n",
       "    </tr>\n",
       "    <tr>\n",
       "      <th>25656</th>\n",
       "      <td>1</td>\n",
       "      <td>0</td>\n",
       "    </tr>\n",
       "  </tbody>\n",
       "</table>\n",
       "<p>8814 rows × 2 columns</p>\n",
       "</div>"
      ],
      "text/plain": [
       "               h1n1_vaccine  seasonal_vaccine\n",
       "respondent_id                                \n",
       "6368                      0                 0\n",
       "12566                     1                 1\n",
       "13996                     0                 0\n",
       "12769                     1                 1\n",
       "16915                     0                 1\n",
       "...                     ...               ...\n",
       "15528                     0                 1\n",
       "1361                      0                 0\n",
       "15741                     1                 1\n",
       "8658                      0                 1\n",
       "25656                     1                 0\n",
       "\n",
       "[8814 rows x 2 columns]"
      ]
     },
     "execution_count": 21,
     "metadata": {},
     "output_type": "execute_result"
    }
   ],
   "source": [
    "y_eval"
   ]
  },
  {
   "cell_type": "code",
   "execution_count": 18,
   "metadata": {},
   "outputs": [
    {
     "data": {
      "image/png": "[encoded data removed]",
      "text/plain": [
       "<Figure size 504x252 with 2 Axes>"
      ]
     },
     "metadata": {
      "needs_background": "light"
     },
     "output_type": "display_data"
    }
   ],
   "source": [
    "y_preds = true_preds(preds, y_eval.index)\n",
    "\n",
    "plot_roc_h1n1_and_seasonal(y_eval, y_preds)"
   ]
  },
  {
   "cell_type": "code",
   "execution_count": 19,
   "metadata": {},
   "outputs": [
    {
     "data": {
      "text/plain": [
       "0.8364909226136257"
      ]
     },
     "execution_count": 19,
     "metadata": {},
     "output_type": "execute_result"
    }
   ],
   "source": [
    "# COMPETITION METRIC:\n",
    "roc_auc_score(y_eval, y_preds)"
   ]
  },
  {
   "cell_type": "markdown",
   "metadata": {},
   "source": [
    "##### Fullset Training and Saving Results #####"
   ]
  },
  {
   "cell_type": "code",
   "execution_count": 20,
   "metadata": {},
   "outputs": [],
   "source": [
    "train_fullset_and_save(full_pipeline,  X_test_df, X_train_df, y_train_df,\"my_submission_rdf_numcols.csv\")"
   ]
  },
  {
   "cell_type": "markdown",
   "metadata": {},
   "source": [
    "### 1.2 Random Forrest - Using all Columns ###"
   ]
  },
  {
   "cell_type": "code",
   "execution_count": 70,
   "metadata": {},
   "outputs": [],
   "source": [
    "# impute missing values, scale numeric values, one-hot-encode non-numeric values:\n",
    "\n",
    "from sklearn.preprocessing import OneHotEncoder\n",
    "from sklearn.ensemble import RandomForestClassifier\n",
    "\n",
    "numeric_columns = X_train_df.columns[X_train_df.dtypes != \"object\"].values\n",
    "non_numeric_columns = X_train_df.columns[X_train_df.dtypes == \"object\"].values\t\n",
    "\n",
    "max_depth = 10\n",
    "n_estimators = 400\n",
    "min_samples_leaf = 10\n",
    "\n",
    "rdfc = RandomForestClassifier(max_depth=max_depth, random_state=0, n_estimators=n_estimators, min_samples_leaf=min_samples_leaf)\n",
    "\n",
    "multi_rdfc = MultiOutputClassifier(estimator=rdfc)\n",
    "\n",
    "numeric_preprocessing_pipeline = Pipeline([\n",
    "    (\"SimpleImputer\", SimpleImputer(strategy=\"median\"))\n",
    "])\n",
    "\n",
    "full_columnTransformer = ColumnTransformer(\n",
    "    transformers= [\n",
    "        (\"numeric_preprocessing\", numeric_preprocessing_pipeline, numeric_columns),\n",
    "        (\"ohe\", OneHotEncoder(), non_numeric_columns)\n",
    "    ],\n",
    "    remainder=\"passthrough\"\n",
    ")\n",
    "\n",
    "full_pipeline = Pipeline([\n",
    "    (\"ColumnTransformer\", full_columnTransformer),\n",
    "    (\"MultiEstimator\", multi_rdfc)\n",
    "])\n",
    "\n"
   ]
  },
  {
   "cell_type": "code",
   "execution_count": 71,
   "metadata": {},
   "outputs": [],
   "source": [
    "from sklearn.model_selection import train_test_split\n",
    "\n",
    "X_train, X_eval, y_train, y_eval = train_test_split(X_train_df, y_train_df, test_size= 0.3, random_state=42, shuffle=True)"
   ]
  },
  {
   "cell_type": "code",
   "execution_count": 72,
   "metadata": {},
   "outputs": [],
   "source": [
    "full_pipeline.fit(X_train, y_train)\n",
    "preds = full_pipeline.predict_proba(X_eval)"
   ]
  },
  {
   "cell_type": "code",
   "execution_count": 73,
   "metadata": {},
   "outputs": [
    {
     "data": {
      "image/png": "[encoded data removed]",
      "text/plain": [
       "<Figure size 504x252 with 2 Axes>"
      ]
     },
     "metadata": {
      "needs_background": "light"
     },
     "output_type": "display_data"
    }
   ],
   "source": [
    "y_preds = true_preds(preds, y_eval.index)\n",
    "\n",
    "plot_roc_h1n1_and_seasonal(y_eval, y_preds)"
   ]
  },
  {
   "cell_type": "code",
   "execution_count": 74,
   "metadata": {},
   "outputs": [
    {
     "data": {
      "text/plain": [
       "0.8411872181254174"
      ]
     },
     "execution_count": 74,
     "metadata": {},
     "output_type": "execute_result"
    }
   ],
   "source": [
    "# competition metric:\n",
    "\n",
    "roc_auc_score( y_eval, y_preds)"
   ]
  },
  {
   "cell_type": "markdown",
   "metadata": {},
   "source": [
    "##### Fullset Training and Saving Results #####"
   ]
  },
  {
   "cell_type": "code",
   "execution_count": 75,
   "metadata": {},
   "outputs": [],
   "source": [
    "# save to \"my_submission_file\":\n",
    "\n",
    "my_submission_file = \"my_submission_fullfeature.csv\"\n",
    "train_fullset_and_save(full_pipeline, X_test_df, X_train_df, y_train_df, my_submission_file)"
   ]
  },
  {
   "cell_type": "markdown",
   "metadata": {},
   "source": [
    "### 1.3 Parameter Optimization with Gridsearch ###\n"
   ]
  },
  {
   "cell_type": "code",
   "execution_count": 65,
   "metadata": {},
   "outputs": [],
   "source": [
    "from sklearn.model_selection import GridSearchCV\n",
    "from sklearn.preprocessing import OneHotEncoder\n",
    "from sklearn.ensemble import RandomForestClassifier\n",
    "from sklearn.model_selection import train_test_split\n",
    "\n",
    "# define prepro pipeline, the estimator and the grid to search over:\n",
    "\n",
    "# prepro pipeline:\n",
    "# impute missing values, scale numeric values, one-hot-encode non-numeric values:\n",
    "\n",
    "\n",
    "numeric_columns = X_train_df.columns[X_train_df.dtypes != \"object\"].values\n",
    "non_numeric_columns = X_train_df.columns[X_train_df.dtypes == \"object\"].values\t\n",
    "\n",
    "numeric_preprocessing_pipeline = Pipeline([\n",
    "    (\"SimpleImputer\", SimpleImputer(strategy=\"median\"))\n",
    "])\n",
    "\n",
    "full_columnTransformer = ColumnTransformer(\n",
    "    transformers= [\n",
    "        (\"numeric_preprocessing\", numeric_preprocessing_pipeline, numeric_columns),\n",
    "        (\"ohe\", OneHotEncoder(), non_numeric_columns)\n",
    "    ],\n",
    "    remainder=\"passthrough\"\n",
    ")\n",
    "\n",
    "\n",
    "# the estimator:\n",
    "\n",
    "multi_rdfc = MultiOutputClassifier(estimator=RandomForestClassifier())\n",
    "multi_pipeline = Pipeline([\n",
    "    (\"ColumnTransformer\", full_columnTransformer),\n",
    "    (\"MultiEstimator\", multi_rdfc)\n",
    "])\n",
    "\n",
    "# the parameter-grid to seearch over (for the specific \"MultiEstimator\" of the multi_pipeline):\n",
    "\n",
    "multi_parameters = {\n",
    "    \"MultiEstimator__estimator__max_depth\":[15, 20],\n",
    "    \"MultiEstimator__estimator__n_estimators\": [100, 300, 500],\n",
    "    \"MultiEstimator__estimator__min_samples_leaf\": [5, 50, 100]\n",
    "    }\n",
    "\n",
    "\n",
    "# the gridsearch: - in our case the \"scoring\" does not make a difference for the roc_auc in the end...\n",
    "\n",
    "#multi_gsclf = GridSearchCV(multi_pipeline, multi_parameters, refit=True, scoring=\"roc_auc\")\n",
    "multi_gsclf = GridSearchCV(multi_pipeline, multi_parameters, refit=True, scoring=\"accuracy\")"
   ]
  },
  {
   "cell_type": "code",
   "execution_count": 59,
   "metadata": {},
   "outputs": [],
   "source": [
    "# train-eval splitting:\n",
    "\n",
    "X_train, X_eval, y_train, y_eval = train_test_split(X_train_df, y_train_df, test_size= 0.3, random_state=42, shuffle=True)"
   ]
  },
  {
   "cell_type": "code",
   "execution_count": 60,
   "metadata": {},
   "outputs": [
    {
     "data": {
      "text/plain": [
       "GridSearchCV(estimator=Pipeline(steps=[('ColumnTransformer',\n",
       "                                        ColumnTransformer(remainder='passthrough',\n",
       "                                                          transformers=[('numeric_preprocessing',\n",
       "                                                                         Pipeline(steps=[('SimpleImputer',\n",
       "                                                                                          SimpleImputer(strategy='median'))]),\n",
       "                                                                         array(['h1n1_concern', 'h1n1_knowledge', 'behavioral_antiviral_meds',\n",
       "       'behavioral_avoidance', 'behavioral_face_mask',\n",
       "       'behavioral_wash_hands', 'be...\n",
       "       'hhs_geo_region', 'census_msa', 'employment_industry',\n",
       "       'employment_occupation'], dtype=object))])),\n",
       "                                       ('MultiEstimator',\n",
       "                                        MultiOutputClassifier(estimator=RandomForestClassifier()))]),\n",
       "             param_grid={'MultiEstimator__estimator__max_depth': [15, 20],\n",
       "                         'MultiEstimator__estimator__min_samples_leaf': [5, 50,\n",
       "                                                                         100],\n",
       "                         'MultiEstimator__estimator__n_estimators': [100, 300,\n",
       "                                                                     500]},\n",
       "             scoring='accuracy')"
      ]
     },
     "execution_count": 60,
     "metadata": {},
     "output_type": "execute_result"
    }
   ],
   "source": [
    "# doing the search: \n",
    "\n",
    "multi_gsclf.fit(X_train, y_train)"
   ]
  },
  {
   "cell_type": "code",
   "execution_count": 61,
   "metadata": {},
   "outputs": [],
   "source": [
    "# predict probabilities with the best estimator found:\n",
    "\n",
    "y_best_multi = multi_gsclf.predict_proba(X_eval)\n",
    "y_preds = true_preds(y_best_multi, y_eval.index)"
   ]
  },
  {
   "cell_type": "code",
   "execution_count": 62,
   "metadata": {},
   "outputs": [
    {
     "data": {
      "image/png": "[encoded data removed]",
      "text/plain": [
       "<Figure size 504x252 with 2 Axes>"
      ]
     },
     "metadata": {
      "needs_background": "light"
     },
     "output_type": "display_data"
    }
   ],
   "source": [
    "# plot the roc-curves for both predictions:\n",
    "\n",
    "plot_roc_h1n1_and_seasonal(y_eval, y_preds)"
   ]
  },
  {
   "cell_type": "code",
   "execution_count": 63,
   "metadata": {},
   "outputs": [
    {
     "data": {
      "text/plain": [
       "0.8445951469184223"
      ]
     },
     "execution_count": 63,
     "metadata": {},
     "output_type": "execute_result"
    }
   ],
   "source": [
    "# the competition metric:\n",
    "\n",
    "roc_auc_score(y_eval, y_preds)"
   ]
  },
  {
   "cell_type": "markdown",
   "metadata": {},
   "source": [
    "##### Retrain an Estimator with the best Parameters as Check #####"
   ]
  },
  {
   "cell_type": "code",
   "execution_count": 55,
   "metadata": {},
   "outputs": [
    {
     "data": {
      "text/plain": [
       "(20, 5, 500)"
      ]
     },
     "execution_count": 55,
     "metadata": {},
     "output_type": "execute_result"
    }
   ],
   "source": [
    "# get the parameters of the best estimator:\n",
    "\n",
    "n_estimators = multi_gsclf.best_params_['MultiEstimator__estimator__max_depth']\n",
    "min_samples_leaf = multi_gsclf.best_params_['MultiEstimator__estimator__min_samples_leaf']\n",
    "max_depth = multi_gsclf.best_params_['MultiEstimator__estimator__n_estimators']\n",
    "\n",
    "n_estimators, min_samples_leaf, max_depth"
   ]
  },
  {
   "cell_type": "code",
   "execution_count": 56,
   "metadata": {},
   "outputs": [
    {
     "data": {
      "image/png": "[encoded data removed]",
      "text/plain": [
       "<Figure size 504x252 with 2 Axes>"
      ]
     },
     "metadata": {
      "needs_background": "light"
     },
     "output_type": "display_data"
    }
   ],
   "source": [
    "# Take the parameters from the best estimator of the grid search and train another estimator for comparison:\n",
    "\n",
    "rfc = RandomForestClassifier(n_estimators=n_estimators, min_samples_leaf=min_samples_leaf, max_depth=max_depth)\n",
    "multirfc = MultiOutputClassifier(rfc)\n",
    "multi_pipe = Pipeline([\n",
    "    (\"ColumnTransformer\", full_columnTransformer),\n",
    "    (\"MultiEstimator\", multirfc)\n",
    "])\n",
    "multi_pipe.fit(X_train, y_train)\n",
    "y_p = multi_pipe.predict_proba(X_eval)\n",
    "y_prd = true_preds(y_p, y_eval.index)\n",
    "plot_roc_h1n1_and_seasonal(y_eval, y_prd)"
   ]
  },
  {
   "cell_type": "code",
   "execution_count": 57,
   "metadata": {},
   "outputs": [
    {
     "data": {
      "text/plain": [
       "0.8373898788989668"
      ]
     },
     "execution_count": 57,
     "metadata": {},
     "output_type": "execute_result"
    }
   ],
   "source": [
    "roc_auc_score(y_eval, y_prd)"
   ]
  },
  {
   "cell_type": "markdown",
   "metadata": {},
   "source": [
    "Summary: the fullpipeline after the gridsearch seems to be the estimator with the best parameters - like one would expect for the \"refit=True\"\n",
    "parametrization of the GridSearchCV - (see: https://scikit-learn.org/stable/modules/generated/sklearn.model_selection.GridSearchCV.html)"
   ]
  },
  {
   "cell_type": "markdown",
   "metadata": {},
   "source": [
    "##### Fullset Training and Saving Results #####"
   ]
  },
  {
   "cell_type": "code",
   "execution_count": 86,
   "metadata": {},
   "outputs": [],
   "source": [
    "\n",
    "my_submission_file = \"my_submission_gridsearch_fullfeatures.csv\"\n",
    "train_fullset_and_save(full_pipeline, X_test_df, X_train_df, y_train_df, my_submission_file)"
   ]
  },
  {
   "cell_type": "markdown",
   "metadata": {},
   "source": [
    "## Training Two Separate Classifiers on Gridsearch ##"
   ]
  },
  {
   "cell_type": "code",
   "execution_count": 113,
   "metadata": {},
   "outputs": [],
   "source": [
    "from sklearn.model_selection import train_test_split\n",
    "\n",
    "X_train, X_eval, y_train, y_eval = train_test_split(X_train_df, y_train_df, test_size= 0.3, random_state=42, shuffle=True)"
   ]
  },
  {
   "cell_type": "code",
   "execution_count": 114,
   "metadata": {},
   "outputs": [],
   "source": [
    "from sklearn.preprocessing import OneHotEncoder\n",
    "from sklearn.ensemble import RandomForestClassifier\n",
    "\n",
    "\n",
    "numeric_columns = X_train_df.columns[X_train_df.dtypes != \"object\"].values\n",
    "non_numeric_columns = X_train_df.columns[X_train_df.dtypes == \"object\"].values\t\n",
    "\n",
    "# gridsearch training:\n",
    "h1n1_clf = RandomForestClassifier()\n",
    "seasonal_clf = RandomForestClassifier()\n",
    "\n",
    "\n",
    "numeric_preprocessing_pipeline = Pipeline([\n",
    "    (\"SimpleImputer\", SimpleImputer(strategy=\"median\"))\n",
    "])\n",
    "\n",
    "full_columnTransformer = ColumnTransformer(\n",
    "    transformers= [\n",
    "        (\"numeric_preprocessing\", numeric_preprocessing_pipeline, numeric_columns),\n",
    "        (\"ohe\", OneHotEncoder(), non_numeric_columns)\n",
    "    ],\n",
    "    remainder=\"passthrough\"\n",
    ")\n",
    "\n",
    "\n",
    "h1n1_pipeline = Pipeline([\n",
    "    (\"ColumnTransformer\", full_columnTransformer),\n",
    "    (\"h1n1_estimator\", h1n1_clf)\n",
    "])\n",
    "\n",
    "seasonal_pipeline = Pipeline([\n",
    "    (\"ColumnTransformer\", full_columnTransformer),\n",
    "    (\"seasonal_estimator\", seasonal_clf)\n",
    "])"
   ]
  },
  {
   "cell_type": "code",
   "execution_count": 115,
   "metadata": {},
   "outputs": [],
   "source": [
    "#h1n1_parameters = {\"h1n1_estimator__max_depth\":[5, 10], \"h1n1_estimator__n_estimators\": [100, 300, 500], \"h1n1_estimator__min_samples_leaf\": [5, 50, 100]}\n",
    "\n",
    "h1n1_parameters = {\"h1n1_estimator__max_depth\":[5, 10], \"h1n1_estimator__n_estimators\": [100, 300]}\n",
    "seasonal_parameters = {\"seasonal_estimator__max_depth\":[5, 10], \"seasonal_estimator__n_estimators\": [100, 300]}\n",
    "\n",
    "h1n1_gsclf = GridSearchCV(h1n1_pipeline, h1n1_parameters, refit=True)\n",
    "seasonal_gsclf = GridSearchCV(seasonal_pipeline, seasonal_parameters, refit=True)"
   ]
  },
  {
   "cell_type": "code",
   "execution_count": 116,
   "metadata": {},
   "outputs": [
    {
     "data": {
      "text/plain": [
       "GridSearchCV(estimator=Pipeline(steps=[('ColumnTransformer',\n",
       "                                        ColumnTransformer(remainder='passthrough',\n",
       "                                                          transformers=[('numeric_preprocessing',\n",
       "                                                                         Pipeline(steps=[('SimpleImputer',\n",
       "                                                                                          SimpleImputer(strategy='median'))]),\n",
       "                                                                         array(['h1n1_concern', 'h1n1_knowledge', 'behavioral_antiviral_meds',\n",
       "       'behavioral_avoidance', 'behavioral_face_mask',\n",
       "       'behavioral_wash_hands', 'be...\n",
       "                                                                         array(['age_group', 'education', 'race', 'sex', 'income_poverty',\n",
       "       'marital_status', 'rent_or_own', 'employment_status',\n",
       "       'hhs_geo_region', 'census_msa', 'employment_industry',\n",
       "       'employment_occupation'], dtype=object))])),\n",
       "                                       ('seasonal_estimator',\n",
       "                                        RandomForestClassifier())]),\n",
       "             param_grid={'seasonal_estimator__max_depth': [5, 10],\n",
       "                         'seasonal_estimator__n_estimators': [100, 300]})"
      ]
     },
     "execution_count": 116,
     "metadata": {},
     "output_type": "execute_result"
    }
   ],
   "source": [
    "# fitting both classifiers:\n",
    "\n",
    "h1n1_gsclf.fit(X_train, y_train[\"h1n1_vaccine\"])\n",
    "seasonal_gsclf.fit(X_train, y_train[\"seasonal_vaccine\"])"
   ]
  },
  {
   "cell_type": "code",
   "execution_count": 117,
   "metadata": {},
   "outputs": [],
   "source": [
    "# from 2 separate estimators: \n",
    "y_best_h1n1 = h1n1_gsclf.predict_proba(X_eval)\n",
    "y_best_seasonal = seasonal_gsclf.predict_proba(X_eval)\n",
    " \n",
    "y_preds =  true_preds([y_best_h1n1, y_best_seasonal], y_eval.index)"
   ]
  },
  {
   "cell_type": "code",
   "execution_count": 118,
   "metadata": {},
   "outputs": [
    {
     "data": {
      "image/png": "[encoded data removed]",
      "text/plain": [
       "<Figure size 504x252 with 2 Axes>"
      ]
     },
     "metadata": {
      "needs_background": "light"
     },
     "output_type": "display_data"
    }
   ],
   "source": [
    "plot_roc_h1n1_and_seasonal(y_eval, y_preds)"
   ]
  },
  {
   "cell_type": "code",
   "execution_count": 119,
   "metadata": {},
   "outputs": [
    {
     "data": {
      "text/plain": [
       "0.8408373604358197"
      ]
     },
     "execution_count": 119,
     "metadata": {},
     "output_type": "execute_result"
    }
   ],
   "source": [
    "roc_auc_score(y_eval, y_preds)"
   ]
  },
  {
   "cell_type": "code",
   "execution_count": 120,
   "metadata": {},
   "outputs": [],
   "source": [
    "# train with full dataset and prepare to save:\n",
    "\n",
    "\n",
    "h1n1_gsclf.fit(X_train_df, y_train_df[\"h1n1_vaccine\"])\n",
    "seasonal_gsclf.fit(X_train_df, y_train_df[\"seasonal_vaccine\"])\n",
    "\n",
    "test_preds_h1n1 = h1n1_gsclf.predict_proba(X_test_df)\n",
    "test_preds_seasonal = seasonal_gsclf.predict_proba(X_test_df)\n",
    "\n"
   ]
  },
  {
   "cell_type": "code",
   "execution_count": 124,
   "metadata": {},
   "outputs": [
    {
     "data": {
      "text/html": [
       "<div>\n",
       "<style scoped>\n",
       "    .dataframe tbody tr th:only-of-type {\n",
       "        vertical-align: middle;\n",
       "    }\n",
       "\n",
       "    .dataframe tbody tr th {\n",
       "        vertical-align: top;\n",
       "    }\n",
       "\n",
       "    .dataframe thead th {\n",
       "        text-align: right;\n",
       "    }\n",
       "</style>\n",
       "<table border=\"1\" class=\"dataframe\">\n",
       "  <thead>\n",
       "    <tr style=\"text-align: right;\">\n",
       "      <th></th>\n",
       "      <th>h1n1_vaccine</th>\n",
       "      <th>seasonal_vaccine</th>\n",
       "    </tr>\n",
       "    <tr>\n",
       "      <th>respondent_id</th>\n",
       "      <th></th>\n",
       "      <th></th>\n",
       "    </tr>\n",
       "  </thead>\n",
       "  <tbody>\n",
       "    <tr>\n",
       "      <th>26707</th>\n",
       "      <td>0.138765</td>\n",
       "      <td>0.349054</td>\n",
       "    </tr>\n",
       "    <tr>\n",
       "      <th>26708</th>\n",
       "      <td>0.053248</td>\n",
       "      <td>0.100158</td>\n",
       "    </tr>\n",
       "    <tr>\n",
       "      <th>26709</th>\n",
       "      <td>0.393236</td>\n",
       "      <td>0.715167</td>\n",
       "    </tr>\n",
       "    <tr>\n",
       "      <th>26710</th>\n",
       "      <td>0.404368</td>\n",
       "      <td>0.776298</td>\n",
       "    </tr>\n",
       "    <tr>\n",
       "      <th>26711</th>\n",
       "      <td>0.258029</td>\n",
       "      <td>0.482513</td>\n",
       "    </tr>\n",
       "  </tbody>\n",
       "</table>\n",
       "</div>"
      ],
      "text/plain": [
       "               h1n1_vaccine  seasonal_vaccine\n",
       "respondent_id                                \n",
       "26707              0.138765          0.349054\n",
       "26708              0.053248          0.100158\n",
       "26709              0.393236          0.715167\n",
       "26710              0.404368          0.776298\n",
       "26711              0.258029          0.482513"
      ]
     },
     "execution_count": 124,
     "metadata": {},
     "output_type": "execute_result"
    }
   ],
   "source": [
    "submission_df = pd.read_csv(\"submission_format.csv\", index_col=\"respondent_id\")\n",
    "np.testing.assert_array_equal(submission_df.index.values, X_test_df.index.values)\n",
    "\n",
    "submission_df[\"h1n1_vaccine\"]=test_preds_h1n1[:,1]\n",
    "submission_df[\"seasonal_vaccine\"]=test_preds_seasonal[:,1]\n",
    "\n",
    "submission_df.head(5)"
   ]
  },
  {
   "cell_type": "code",
   "execution_count": 125,
   "metadata": {},
   "outputs": [],
   "source": [
    "# save to \"my_submission\" file:\n",
    "\n",
    "my_submission_file = \"my_submission_gridsearch_2separate.csv\"\n",
    "submission_df.to_csv(my_submission_file, index=True)"
   ]
  }
 ],
 "metadata": {
  "kernelspec": {
   "display_name": "Python 3.10.4 ('condaPytorchEnv')",
   "language": "python",
   "name": "python3"
  },
  "language_info": {
   "codemirror_mode": {
    "name": "ipython",
    "version": 3
   },
   "file_extension": ".py",
   "mimetype": "text/x-python",
   "name": "python",
   "nbconvert_exporter": "python",
   "pygments_lexer": "ipython3",
   "version": "3.10.4"
  },
  "orig_nbformat": 4,
  "vscode": {
   "interpreter": {
    "hash": "df61620949cb14e55b843831dad5e2bfed0f7347786fc0c0d43a7e8bd69fd61c"
   }
  }
 },
 "nbformat": 4,
 "nbformat_minor": 2
}

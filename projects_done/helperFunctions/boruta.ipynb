{
 "cells": [
  {
   "cell_type": "markdown",
   "metadata": {},
   "source": [
    "## Boruta - Exploration"
   ]
  },
  {
   "cell_type": "code",
   "execution_count": 1,
   "metadata": {},
   "outputs": [
    {
     "name": "stdout",
     "output_type": "stream",
     "text": [
      "Requirement already satisfied: boruta in c:\\users\\hal9\\anaconda3\\envs\\condapytorchenv\\lib\\site-packages (0.3)\n",
      "Requirement already satisfied: numpy>=1.10.4 in c:\\users\\hal9\\anaconda3\\envs\\condapytorchenv\\lib\\site-packages (from boruta) (1.21.5)\n",
      "Requirement already satisfied: scikit-learn>=0.17.1 in c:\\users\\hal9\\anaconda3\\envs\\condapytorchenv\\lib\\site-packages (from boruta) (1.3.0)\n",
      "Requirement already satisfied: scipy>=0.17.0 in c:\\users\\hal9\\anaconda3\\envs\\condapytorchenv\\lib\\site-packages (from boruta) (1.10.1)\n",
      "Requirement already satisfied: joblib>=1.1.1 in c:\\users\\hal9\\anaconda3\\envs\\condapytorchenv\\lib\\site-packages (from scikit-learn>=0.17.1->boruta) (1.2.0)\n",
      "Requirement already satisfied: threadpoolctl>=2.0.0 in c:\\users\\hal9\\anaconda3\\envs\\condapytorchenv\\lib\\site-packages (from scikit-learn>=0.17.1->boruta) (2.2.0)\n",
      "Note: you may need to restart the kernel to use updated packages.\n"
     ]
    }
   ],
   "source": [
    "pip install boruta"
   ]
  },
  {
   "cell_type": "code",
   "execution_count": 1,
   "metadata": {},
   "outputs": [
    {
     "name": "stdout",
     "output_type": "stream",
     "text": [
      "   sepal length (cm)  sepal width (cm)  petal length (cm)  petal width (cm)\n",
      "0                5.1               3.5                1.4               0.2\n",
      "1                4.9               3.0                1.4               0.2\n",
      "2                4.7               3.2                1.3               0.2\n",
      "3                4.6               3.1                1.5               0.2\n",
      "4                5.0               3.6                1.4               0.2\n",
      "[0 0 0 0 0]\n"
     ]
    }
   ],
   "source": [
    "import pandas as pd\n",
    "from sklearn.datasets import load_iris\n",
    "from sklearn.ensemble import RandomForestClassifier\n",
    "\n",
    "# Load the Iris dataset\n",
    "iris = load_iris()\n",
    "X = pd.DataFrame(iris.data, columns=iris.feature_names)\n",
    "y = iris.target\n",
    "\n",
    "# Display the first few rows of the dataset\n",
    "print(X.head())\n",
    "print(y[:5])\n"
   ]
  },
  {
   "cell_type": "code",
   "execution_count": null,
   "metadata": {},
   "outputs": [],
   "source": [
    "from boruta import BorutaPy\n",
    "\n",
    "# Initialize a random forest classifier\n",
    "rf = RandomForestClassifier(n_jobs=-1, class_weight='balanced', max_depth=5)\n",
    "\n",
    "# Initialize Boruta\n",
    "boruta = BorutaPy(rf, n_estimators='auto', verbose=2, random_state=1)\n",
    "\n",
    "# Fit Boruta on the dataset\n",
    "boruta.fit(X.values, y)\n",
    "\n",
    "# Print results\n",
    "print(\"Selected features:\")\n",
    "print(X.columns[boruta.support_].tolist())\n",
    "print(\"Tentative features:\")\n",
    "print(X.columns[boruta.support_weak_].tolist())\n"
   ]
  },
  {
   "cell_type": "code",
   "execution_count": 3,
   "metadata": {},
   "outputs": [
    {
     "name": "stdout",
     "output_type": "stream",
     "text": [
      "             Feature  Ranking  Selected\n",
      "0  sepal length (cm)        1      True\n",
      "1   sepal width (cm)        1      True\n",
      "2  petal length (cm)        1      True\n",
      "3   petal width (cm)        1      True\n"
     ]
    }
   ],
   "source": [
    "# Create a DataFrame to display the feature importance\n",
    "feature_ranking = pd.DataFrame({\n",
    "    'Feature': X.columns,\n",
    "    'Ranking': boruta.ranking_,\n",
    "    'Selected': boruta.support_\n",
    "})\n",
    "\n",
    "# Sort by feature importance\n",
    "feature_ranking.sort_values(by='Ranking', inplace=True)\n",
    "\n",
    "print(feature_ranking)\n"
   ]
  }
 ],
 "metadata": {
  "kernelspec": {
   "display_name": "condaPytorchEnv",
   "language": "python",
   "name": "python3"
  },
  "language_info": {
   "codemirror_mode": {
    "name": "ipython",
    "version": 3
   },
   "file_extension": ".py",
   "mimetype": "text/x-python",
   "name": "python",
   "nbconvert_exporter": "python",
   "pygments_lexer": "ipython3",
   "version": "3.10.13"
  }
 },
 "nbformat": 4,
 "nbformat_minor": 2
}

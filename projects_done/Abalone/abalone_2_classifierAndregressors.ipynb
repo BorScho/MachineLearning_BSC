{
 "cells": [
  {
   "cell_type": "markdown",
   "metadata": {},
   "source": [
    "# Abalone_2\n",
    "This is the last time I will try to break into data-science, having done so 3 times already within the last 4 years ... achieving nothing... <br>\n",
    "I am just a simple structured mathematician (master-degree) with some interesst in physics (bachelor) - and maybe to dumb compared to all the geniuses poping up everywhere...<br>\n",
    "In order for this to have some value, I should write the code myself and not just read, what I have written 2 or 3 years ago. <br>\n",
    "<br>\n",
    "So that's why there is this \"abalone_2\" notebook."
   ]
  },
  {
   "cell_type": "code",
   "execution_count": 24,
   "metadata": {},
   "outputs": [],
   "source": [
    "import warnings\n",
    "warnings.filterwarnings('ignore')"
   ]
  },
  {
   "cell_type": "markdown",
   "metadata": {},
   "source": [
    "## Data Set Information: ##\n",
    "<br>\n",
    "TASK:<br>\n",
    "Predicting the age of abalone from physical measurements. <br>\n",
    "<br>\n",
    "WHY:<br>\n",
    "The age of abalone is determined by cutting the shell through the cone, staining it, and counting the number of <br>\n",
    "rings through a microscope -- a boring and time-consuming task. Other measurements, which are easier to obtain, are used to predict the age.<br> \n",
    "<br> \n",
    "WHY DO I WANT TO SOLVE IT:<br>\n",
    "It can be seen a supervised regression problem. I can try: linear regression, polynomial regression.<br>\n",
    "It cann also be seen as a classification problem - the number of rings as clases and thus we can use Decision-Trees, Random Forrests, XGBoost, CatBoost, support vector machines.<br>\n",
    "The regression problem can also be transformed into a classification problem by introducing age-ranges as classes (\"binning\").<br>\n",
    "<br> \n",
    "ASSUMPTIONS:<br>\n",
    "Further information, such as weather patterns and location (hence food availability) may be required to solve the problem.<br>\n",
    "From the original data examples with missing values were removed (the majority having the predicted value missing), and the ranges of the continuous values have been scaled for use with an ANN (by dividing by 200).<br>\n",
    "<br>\n",
    "<br>\n",
    "Attribute Information:<br>\n",
    "<br>\n",
    "Given is the attribute name, attribute type, the measurement unit and a brief description. The number of rings is the value to predict: either as a continuous value or as <br>\n",
    "a classification problem.<br>\n",
    "<br>\n",
    "Name / Data Type / Measurement Unit / Description<br>\n",
    "-----------------------------<br>\n",
    "Sex / nominal / -- / M, F, and I (infant)<br>\n",
    "Length / continuous / mm / Longest shell measurement<br>\n",
    "Diameter / continuous / mm / perpendicular to length<br>\n",
    "Height / continuous / mm / with meat in shell<br>\n",
    "Whole weight / continuous / grams / whole abalone<br>\n",
    "Shucked weight / continuous / grams / weight of meat<br>\n",
    "Viscera weight / continuous / grams / gut weight (after bleeding)<br>\n",
    "Shell weight / continuous / grams / after being dried<br>\n",
    "Rings / integer / -- / +1.5 gives the age in years<br>\n",
    "<br>\n",
    "The readme file contains attribute statistics.<br>\n",
    "<br>\n"
   ]
  },
  {
   "cell_type": "markdown",
   "metadata": {},
   "source": [
    "## Data Loading and Splitting"
   ]
  },
  {
   "cell_type": "code",
   "execution_count": 2,
   "metadata": {},
   "outputs": [
    {
     "data": {
      "text/html": [
       "<div>\n",
       "<style scoped>\n",
       "    .dataframe tbody tr th:only-of-type {\n",
       "        vertical-align: middle;\n",
       "    }\n",
       "\n",
       "    .dataframe tbody tr th {\n",
       "        vertical-align: top;\n",
       "    }\n",
       "\n",
       "    .dataframe thead th {\n",
       "        text-align: right;\n",
       "    }\n",
       "</style>\n",
       "<table border=\"1\" class=\"dataframe\">\n",
       "  <thead>\n",
       "    <tr style=\"text-align: right;\">\n",
       "      <th></th>\n",
       "      <th>Sex</th>\n",
       "      <th>Length</th>\n",
       "      <th>Diameter</th>\n",
       "      <th>Height</th>\n",
       "      <th>Whole</th>\n",
       "      <th>Shucked</th>\n",
       "      <th>Viscera</th>\n",
       "      <th>Shell</th>\n",
       "      <th>Rings</th>\n",
       "    </tr>\n",
       "  </thead>\n",
       "  <tbody>\n",
       "    <tr>\n",
       "      <th>0</th>\n",
       "      <td>M</td>\n",
       "      <td>0.455</td>\n",
       "      <td>0.365</td>\n",
       "      <td>0.095</td>\n",
       "      <td>0.5140</td>\n",
       "      <td>0.2245</td>\n",
       "      <td>0.1010</td>\n",
       "      <td>0.150</td>\n",
       "      <td>15</td>\n",
       "    </tr>\n",
       "    <tr>\n",
       "      <th>1</th>\n",
       "      <td>M</td>\n",
       "      <td>0.350</td>\n",
       "      <td>0.265</td>\n",
       "      <td>0.090</td>\n",
       "      <td>0.2255</td>\n",
       "      <td>0.0995</td>\n",
       "      <td>0.0485</td>\n",
       "      <td>0.070</td>\n",
       "      <td>7</td>\n",
       "    </tr>\n",
       "    <tr>\n",
       "      <th>2</th>\n",
       "      <td>F</td>\n",
       "      <td>0.530</td>\n",
       "      <td>0.420</td>\n",
       "      <td>0.135</td>\n",
       "      <td>0.6770</td>\n",
       "      <td>0.2565</td>\n",
       "      <td>0.1415</td>\n",
       "      <td>0.210</td>\n",
       "      <td>9</td>\n",
       "    </tr>\n",
       "    <tr>\n",
       "      <th>3</th>\n",
       "      <td>M</td>\n",
       "      <td>0.440</td>\n",
       "      <td>0.365</td>\n",
       "      <td>0.125</td>\n",
       "      <td>0.5160</td>\n",
       "      <td>0.2155</td>\n",
       "      <td>0.1140</td>\n",
       "      <td>0.155</td>\n",
       "      <td>10</td>\n",
       "    </tr>\n",
       "    <tr>\n",
       "      <th>4</th>\n",
       "      <td>I</td>\n",
       "      <td>0.330</td>\n",
       "      <td>0.255</td>\n",
       "      <td>0.080</td>\n",
       "      <td>0.2050</td>\n",
       "      <td>0.0895</td>\n",
       "      <td>0.0395</td>\n",
       "      <td>0.055</td>\n",
       "      <td>7</td>\n",
       "    </tr>\n",
       "  </tbody>\n",
       "</table>\n",
       "</div>"
      ],
      "text/plain": [
       "  Sex  Length  Diameter  Height   Whole  Shucked  Viscera  Shell  Rings\n",
       "0   M   0.455     0.365   0.095  0.5140   0.2245   0.1010  0.150     15\n",
       "1   M   0.350     0.265   0.090  0.2255   0.0995   0.0485  0.070      7\n",
       "2   F   0.530     0.420   0.135  0.6770   0.2565   0.1415  0.210      9\n",
       "3   M   0.440     0.365   0.125  0.5160   0.2155   0.1140  0.155     10\n",
       "4   I   0.330     0.255   0.080  0.2050   0.0895   0.0395  0.055      7"
      ]
     },
     "execution_count": 2,
     "metadata": {},
     "output_type": "execute_result"
    }
   ],
   "source": [
    "import pandas as pd\n",
    "import numpy as np\n",
    "from pathlib import Path\n",
    "\n",
    "columns = [\"Sex\", \"Length\", \"Diameter\", \"Height\", \"Whole\", \"Shucked\", \"Viscera\", \"Shell\", \"Rings\"]\n",
    "sourcepath = Path(r\"Data\\abalone.data\".replace(\"\\\\\", \"/\"))\n",
    "data = pd.read_csv(sourcepath, names=columns)\n",
    "\n",
    "data.head()"
   ]
  },
  {
   "cell_type": "code",
   "execution_count": 3,
   "metadata": {},
   "outputs": [
    {
     "data": {
      "text/plain": [
       "(4177, 9)"
      ]
     },
     "execution_count": 3,
     "metadata": {},
     "output_type": "execute_result"
    }
   ],
   "source": [
    "data.shape"
   ]
  },
  {
   "cell_type": "markdown",
   "metadata": {},
   "source": [
    "Separate the prediction target from the data:"
   ]
  },
  {
   "cell_type": "code",
   "execution_count": 4,
   "metadata": {},
   "outputs": [
    {
     "data": {
      "text/plain": [
       "((4177,), (4177, 8))"
      ]
     },
     "execution_count": 4,
     "metadata": {},
     "output_type": "execute_result"
    }
   ],
   "source": [
    "target = data.iloc[:,-1]\n",
    "data = data.iloc[:,:-1]\n",
    "target.shape, data.shape"
   ]
  },
  {
   "cell_type": "code",
   "execution_count": 5,
   "metadata": {},
   "outputs": [
    {
     "name": "stdout",
     "output_type": "stream",
     "text": [
      "unique target values: [15  7  9 10  8 20 16 19 14 11 12 18 13  5  4  6 21 17 22  1  3 26 23 29\n",
      "  2 27 25 24]\n",
      "number of unique target values: 28\n"
     ]
    }
   ],
   "source": [
    "# unique values in the target:\n",
    "print(f\"unique target values: {target.unique()}\") \n",
    "print(f\"number of unique target values: {len(target.unique())}\")"
   ]
  },
  {
   "cell_type": "markdown",
   "metadata": {},
   "source": [
    "Replace the categorial values in the \"Sex\" column by one-hot-encoding:"
   ]
  },
  {
   "cell_type": "code",
   "execution_count": 6,
   "metadata": {},
   "outputs": [
    {
     "data": {
      "text/html": [
       "<div>\n",
       "<style scoped>\n",
       "    .dataframe tbody tr th:only-of-type {\n",
       "        vertical-align: middle;\n",
       "    }\n",
       "\n",
       "    .dataframe tbody tr th {\n",
       "        vertical-align: top;\n",
       "    }\n",
       "\n",
       "    .dataframe thead th {\n",
       "        text-align: right;\n",
       "    }\n",
       "</style>\n",
       "<table border=\"1\" class=\"dataframe\">\n",
       "  <thead>\n",
       "    <tr style=\"text-align: right;\">\n",
       "      <th></th>\n",
       "      <th>Length</th>\n",
       "      <th>Diameter</th>\n",
       "      <th>Height</th>\n",
       "      <th>Whole</th>\n",
       "      <th>Shucked</th>\n",
       "      <th>Viscera</th>\n",
       "      <th>Shell</th>\n",
       "      <th>sex__F</th>\n",
       "      <th>sex__I</th>\n",
       "      <th>sex__M</th>\n",
       "    </tr>\n",
       "  </thead>\n",
       "  <tbody>\n",
       "    <tr>\n",
       "      <th>0</th>\n",
       "      <td>0.455</td>\n",
       "      <td>0.365</td>\n",
       "      <td>0.095</td>\n",
       "      <td>0.5140</td>\n",
       "      <td>0.2245</td>\n",
       "      <td>0.1010</td>\n",
       "      <td>0.150</td>\n",
       "      <td>0.0</td>\n",
       "      <td>0.0</td>\n",
       "      <td>1.0</td>\n",
       "    </tr>\n",
       "    <tr>\n",
       "      <th>1</th>\n",
       "      <td>0.350</td>\n",
       "      <td>0.265</td>\n",
       "      <td>0.090</td>\n",
       "      <td>0.2255</td>\n",
       "      <td>0.0995</td>\n",
       "      <td>0.0485</td>\n",
       "      <td>0.070</td>\n",
       "      <td>0.0</td>\n",
       "      <td>0.0</td>\n",
       "      <td>1.0</td>\n",
       "    </tr>\n",
       "    <tr>\n",
       "      <th>2</th>\n",
       "      <td>0.530</td>\n",
       "      <td>0.420</td>\n",
       "      <td>0.135</td>\n",
       "      <td>0.6770</td>\n",
       "      <td>0.2565</td>\n",
       "      <td>0.1415</td>\n",
       "      <td>0.210</td>\n",
       "      <td>1.0</td>\n",
       "      <td>0.0</td>\n",
       "      <td>0.0</td>\n",
       "    </tr>\n",
       "    <tr>\n",
       "      <th>3</th>\n",
       "      <td>0.440</td>\n",
       "      <td>0.365</td>\n",
       "      <td>0.125</td>\n",
       "      <td>0.5160</td>\n",
       "      <td>0.2155</td>\n",
       "      <td>0.1140</td>\n",
       "      <td>0.155</td>\n",
       "      <td>0.0</td>\n",
       "      <td>0.0</td>\n",
       "      <td>1.0</td>\n",
       "    </tr>\n",
       "    <tr>\n",
       "      <th>4</th>\n",
       "      <td>0.330</td>\n",
       "      <td>0.255</td>\n",
       "      <td>0.080</td>\n",
       "      <td>0.2050</td>\n",
       "      <td>0.0895</td>\n",
       "      <td>0.0395</td>\n",
       "      <td>0.055</td>\n",
       "      <td>0.0</td>\n",
       "      <td>1.0</td>\n",
       "      <td>0.0</td>\n",
       "    </tr>\n",
       "  </tbody>\n",
       "</table>\n",
       "</div>"
      ],
      "text/plain": [
       "   Length  Diameter  Height   Whole  Shucked  Viscera  Shell  sex__F  sex__I  \\\n",
       "0   0.455     0.365   0.095  0.5140   0.2245   0.1010  0.150     0.0     0.0   \n",
       "1   0.350     0.265   0.090  0.2255   0.0995   0.0485  0.070     0.0     0.0   \n",
       "2   0.530     0.420   0.135  0.6770   0.2565   0.1415  0.210     1.0     0.0   \n",
       "3   0.440     0.365   0.125  0.5160   0.2155   0.1140  0.155     0.0     0.0   \n",
       "4   0.330     0.255   0.080  0.2050   0.0895   0.0395  0.055     0.0     1.0   \n",
       "\n",
       "   sex__M  \n",
       "0     1.0  \n",
       "1     1.0  \n",
       "2     0.0  \n",
       "3     1.0  \n",
       "4     0.0  "
      ]
     },
     "execution_count": 6,
     "metadata": {},
     "output_type": "execute_result"
    }
   ],
   "source": [
    "data = pd.get_dummies(data, columns=[\"Sex\"], prefix=['sex_'], dtype=float)\n",
    "data.head()"
   ]
  },
  {
   "cell_type": "markdown",
   "metadata": {},
   "source": [
    "Split the data into training and test and validation data:"
   ]
  },
  {
   "cell_type": "code",
   "execution_count": 7,
   "metadata": {},
   "outputs": [
    {
     "data": {
      "text/plain": [
       "((2923, 10), (1254, 10), (2923,), (1254,))"
      ]
     },
     "execution_count": 7,
     "metadata": {},
     "output_type": "execute_result"
    }
   ],
   "source": [
    "from sklearn.model_selection import train_test_split\n",
    "\n",
    "rnd_state = 42\n",
    "\n",
    "X_train, X_test, y_train, y_test = train_test_split(data.to_numpy(), target.to_numpy(), test_size=0.3, random_state=rnd_state)\n",
    "\n",
    "X_train.shape, X_test.shape, y_train.shape, y_test.shape"
   ]
  },
  {
   "cell_type": "code",
   "execution_count": 8,
   "metadata": {},
   "outputs": [
    {
     "data": {
      "text/plain": [
       "((1003, 10), (251, 10), (1003,), (251,))"
      ]
     },
     "execution_count": 8,
     "metadata": {},
     "output_type": "execute_result"
    }
   ],
   "source": [
    "# splitting off validation data:\n",
    "\n",
    "val_size = 0.2\n",
    "\n",
    "X_test, X_val, y_test, y_val = train_test_split(X_test, y_test, test_size=val_size, random_state=rnd_state)\n",
    "\n",
    "X_test.shape, X_val.shape, y_test.shape, y_val.shape"
   ]
  },
  {
   "cell_type": "markdown",
   "metadata": {},
   "source": [
    "## Spot-Shooting Algorithms ##"
   ]
  },
  {
   "cell_type": "markdown",
   "metadata": {},
   "source": [
    "To hit exactly the right age (number of rings) is difficult for a regression algorithm. To improve, we use range-binning. <br>\n",
    "Define helper functions, \"binIndex\" and the \"vectorized\" version \"binIndexVec\", to find the bin in which a value lies:"
   ]
  },
  {
   "cell_type": "code",
   "execution_count": 9,
   "metadata": {},
   "outputs": [],
   "source": [
    "import helperFunctions as hf"
   ]
  },
  {
   "cell_type": "markdown",
   "metadata": {},
   "source": [
    "(For examples of usage of the helper functions: see the commented code in the helperFunctions.py file)"
   ]
  },
  {
   "cell_type": "markdown",
   "metadata": {},
   "source": [
    "### Spot-Shooting Classifiers vs Binned Regressors:\n",
    "\n",
    "We use some classifiers and some regressors without any regularization and hyper-parameter tuning, to get an overview what might work on this dataset. <br>\n",
    "The classifiers take the number of rings as class-labels. <br>\n",
    "The regressors take the number of rings simply as numbers. To hit the right number is of course difficult/ improbable and we split the range in smaler intervalls, \"bins\", counting the prediction as a correct classification, if it is in the right intervall. "
   ]
  },
  {
   "cell_type": "code",
   "execution_count": null,
   "metadata": {},
   "outputs": [],
   "source": [
    "# without cross-validation:\n",
    "\n",
    "import helperFunctions as hf\n",
    "\n",
    "from sklearn.preprocessing import StandardScaler\n",
    "from sklearn.pipeline import Pipeline\n",
    "from sklearn.metrics import accuracy_score\n",
    "\n",
    "from sklearn.linear_model import LogisticRegression, LinearRegression\n",
    "from sklearn.svm import SVR, SVC\n",
    "from sklearn.tree import DecisionTreeClassifier, DecisionTreeRegressor\n",
    "from sklearn.ensemble import RandomForestClassifier, RandomForestRegressor, GradientBoostingClassifier, GradientBoostingRegressor\n",
    "from sklearn.neighbors import KNeighborsClassifier, KNeighborsRegressor\n",
    "from sklearn.naive_bayes import GaussianNB\n",
    "from sklearn.neural_network import MLPClassifier, MLPRegressor\n",
    "\n",
    "# spot shotting classifiers first and binned regressors second:\n",
    "\n",
    "rings_intervalls = np.arange(0.5, 30, step=1)\n",
    "accuracies = {}\n",
    "\n",
    "classifiers = {\n",
    "    \"logistic_reg\" : LogisticRegression(solver=\"sag\", max_iter=100, random_state=42, multi_class=\"multinomial\"), # pre-defined parameters to avoid some warnings\n",
    "    \"decision_tree_clf\" : DecisionTreeClassifier(),\n",
    "    \"support_vec_clf\" : SVC(),\n",
    "    \"random_forrest_clf\" : RandomForestClassifier(),\n",
    "    \"gradient_boosting_clf\" : GradientBoostingClassifier(),\n",
    "    \"k_NN_clf\" : KNeighborsClassifier(),\n",
    "    \"naive_bayes_clf\" : GaussianNB(),\n",
    "    \"neural_network_clf\" : MLPClassifier()\n",
    "}\n",
    "\n",
    "regressors = {\n",
    "    \"linear_reg\" : LinearRegression(),\n",
    "    \"support_vec_reg\" : SVR(),\n",
    "    \"decision_tree_reg\" : DecisionTreeRegressor(),\n",
    "    \"random_forrest_reg\" : RandomForestRegressor(),\n",
    "    \"gradient_boosting_reg\" : GradientBoostingRegressor(),\n",
    "    \"k_NN_reg\" : KNeighborsRegressor(),\n",
    "    \"neural_network_reg\" : MLPRegressor()\n",
    "}\n",
    "\n",
    "for clf_name, clf_instance in classifiers.items():\n",
    "    classifier = Pipeline([\n",
    "        (\"ssc\", StandardScaler()), # standard scaler because of \"sag\"-solver\n",
    "        (clf_name, clf_instance)\n",
    "    ])\n",
    "\n",
    "    classifier.fit(X_train, y_train)\n",
    "\n",
    "    # print prediction :\n",
    "    y_pred = classifier.predict(X_test)\n",
    "    accuracies[clf_name] = accuracy_score(y_true=y_test, y_pred=y_pred)\n",
    "\n",
    "\n",
    "for reg_name, reg_instance in regressors.items():\n",
    "    regressor = Pipeline([\n",
    "        (\"ssc\", StandardScaler()), \n",
    "        (reg_name, reg_instance)\n",
    "    ])\n",
    "\n",
    "    regressor.fit(X_train, y_train)\n",
    "\n",
    "    # print prediction accuracy:\n",
    "    y_pred = regressor.predict(X_test)\n",
    "    y_pred_discrete = hf.binIndexVec(y_pred, rings_intervalls)\n",
    "\n",
    "    accuracies[reg_name] = accuracy_score(y_true=y_test, y_pred=y_pred_discrete)\n",
    "\n",
    "print(\"--- Accuracies without cross-validation: ---\")\n",
    "for name, acc in accuracies.items():\n",
    "    print(f\"{name} : {acc:.2f}\")"
   ]
  },
  {
   "cell_type": "markdown",
   "metadata": {},
   "source": [
    "#### Results of Spot-Shooting:\n",
    "\n",
    "| Classifier | Accuracy Class. | Accuracy Reg. | Regressor w. Binning |\n",
    "| -----------| --------------- | --------------|--------------------- |\n",
    "| logistic_reg | 0.29 | 0.25|linear_reg|\n",
    "| decision_tree_clf | 0.20| 0.16|decision_tree_reg|\n",
    "| support_vec_clf | 0.30 | 0.22|support_vec_reg|\n",
    "|random_forrest_clf| 0.25| 0.25 |random_forrest_reg|\n",
    "|gradient_boosting_clf| 0.27| 0.26|gradient_boosting_reg|\n",
    "|k_NN_clf| 0.23| 0.23 |k_NN_reg|\n",
    "|Naive_Bayes_clf| 0.10|-|-|\n",
    "|neural_network_clf| 0.29| 0.23 |neural_network_reg|"
   ]
  },
  {
   "cell_type": "markdown",
   "metadata": {},
   "source": [
    "#### Findings Classifier vs. Binned Regressor:\n",
    "We see that the classifiers have better accuracy than the binned regressors:"
   ]
  },
  {
   "cell_type": "code",
   "execution_count": 19,
   "metadata": {},
   "outputs": [
    {
     "name": "stdout",
     "output_type": "stream",
     "text": [
      "mean accuracies of classifiers 0.262\n",
      "mean accuracies of binned regressors 0.228\n",
      "Difference in accuracy: 0.034\n"
     ]
    }
   ],
   "source": [
    "acc_values = np.array(list(accuracies.values()))\n",
    "mean_acc_clf = np.delete(acc_values[0:8],6).mean() # removed the naive_base_cl value\n",
    "mean_acc_reg = acc_values[8:].mean()\n",
    "print(f\"mean accuracies of classifiers {mean_acc_clf:.3f}\")\n",
    "print(f\"mean accuracies of binned regressors {mean_acc_reg:.3f}\")\n",
    "print(f\"Difference in accuracy: {mean_acc_clf - mean_acc_reg:.3f}\")\n"
   ]
  },
  {
   "cell_type": "markdown",
   "metadata": {},
   "source": [
    "output from last cell: <br>\n",
    "mean accuracies of classifiers 0.262 <br>\n",
    "mean accuracies of binned regressors 0.228 <br>\n",
    "Difference in accuracy: 0.034 <br>"
   ]
  },
  {
   "cell_type": "markdown",
   "metadata": {},
   "source": [
    "Nevertheless binned regressors like linear, random-forrest and gradient-bosting are in the same ballpark as the classifiers with about 25% accuracy.<br>\n",
    "It could be worth while to investigate, what can be done with them by optimizing and ensembling - where an ensemble of a mix of classifiers and regressors could<br>\n",
    "be especially interessting.<br>\n"
   ]
  },
  {
   "cell_type": "markdown",
   "metadata": {},
   "source": [
    "### Spot-Shooting Classifiers with Cross-Validation\n",
    "\n",
    "Since the classifiers seem to work better on this dataset than the binned regressors, we continue with the classifiers only. <br> \n",
    "In order to get a more reliable estimation for the accuracy of a model we use cross-validation."
   ]
  },
  {
   "cell_type": "code",
   "execution_count": null,
   "metadata": {},
   "outputs": [],
   "source": [
    "# with crossvalidation\n",
    "\n",
    "from sklearn.preprocessing import StandardScaler\n",
    "from sklearn.pipeline import Pipeline\n",
    "from sklearn.linear_model import LogisticRegression\n",
    "from sklearn.svm import SVR, SVC\n",
    "from sklearn.tree import DecisionTreeClassifier\n",
    "from sklearn.ensemble import RandomForestClassifier, GradientBoostingClassifier\n",
    "from sklearn.neighbors import KNeighborsClassifier\n",
    "from sklearn.naive_bayes import GaussianNB\n",
    "from sklearn.neural_network import MLPClassifier\n",
    "from sklearn.model_selection import cross_val_score\n",
    "\n",
    "accuracies = {}\n",
    "validation_folds = 10\n",
    "\n",
    "print(f\"--- Using Classifiers with {validation_folds}-fold Cross-Validation ---\")\n",
    "\n",
    "classifiers = {\n",
    "    \"logistic_reg\" : LogisticRegression(solver=\"sag\", max_iter=100, random_state=42, multi_class=\"multinomial\"), # pre-defined parameters to avoid some warnings\n",
    "    \"decision_tree_clf\" : DecisionTreeClassifier(),\n",
    "    \"support_vec_clf\" : SVC(),\n",
    "    \"random_forrest_clf\" : RandomForestClassifier(),\n",
    "    \"gradient_boosting_clf\" : GradientBoostingClassifier(),\n",
    "    \"k_NN_clf\" : KNeighborsClassifier(),\n",
    "    \"naive_bayes_clf\" : GaussianNB(),\n",
    "    \"neural_network_clf\" : MLPClassifier()\n",
    "}\n",
    "\n",
    "for clf_name, clf_instance in classifiers.items():\n",
    "    classifier = Pipeline([\n",
    "        (\"ssc\", StandardScaler()), # standard scaler because of \"sag\"-solver\n",
    "        (clf_name, clf_instance)\n",
    "    ])\n",
    "\n",
    "    accuracy = cross_val_score(classifier, X_train, y_train, scoring= \"accuracy\", cv = validation_folds)\n",
    "\n",
    "    accuracies[clf_name] = accuracy.mean()\n",
    "\n",
    "print(\"--- Accuracies with cross-validation: ---\")\n",
    "for name, acc in accuracies.items():\n",
    "    print(f\"{name} : {acc:.2f}\")"
   ]
  },
  {
   "cell_type": "markdown",
   "metadata": {},
   "source": [
    "#### Results Spot-Shooting with Crossvalidation:\n",
    "\n",
    "-- we have a bunch of non-convergence warnings, that still have to be understood -- <br>\n",
    "\n",
    "--- Accuracies with cross-validation: --- <br>\n",
    "logistic_reg : 0.26 <br>\n",
    "decision_tree_clf : 0.19 <br>\n",
    "support_vec_clf : 0.26 <br>\n",
    "random_forrest_clf : 0.24 <br>\n",
    "gradient_boosting_clf : 0.25 <br>\n",
    "k_NN_clf : 0.22 <br>\n",
    "naive_bayes_clf : 0.10 <br>\n",
    "neural_network_clf : 0.24 <br>"
   ]
  },
  {
   "cell_type": "markdown",
   "metadata": {},
   "source": [
    "#### ToDos: \n",
    "+ find/ define/ use some statistical tests to assess significance of differences in results"
   ]
  },
  {
   "attachments": {},
   "cell_type": "markdown",
   "metadata": {},
   "source": [
    "### Sum-Up Spot Shoting: \n",
    "\n",
    "#### Accuracies of different models without and with cross-validation:\n",
    "| Model                     | Accuracy wo CV | Accuracy w CV |\n",
    "| ------------------------- | -------------- | ------------- |\n",
    "| support_vec_classifier    |           0.30 |          0.26 |\n",
    "| logistic_reg              |           0.29 |          0.26 |\n",
    "| neural_network_clf        |           0.29 |          0.24 |\n",
    "| gradient_boosting_clf     |           0.27 |          0.25 |\n",
    "| random_forrest_clf        |           0.25 |          0.24 |\n",
    "| k_NN_clf                  |           0.23 |          0.22 |\n",
    "| decision_tree_clf         |           0.20 |          0.19 |\n",
    "| Naive_Bayes_clf           |           0.10 |          0.10 |\n",
    "\n",
    "\n",
    "\n",
    "When I tried to use the binned regressors I got non-convergence errors for all of them - since we do not include the binning in the pipeline, they simply do not hit the targets exactly. <br>\n",
    "All accuracies decreased by 1 or 2 percent when doing cross-validation. This is expected because every single model can be expected to accquire some form of overfitting, which is averaged out by cross-validation<br>\n",
    "<br>\n",
    "\n",
    "#### The top algorithms by accuracy are:\n",
    "| Model                     | Accuracy no CV | Accuracy w CV |\n",
    "| ------------------------- | -------------- | ------------- |\n",
    "| support_vec_classifier    |           0.30 |          0.26 |\n",
    "| logistic_reg              |           0.29 |          0.26 |\n",
    "| neural_network_clf        |           0.29 |          0.24 |\n",
    "| gradient_boosting_clf     |           0.27 |          0.25 |\n",
    "\n",
    "<br>\n",
    "Other classifiers not yet been tested could be: XGBoost, Polynomial-Regression classifier."
   ]
  },
  {
   "cell_type": "markdown",
   "metadata": {},
   "source": [
    "## More on Correlation and Linearity... ##"
   ]
  },
  {
   "cell_type": "markdown",
   "metadata": {},
   "source": [
    "### Correlation and Linearity of Models ###\n",
    "\n",
    "Because of the relatively strong performance of the linear regression model, it might be worth while to look at the correlation matrix of the data. High correlation of variables means an almost linear relationship, which could give us a hint, in how far a linear model can be usefull."
   ]
  },
  {
   "cell_type": "markdown",
   "metadata": {},
   "source": [
    "#### Plot the Correlation Matrix for the Data"
   ]
  },
  {
   "cell_type": "code",
   "execution_count": 16,
   "metadata": {},
   "outputs": [
    {
     "data": {
      "text/plain": [
       "<AxesSubplot:>"
      ]
     },
     "execution_count": 16,
     "metadata": {},
     "output_type": "execute_result"
    },
    {
     "data": {
      "image/png": "[encoded data removed]",
      "text/plain": [
       "<Figure size 640x480 with 2 Axes>"
      ]
     },
     "metadata": {},
     "output_type": "display_data"
    }
   ],
   "source": [
    "import seaborn as sns\n",
    "sns.heatmap(data.corr(), cmap=\"YlGnBu\", annot=True)"
   ]
  },
  {
   "cell_type": "markdown",
   "metadata": {},
   "source": [
    "All columns of the data are highly correlated with each other except for the column \"Sex\". <br> \n",
    "Obviously they are all connected to a more general variable we could call \"size\" (assuming that there are some more or less constant <br>\n",
    "proportions for an abalone...): <br>\n",
    "<br>\n",
    "*This connection to some sort of \"size\" could mean, that we should try polynomial-regression* (seeing \"size\" as volume or surface-area) or we could try to reduce the <br> \n",
    "number of variables: maybe there is not much to discover from anything more but one of them, say \"Length\". <br>"
   ]
  },
  {
   "cell_type": "markdown",
   "metadata": {},
   "source": [
    "### Let's look at the correlation of each feature with the target:"
   ]
  },
  {
   "cell_type": "markdown",
   "metadata": {},
   "source": [
    "add the target to the data (again):"
   ]
  },
  {
   "cell_type": "code",
   "execution_count": 17,
   "metadata": {},
   "outputs": [],
   "source": [
    "data_target = pd.concat([data, target], axis=1)"
   ]
  },
  {
   "cell_type": "markdown",
   "metadata": {},
   "source": [
    "calculate and draw the correlation matrix:"
   ]
  },
  {
   "cell_type": "code",
   "execution_count": 18,
   "metadata": {},
   "outputs": [
    {
     "data": {
      "text/plain": [
       "<AxesSubplot:>"
      ]
     },
     "execution_count": 18,
     "metadata": {},
     "output_type": "execute_result"
    },
    {
     "data": {
      "image/png": "[encoded data removed]",
      "text/plain": [
       "<Figure size 640x480 with 2 Axes>"
      ]
     },
     "metadata": {},
     "output_type": "display_data"
    }
   ],
   "source": [
    "sns.heatmap(data_target.corr(), cmap=\"YlGnBu\", annot=True)"
   ]
  },
  {
   "cell_type": "markdown",
   "metadata": {},
   "source": [
    "The parameters \"Length\", \"Diameter\", \"Height\", \"Whole\" and \"Shell\" have the strongest correlation with the target variable \"rings\" - albeit considerably lower than with eachother. <br>\n",
    "We can try to see how much can be predicted from only these variables with highest correlation. We start with only one, the most correlated one, \"Shell\", and ta"
   ]
  },
  {
   "cell_type": "markdown",
   "metadata": {},
   "source": [
    "Length, Diameter, Height, Whole, Shell , [0, 1, 2, 3, 6]"
   ]
  },
  {
   "cell_type": "code",
   "execution_count": 19,
   "metadata": {},
   "outputs": [
    {
     "data": {
      "text/plain": [
       "array([[ 2,  4],\n",
       "       [ 6,  8],\n",
       "       [10, 12]])"
      ]
     },
     "execution_count": 19,
     "metadata": {},
     "output_type": "execute_result"
    }
   ],
   "source": [
    "ar = np.array([[1,2,3,4], [5,6,7,8], [9,10,11,12]])\n",
    "ar[:, [1,3]]"
   ]
  },
  {
   "cell_type": "markdown",
   "metadata": {},
   "source": [
    "### Predictions With Only One Feature ###\n",
    "\n",
    "We have high correlations of the age/rings with \"shell\", \"diameter\", \"hight\", \"length\". <br>\n",
    "How about just using the \"shell\" as the single feature to predict age?"
   ]
  },
  {
   "cell_type": "code",
   "execution_count": 20,
   "metadata": {},
   "outputs": [
    {
     "data": {
      "text/html": [
       "<div>\n",
       "<style scoped>\n",
       "    .dataframe tbody tr th:only-of-type {\n",
       "        vertical-align: middle;\n",
       "    }\n",
       "\n",
       "    .dataframe tbody tr th {\n",
       "        vertical-align: top;\n",
       "    }\n",
       "\n",
       "    .dataframe thead th {\n",
       "        text-align: right;\n",
       "    }\n",
       "</style>\n",
       "<table border=\"1\" class=\"dataframe\">\n",
       "  <thead>\n",
       "    <tr style=\"text-align: right;\">\n",
       "      <th></th>\n",
       "      <th>Length</th>\n",
       "      <th>Diameter</th>\n",
       "      <th>Height</th>\n",
       "      <th>Whole</th>\n",
       "      <th>Shucked</th>\n",
       "      <th>Viscera</th>\n",
       "      <th>Shell</th>\n",
       "      <th>sex__F</th>\n",
       "      <th>sex__I</th>\n",
       "      <th>sex__M</th>\n",
       "    </tr>\n",
       "  </thead>\n",
       "  <tbody>\n",
       "    <tr>\n",
       "      <th>0</th>\n",
       "      <td>0.455</td>\n",
       "      <td>0.365</td>\n",
       "      <td>0.095</td>\n",
       "      <td>0.5140</td>\n",
       "      <td>0.2245</td>\n",
       "      <td>0.1010</td>\n",
       "      <td>0.150</td>\n",
       "      <td>0.0</td>\n",
       "      <td>0.0</td>\n",
       "      <td>1.0</td>\n",
       "    </tr>\n",
       "    <tr>\n",
       "      <th>1</th>\n",
       "      <td>0.350</td>\n",
       "      <td>0.265</td>\n",
       "      <td>0.090</td>\n",
       "      <td>0.2255</td>\n",
       "      <td>0.0995</td>\n",
       "      <td>0.0485</td>\n",
       "      <td>0.070</td>\n",
       "      <td>0.0</td>\n",
       "      <td>0.0</td>\n",
       "      <td>1.0</td>\n",
       "    </tr>\n",
       "    <tr>\n",
       "      <th>2</th>\n",
       "      <td>0.530</td>\n",
       "      <td>0.420</td>\n",
       "      <td>0.135</td>\n",
       "      <td>0.6770</td>\n",
       "      <td>0.2565</td>\n",
       "      <td>0.1415</td>\n",
       "      <td>0.210</td>\n",
       "      <td>1.0</td>\n",
       "      <td>0.0</td>\n",
       "      <td>0.0</td>\n",
       "    </tr>\n",
       "    <tr>\n",
       "      <th>3</th>\n",
       "      <td>0.440</td>\n",
       "      <td>0.365</td>\n",
       "      <td>0.125</td>\n",
       "      <td>0.5160</td>\n",
       "      <td>0.2155</td>\n",
       "      <td>0.1140</td>\n",
       "      <td>0.155</td>\n",
       "      <td>0.0</td>\n",
       "      <td>0.0</td>\n",
       "      <td>1.0</td>\n",
       "    </tr>\n",
       "    <tr>\n",
       "      <th>4</th>\n",
       "      <td>0.330</td>\n",
       "      <td>0.255</td>\n",
       "      <td>0.080</td>\n",
       "      <td>0.2050</td>\n",
       "      <td>0.0895</td>\n",
       "      <td>0.0395</td>\n",
       "      <td>0.055</td>\n",
       "      <td>0.0</td>\n",
       "      <td>1.0</td>\n",
       "      <td>0.0</td>\n",
       "    </tr>\n",
       "  </tbody>\n",
       "</table>\n",
       "</div>"
      ],
      "text/plain": [
       "   Length  Diameter  Height   Whole  Shucked  Viscera  Shell  sex__F  sex__I  \\\n",
       "0   0.455     0.365   0.095  0.5140   0.2245   0.1010  0.150     0.0     0.0   \n",
       "1   0.350     0.265   0.090  0.2255   0.0995   0.0485  0.070     0.0     0.0   \n",
       "2   0.530     0.420   0.135  0.6770   0.2565   0.1415  0.210     1.0     0.0   \n",
       "3   0.440     0.365   0.125  0.5160   0.2155   0.1140  0.155     0.0     0.0   \n",
       "4   0.330     0.255   0.080  0.2050   0.0895   0.0395  0.055     0.0     1.0   \n",
       "\n",
       "   sex__M  \n",
       "0     1.0  \n",
       "1     1.0  \n",
       "2     0.0  \n",
       "3     1.0  \n",
       "4     0.0  "
      ]
     },
     "execution_count": 20,
     "metadata": {},
     "output_type": "execute_result"
    }
   ],
   "source": [
    "data.head()"
   ]
  },
  {
   "cell_type": "code",
   "execution_count": 21,
   "metadata": {},
   "outputs": [
    {
     "data": {
      "text/plain": [
       "((2923, 1), (1254, 1), (2923,), (1254,))"
      ]
     },
     "execution_count": 21,
     "metadata": {},
     "output_type": "execute_result"
    }
   ],
   "source": [
    "from sklearn.model_selection import train_test_split\n",
    "\n",
    "rnd_state = 42\n",
    "\n",
    "data_shell = data[\"Shell\"].to_numpy()\n",
    "\n",
    "X_train_shell, X_test_shell, y_train_shell, y_test_shell = train_test_split(data_shell, target.to_numpy(), test_size=0.3, random_state=rnd_state)\n",
    "X_train_shell = np.expand_dims(X_train_shell, axis=1)\n",
    "X_test_shell = np.expand_dims(X_test_shell, axis=1)\n",
    "\n",
    "X_train_shell.shape, X_test_shell.shape, y_train_shell.shape, y_test_shell.shape"
   ]
  },
  {
   "cell_type": "code",
   "execution_count": 22,
   "metadata": {},
   "outputs": [
    {
     "name": "stdout",
     "output_type": "stream",
     "text": [
      "--- Accuracies without cross-validation: ---\n",
      "logistic_reg : 0.26\n",
      "decision_tree_clf : 0.22\n",
      "support_vec_clf : 0.29\n",
      "random_forrest_clf : 0.21\n",
      "gradient_boosting_clf : 0.24\n",
      "k_NN_clf : 0.22\n",
      "naive_bayes_clf : 0.27\n",
      "neural_network_clf : 0.28\n",
      "linear_reg : 0.26\n",
      "support_vec_reg : 0.26\n",
      "decision_tree_reg : 0.18\n",
      "random_forrest_reg : 0.21\n",
      "gradient_boosting_reg : 0.25\n",
      "k_NN_reg : 0.22\n",
      "neural_network_reg : 0.26\n"
     ]
    }
   ],
   "source": [
    "# without cross-validation:\n",
    "\n",
    "# TRAINING ON ONLY ONE FEATURE OF THE DATA.\n",
    "\n",
    "from sklearn.preprocessing import StandardScaler\n",
    "from sklearn.pipeline import Pipeline\n",
    "from sklearn.linear_model import LogisticRegression, LinearRegression\n",
    "from sklearn.svm import SVR, SVC\n",
    "from sklearn.tree import DecisionTreeClassifier, DecisionTreeRegressor\n",
    "from sklearn.ensemble import RandomForestClassifier, RandomForestRegressor, GradientBoostingClassifier, GradientBoostingRegressor\n",
    "from sklearn.neighbors import KNeighborsClassifier, KNeighborsRegressor\n",
    "from sklearn.naive_bayes import GaussianNB\n",
    "from sklearn.neural_network import MLPClassifier, MLPRegressor\n",
    "from sklearn.metrics import accuracy_score\n",
    "\n",
    "\n",
    "rings_intervalls = np.arange(0.5, 30, step=1)\n",
    "accuracies = {}\n",
    "\n",
    "classifiers = {\n",
    "    \"logistic_reg\" : LogisticRegression(solver=\"sag\", max_iter=100, random_state=42, multi_class=\"multinomial\"),\n",
    "    \"decision_tree_clf\" : DecisionTreeClassifier(),\n",
    "    \"support_vec_clf\" : SVC(),\n",
    "    \"random_forrest_clf\" : RandomForestClassifier(),\n",
    "    \"gradient_boosting_clf\" : GradientBoostingClassifier(),\n",
    "    \"k_NN_clf\" : KNeighborsClassifier(),\n",
    "    \"naive_bayes_clf\" : GaussianNB(),\n",
    "    \"neural_network_clf\" : MLPClassifier()\n",
    "}\n",
    "\n",
    "regressors = {\n",
    "    \"linear_reg\" : LinearRegression(),\n",
    "    \"support_vec_reg\" : SVR(),\n",
    "    \"decision_tree_reg\" : DecisionTreeRegressor(),\n",
    "    \"random_forrest_reg\" : RandomForestRegressor(),\n",
    "    \"gradient_boosting_reg\" : GradientBoostingRegressor(),\n",
    "    \"k_NN_reg\" : KNeighborsRegressor(),\n",
    "    \"neural_network_reg\" : MLPRegressor()\n",
    "}\n",
    "\n",
    "accuracies = hf.spot_shot_classifiers(classifiers, X_train_shell, X_test_shell, y_train_shell, y_test_shell)\n",
    "accuracies = { **accuracies, **hf.spot_shot_regressors(regressors, rings_intervalls, X_train_shell, X_test_shell, y_train_shell, y_test_shell)}\n",
    "\n",
    "print(\"--- Accuracies without cross-validation: ---\")\n",
    "for name, acc in accuracies.items():\n",
    "    print(f\"{name} : {acc:.2f}\")"
   ]
  },
  {
   "cell_type": "markdown",
   "metadata": {},
   "source": [
    "##### Accuracies of predicitons based on only one feature (without cross-validation):\n",
    "\n",
    "| Model                     | Accuracy All Features  | Accuracy \"Shell\" |Accuracy Difference |\n",
    "| ------------------------- | ---------------------- | ---------------- | ------------------ |\n",
    "| support_vec_classifier    |                   0.30 |             0.29 |              -0.01 |\n",
    "| logistic_reg              |                   0.29 |             0.26 |              -0.03 |\n",
    "| neural_network_clf        |                   0.29 |             0.29 |               0.00 |\n",
    "| gradient_boosting_clf     |                   0.27 |             0.24 |              -0.03 |\n",
    "| gradient_boosting_reg     |                   0.26 |             0.25 |              -0.01 |\n",
    "| linear_reg                |                   0.25 |             0.25 |               0.00 |\n",
    "| random_forrest_reg        |                   0.25 |             0.21 |              -0.04 |\n",
    "| random_forrest_clf        |                   0.25 |             0.22 |              -0.03 |\n",
    "| k_NN_clf                  |                   0.23 |             0.22 |              -0.01 |\n",
    "| k_NN_reg                  |                   0.23 |             0.22 |              -0.01 |\n",
    "| neural_network_reg        |                   0.23 |             0.26 |              +0.03 |\n",
    "| support_vec_reg           |                   0.22 |             0.26 |              +0.04 |\n",
    "| decision_tree_clf         |                   0.20 |             0.22 |              +0.02 |\n",
    "| decision_tree_reg         |                   0.16 |             0.18 |              +0.02 |\n",
    "| Naive_Bayes_clf           |                   0.10 |             0.27 |              +0.17 |"
   ]
  },
  {
   "cell_type": "markdown",
   "metadata": {},
   "source": [
    "#### Findings:\n",
    "The loss in accuracy is not overwhelming for any of the models - maybe except for the random-forrest regressor: 4% total or some 18%-points. <br> \n",
    "How a decision-tree model with only one feature works is unclear to me. It is interessting though, that the Naive-Bayes Classifier on one feature <br>\n",
    "is as good as a gradient-boosting-classifier on all features and only 3%, i.e. 10%-points worse than the best support-vector-classifier on all features. <br>\n",
    "<br>\n",
    "**Nonetheless: these are only values from one-time training, i.e. their stability/ significance is completely unclear.** <br>\n",
    " <br>\n",
    "**We need statistical checks, otherwise this is just reading tea leaves...**\n"
   ]
  },
  {
   "cell_type": "markdown",
   "metadata": {},
   "source": [
    "#### ToDos: ####\n",
    "1. A feature-selection algorithm like \"Boruta\" (usefull for this case? most/any case?) might be used to try to find the most informative features\n",
    "2. esthablish statistical significance tests for the results!"
   ]
  },
  {
   "cell_type": "markdown",
   "metadata": {},
   "source": [
    "## Improving Results ##"
   ]
  },
  {
   "cell_type": "markdown",
   "metadata": {},
   "source": [
    "### Further possible improvements: ###\n",
    "\n",
    "1. use PolynomialFeatures: <br>\n",
    "1.1 use features with high correlation to target <br>\n",
    "1.2 use features to test the idea of \"size\" being a predictor, i.e. Length, Diameter, Height <br>\n",
    "2. use regularization: non-negative least squares, ridge, lasso, elastic-net\n",
    "3. use Bayesian Regression (to chose a different type of regression from scikit) ?\n",
    "https://scikit-learn.org/stable/modules/linear_model.html#bayesian-regression"
   ]
  },
  {
   "cell_type": "markdown",
   "metadata": {},
   "source": [
    "### Augmenting the Data-Set by Polynomial Features"
   ]
  },
  {
   "cell_type": "markdown",
   "metadata": {},
   "source": []
  },
  {
   "cell_type": "code",
   "execution_count": 23,
   "metadata": {},
   "outputs": [
    {
     "data": {
      "text/plain": [
       "(2923, 3)"
      ]
     },
     "execution_count": 23,
     "metadata": {},
     "output_type": "execute_result"
    }
   ],
   "source": [
    "#X_train_poly = X_train[:, [0, 1, 2, 3, 6]] #Length, Diameter, Height, Whole, Shell : \"5 Selec\"\n",
    "X_train_poly = X_train[:, [0, 1, 2]] #Length, Diameter, Height : \"3 Selec\"\n",
    "X_train_poly.shape"
   ]
  },
  {
   "cell_type": "code",
   "execution_count": 24,
   "metadata": {},
   "outputs": [],
   "source": [
    "from sklearn.preprocessing import PolynomialFeatures\n",
    "\n",
    "poly = PolynomialFeatures(degree=3, interaction_only=True, )\n",
    "\n",
    "X_train_poly = poly.fit_transform(X_train_poly)\n"
   ]
  },
  {
   "cell_type": "code",
   "execution_count": 25,
   "metadata": {},
   "outputs": [
    {
     "name": "stdout",
     "output_type": "stream",
     "text": [
      "--- Using Classifiers and binned Regressors with Cross-Validation ---\n"
     ]
    },
    {
     "name": "stderr",
     "output_type": "stream",
     "text": [
      "c:\\Users\\Hal9\\anaconda3\\envs\\condaPytorchEnv\\lib\\site-packages\\sklearn\\model_selection\\_split.py:725: UserWarning: The least populated class in y has only 1 members, which is less than n_splits=10.\n",
      "  warnings.warn(\n",
      "c:\\Users\\Hal9\\anaconda3\\envs\\condaPytorchEnv\\lib\\site-packages\\sklearn\\linear_model\\_sag.py:350: ConvergenceWarning: The max_iter was reached which means the coef_ did not converge\n",
      "  warnings.warn(\n"
     ]
    },
    {
     "name": "stderr",
     "output_type": "stream",
     "text": [
      "c:\\Users\\Hal9\\anaconda3\\envs\\condaPytorchEnv\\lib\\site-packages\\sklearn\\linear_model\\_sag.py:350: ConvergenceWarning: The max_iter was reached which means the coef_ did not converge\n",
      "  warnings.warn(\n",
      "c:\\Users\\Hal9\\anaconda3\\envs\\condaPytorchEnv\\lib\\site-packages\\sklearn\\linear_model\\_sag.py:350: ConvergenceWarning: The max_iter was reached which means the coef_ did not converge\n",
      "  warnings.warn(\n",
      "c:\\Users\\Hal9\\anaconda3\\envs\\condaPytorchEnv\\lib\\site-packages\\sklearn\\linear_model\\_sag.py:350: ConvergenceWarning: The max_iter was reached which means the coef_ did not converge\n",
      "  warnings.warn(\n",
      "c:\\Users\\Hal9\\anaconda3\\envs\\condaPytorchEnv\\lib\\site-packages\\sklearn\\linear_model\\_sag.py:350: ConvergenceWarning: The max_iter was reached which means the coef_ did not converge\n",
      "  warnings.warn(\n",
      "c:\\Users\\Hal9\\anaconda3\\envs\\condaPytorchEnv\\lib\\site-packages\\sklearn\\linear_model\\_sag.py:350: ConvergenceWarning: The max_iter was reached which means the coef_ did not converge\n",
      "  warnings.warn(\n",
      "c:\\Users\\Hal9\\anaconda3\\envs\\condaPytorchEnv\\lib\\site-packages\\sklearn\\linear_model\\_sag.py:350: ConvergenceWarning: The max_iter was reached which means the coef_ did not converge\n",
      "  warnings.warn(\n",
      "c:\\Users\\Hal9\\anaconda3\\envs\\condaPytorchEnv\\lib\\site-packages\\sklearn\\linear_model\\_sag.py:350: ConvergenceWarning: The max_iter was reached which means the coef_ did not converge\n",
      "  warnings.warn(\n",
      "c:\\Users\\Hal9\\anaconda3\\envs\\condaPytorchEnv\\lib\\site-packages\\sklearn\\linear_model\\_sag.py:350: ConvergenceWarning: The max_iter was reached which means the coef_ did not converge\n",
      "  warnings.warn(\n",
      "c:\\Users\\Hal9\\anaconda3\\envs\\condaPytorchEnv\\lib\\site-packages\\sklearn\\linear_model\\_sag.py:350: ConvergenceWarning: The max_iter was reached which means the coef_ did not converge\n",
      "  warnings.warn(\n",
      "c:\\Users\\Hal9\\anaconda3\\envs\\condaPytorchEnv\\lib\\site-packages\\sklearn\\model_selection\\_split.py:725: UserWarning: The least populated class in y has only 1 members, which is less than n_splits=10.\n",
      "  warnings.warn(\n",
      "c:\\Users\\Hal9\\anaconda3\\envs\\condaPytorchEnv\\lib\\site-packages\\sklearn\\model_selection\\_split.py:725: UserWarning: The least populated class in y has only 1 members, which is less than n_splits=10.\n",
      "  warnings.warn(\n",
      "c:\\Users\\Hal9\\anaconda3\\envs\\condaPytorchEnv\\lib\\site-packages\\sklearn\\model_selection\\_split.py:725: UserWarning: The least populated class in y has only 1 members, which is less than n_splits=10.\n",
      "  warnings.warn(\n",
      "c:\\Users\\Hal9\\anaconda3\\envs\\condaPytorchEnv\\lib\\site-packages\\sklearn\\model_selection\\_split.py:725: UserWarning: The least populated class in y has only 1 members, which is less than n_splits=10.\n",
      "  warnings.warn(\n",
      "c:\\Users\\Hal9\\anaconda3\\envs\\condaPytorchEnv\\lib\\site-packages\\sklearn\\model_selection\\_split.py:725: UserWarning: The least populated class in y has only 1 members, which is less than n_splits=10.\n",
      "  warnings.warn(\n",
      "c:\\Users\\Hal9\\anaconda3\\envs\\condaPytorchEnv\\lib\\site-packages\\sklearn\\model_selection\\_split.py:725: UserWarning: The least populated class in y has only 1 members, which is less than n_splits=10.\n",
      "  warnings.warn(\n",
      "c:\\Users\\Hal9\\anaconda3\\envs\\condaPytorchEnv\\lib\\site-packages\\sklearn\\model_selection\\_split.py:725: UserWarning: The least populated class in y has only 1 members, which is less than n_splits=10.\n",
      "  warnings.warn(\n",
      "c:\\Users\\Hal9\\anaconda3\\envs\\condaPytorchEnv\\lib\\site-packages\\sklearn\\neural_network\\_multilayer_perceptron.py:691: ConvergenceWarning: Stochastic Optimizer: Maximum iterations (200) reached and the optimization hasn't converged yet.\n",
      "  warnings.warn(\n",
      "c:\\Users\\Hal9\\anaconda3\\envs\\condaPytorchEnv\\lib\\site-packages\\sklearn\\neural_network\\_multilayer_perceptron.py:691: ConvergenceWarning: Stochastic Optimizer: Maximum iterations (200) reached and the optimization hasn't converged yet.\n",
      "  warnings.warn(\n",
      "c:\\Users\\Hal9\\anaconda3\\envs\\condaPytorchEnv\\lib\\site-packages\\sklearn\\neural_network\\_multilayer_perceptron.py:691: ConvergenceWarning: Stochastic Optimizer: Maximum iterations (200) reached and the optimization hasn't converged yet.\n",
      "  warnings.warn(\n",
      "c:\\Users\\Hal9\\anaconda3\\envs\\condaPytorchEnv\\lib\\site-packages\\sklearn\\neural_network\\_multilayer_perceptron.py:691: ConvergenceWarning: Stochastic Optimizer: Maximum iterations (200) reached and the optimization hasn't converged yet.\n",
      "  warnings.warn(\n",
      "c:\\Users\\Hal9\\anaconda3\\envs\\condaPytorchEnv\\lib\\site-packages\\sklearn\\neural_network\\_multilayer_perceptron.py:691: ConvergenceWarning: Stochastic Optimizer: Maximum iterations (200) reached and the optimization hasn't converged yet.\n",
      "  warnings.warn(\n",
      "c:\\Users\\Hal9\\anaconda3\\envs\\condaPytorchEnv\\lib\\site-packages\\sklearn\\neural_network\\_multilayer_perceptron.py:691: ConvergenceWarning: Stochastic Optimizer: Maximum iterations (200) reached and the optimization hasn't converged yet.\n",
      "  warnings.warn(\n",
      "c:\\Users\\Hal9\\anaconda3\\envs\\condaPytorchEnv\\lib\\site-packages\\sklearn\\neural_network\\_multilayer_perceptron.py:691: ConvergenceWarning: Stochastic Optimizer: Maximum iterations (200) reached and the optimization hasn't converged yet.\n",
      "  warnings.warn(\n",
      "c:\\Users\\Hal9\\anaconda3\\envs\\condaPytorchEnv\\lib\\site-packages\\sklearn\\neural_network\\_multilayer_perceptron.py:691: ConvergenceWarning: Stochastic Optimizer: Maximum iterations (200) reached and the optimization hasn't converged yet.\n",
      "  warnings.warn(\n"
     ]
    },
    {
     "name": "stdout",
     "output_type": "stream",
     "text": [
      "--- Accuracies with cross-validation: ---\n",
      "logistic_reg : 0.25\n",
      "decision_tree_clf : 0.17\n",
      "support_vec_clf : 0.26\n",
      "random_forrest_clf : 0.19\n",
      "gradient_boosting_clf : 0.20\n",
      "k_NN_clf : 0.21\n",
      "naive_bayes_clf : 0.21\n",
      "neural_network_clf : 0.26\n"
     ]
    },
    {
     "name": "stderr",
     "output_type": "stream",
     "text": [
      "c:\\Users\\Hal9\\anaconda3\\envs\\condaPytorchEnv\\lib\\site-packages\\sklearn\\neural_network\\_multilayer_perceptron.py:691: ConvergenceWarning: Stochastic Optimizer: Maximum iterations (200) reached and the optimization hasn't converged yet.\n",
      "  warnings.warn(\n"
     ]
    }
   ],
   "source": [
    "# with crossvalidation\n",
    "\n",
    "import helperFunctions as hf\n",
    "\n",
    "from sklearn.preprocessing import StandardScaler\n",
    "from sklearn.pipeline import Pipeline\n",
    "from sklearn.linear_model import LogisticRegression, LinearRegression\n",
    "from sklearn.svm import SVR, SVC\n",
    "from sklearn.tree import DecisionTreeClassifier, DecisionTreeRegressor\n",
    "from sklearn.ensemble import RandomForestClassifier, RandomForestRegressor, GradientBoostingClassifier, GradientBoostingRegressor\n",
    "from sklearn.neighbors import KNeighborsClassifier, KNeighborsRegressor\n",
    "from sklearn.naive_bayes import GaussianNB\n",
    "from sklearn.neural_network import MLPClassifier, MLPRegressor\n",
    "from sklearn.metrics import accuracy_score, make_scorer\n",
    "from sklearn.model_selection import cross_val_score\n",
    "\n",
    "# spot shotting classifiers first and binned regressors second:\n",
    "\n",
    "accuracies = {}\n",
    "\n",
    "classifiers = {\n",
    "    \"logistic_reg\" : LogisticRegression(solver=\"sag\", max_iter=100, random_state=42, multi_class=\"multinomial\"),\n",
    "    \"decision_tree_clf\" : DecisionTreeClassifier(),\n",
    "    \"support_vec_clf\" : SVC(),\n",
    "    \"random_forrest_clf\" : RandomForestClassifier(),\n",
    "    \"gradient_boosting_clf\" : GradientBoostingClassifier(),\n",
    "    \"k_NN_clf\" : KNeighborsClassifier(),\n",
    "    \"naive_bayes_clf\" : GaussianNB(),\n",
    "    \"neural_network_clf\" : MLPClassifier()\n",
    "}\n",
    "\n",
    "for clf_name, clf_instance in classifiers.items():\n",
    "    classifier = Pipeline([\n",
    "        (\"ssc\", StandardScaler()), # standard scaler because of \"sag\"-solver\n",
    "        (clf_name, clf_instance)\n",
    "    ])\n",
    "\n",
    "    accuracy = cross_val_score(classifier, X_train_poly, y_train, scoring= \"accuracy\", cv = 10)\n",
    "\n",
    "    accuracies[clf_name] = accuracy.mean()\n",
    "\n",
    "print(\"--- Polynomial Features: Accuracies with Cross-Validation: ---\")\n",
    "for name, acc in accuracies.items():\n",
    "    print(f\"{name} : {acc:.2f}\")\n"
   ]
  },
  {
   "cell_type": "markdown",
   "metadata": {},
   "source": [
    "##### Accuracies of predicitons based on all features, only one feature and a selection of features (using polynomial features):\n",
    "\n",
    "| Model                     | Accuracy All | Accuracy \"Shell\" |Accuracy Diffs | Accuracy \"5 Selec\" |Accuracy Diffs |Accuracy \"3 Selec\" |Accuracy Diffs |\n",
    "| ------------------------- | ------------ | ---------------- | ------------- | ------------------ | ------------- | ----------------- | ------------- |\n",
    "| support_vec_classifier    |         0.30 |             0.29 |         -0.01 |               0.26 |         -0.04 |              0.26 |         -0.04 |\n",
    "| logistic_reg              |         0.29 |             0.26 |         -0.03 |               0.26 |         -0.04 |              0.25 |         -0.04 |\n",
    "| neural_network_clf        |         0.29 |             0.29 |          0.00 |               0.27 |         -0.02 |              0.25 |         -0.04 |\n",
    "| gradient_boosting_clf     |         0.27 |             0.24 |         -0.03 |               0.23 |         -0.04 |              0.20 |         -0.07 |\n",
    "| random_forrest_clf        |         0.25 |             0.22 |         -0.03 |               0.24 |         -0.01 |              0.19 |         -0.06 |\n",
    "| k_NN_clf                  |         0.23 |             0.22 |         -0.01 |               0.22 |         -0.01 |              0.21 |         -0.02 |\n",
    "| decision_tree_clf         |         0.20 |             0.22 |         +0.02 |               0.19 |         -0.01 |              0.17 |         -0.03 |\n",
    "| Naive_Bayes_clf           |         0.10 |             0.27 |         +0.17 |               0.14 |         +0.04 |              0.21 |          0.11 |\n",
    "\n"
   ]
  },
  {
   "cell_type": "markdown",
   "metadata": {},
   "source": [
    "Findings: <br>\n",
    "Polynomial features proved to be of no use - all the best classifiers performed worse than on the original features and worse than on the single feature <br> \"shell\" - that was chosen because of it's high correlation coefficient with the target (\"rings\"). The idea formulated before, that something like \"size\" could be a good predictor - i.e. stuff like width * length, windth * heigth * length, i.e. polynomials of 2nd and 3rd degree - is obviously wrong: the values in the column \"Accuracy \"3 Selec\" are proof of this."
   ]
  },
  {
   "cell_type": "markdown",
   "metadata": {},
   "source": [
    "### Support Vector Regression ###"
   ]
  },
  {
   "cell_type": "markdown",
   "metadata": {},
   "source": [
    "### Support Vector Regression with different Kernels ###"
   ]
  },
  {
   "cell_type": "code",
   "execution_count": 14,
   "metadata": {},
   "outputs": [
    {
     "name": "stderr",
     "output_type": "stream",
     "text": [
      "c:\\Users\\Hal9\\anaconda3\\envs\\condaPytorchEnv\\lib\\site-packages\\sklearn\\model_selection\\_split.py:725: UserWarning: The least populated class in y has only 1 members, which is less than n_splits=10.\n",
      "  warnings.warn(\n"
     ]
    },
    {
     "name": "stdout",
     "output_type": "stream",
     "text": [
      "Best estimator: Pipeline(steps=[('ssc', StandardScaler()), ('svc', SVC(C=900, kernel='poly'))])\n",
      "Best parameter training: {'svc__C': 900, 'svc__degree': 3, 'svc__kernel': 'poly'}\n",
      "Mean cross-validated score of the best_estimator: 0.27\n",
      "Score on testset: 0.266\n"
     ]
    }
   ],
   "source": [
    "from sklearn.preprocessing import StandardScaler\n",
    "from sklearn.model_selection import GridSearchCV\n",
    "from sklearn.pipeline import Pipeline\n",
    "from sklearn.svm import SVC\n",
    "\n",
    "\n",
    "pipe_svc = Pipeline([\n",
    "    (\"ssc\", StandardScaler()),\n",
    "    (\"svc\", SVC())\n",
    "])\n",
    "\n",
    "params = {\n",
    "    \"svc__C\" : [900],\n",
    "    \"svc__degree\" : [2, 3, 4],\n",
    "    \"svc__kernel\" : ['poly'],\n",
    "}\n",
    "\n",
    "svc_clf = GridSearchCV(pipe_svc, params, n_jobs=-1, cv=10, scoring=\"accuracy\")\n",
    "\n",
    "svc_clf.fit(X_train, y_train)\n",
    "\n",
    "print(f\"Best estimator: {svc_clf.best_estimator_}\")\n",
    "print(f\"Best parameter training: {svc_clf.best_params_}\")\n",
    "print(f\"Mean cross-validated score of the best_estimator: {svc_clf.best_score_ :.2f}\")\n",
    "print(f\"Score on testset: {svc_clf.score(X_test, y_test):.3f}\")\n"
   ]
  },
  {
   "cell_type": "markdown",
   "metadata": {},
   "source": [
    "Findings: <br>\n",
    "The C parameter (inverse regularizing - the larger C the less regularization) of 900 was found from [1, 100, 1000, 2000] and then [800, 850, 900, 950]. <br>\n",
    "Searching for optimal gamma-value with [0.001, 1, 100] was aborted because of run-times over 20 minutes without result. Even trying [1, 100] and finally [1] <br> resulted in long runtimes (over 20 minutes) which I don't understand. So I leave it to the default. <br>\n",
    "The best result with degree = 3 is: <br>\n",
    "Best parameter training: {'svc__C': 900, 'svc__kernel': 'poly'} <br>\n",
    "Mean cross-validated score of the best_estimator: 0.27 <br>\n",
    "Score on testset: 0.266 <br>\n",
    "runtime: 4m 6.3s <br>\n",
    "<br>\n",
    "Trying out: <br>\n",
    "params = { <br>\n",
    "    \"svc__C\" : [900], <br>\n",
    "    \"svc__degree\" : [2, 3, 4], <br>\n",
    "    \"svc__kernel\" : ['poly'], <br>\n",
    "} <br>\n",
    "<br>\n",
    "resulted in: <br>\n",
    "<br>\n",
    "Best parameter training: {'svc__C': 900, 'svc__degree': 3, 'svc__kernel': 'poly'} <br>\n",
    "Mean cross-validated score of the best_estimator: 0.27 <br>\n",
    "Score on testset: 0.266 <br>\n",
    "<br>\n",
    "So probably an accuray of 27% is the best we can get from the SVC.\n"
   ]
  },
  {
   "cell_type": "markdown",
   "metadata": {},
   "source": [
    "Supportvector Regressor based on a PCA (for what?) of the data:"
   ]
  },
  {
   "cell_type": "code",
   "execution_count": 43,
   "metadata": {},
   "outputs": [
    {
     "name": "stderr",
     "output_type": "stream",
     "text": [
      "c:\\Users\\Hal9\\anaconda3\\envs\\condaPytorchEnv\\lib\\site-packages\\sklearn\\model_selection\\_split.py:725: UserWarning: The least populated class in y has only 1 members, which is less than n_splits=10.\n",
      "  warnings.warn(\n"
     ]
    },
    {
     "name": "stdout",
     "output_type": "stream",
     "text": [
      "Best estimator: Pipeline(steps=[('pca', PCA(n_components=7)), ('ssc', StandardScaler()),\n",
      "                ('svc', SVC())])\n",
      "Best parameter training: {'pca__n_components': 7, 'svc__kernel': 'rbf'}\n",
      "Mean cross-validated score of the best_estimator: 0.27\n",
      "Score on testset: 0.304\n"
     ]
    }
   ],
   "source": [
    "# if kernel=None then by default kernel=\"rbf\" is used (see: https://scikit-learn.org/stable/modules/generated/sklearn.svm.SVR.html)\n",
    "# We try polynomial features.\n",
    "\n",
    "from sklearn.preprocessing import StandardScaler\n",
    "from sklearn.model_selection import GridSearchCV\n",
    "from sklearn.pipeline import Pipeline\n",
    "from sklearn.decomposition import PCA\n",
    "from sklearn.svm import SVC\n",
    "\n",
    "\n",
    "pipe_svc = Pipeline([\n",
    "    (\"pca\", PCA()),\n",
    "    (\"ssc\", StandardScaler()),\n",
    "    (\"svc\", SVC())\n",
    "\n",
    "])\n",
    "\n",
    "params = {\n",
    "    \"pca__n_components\" : np.arange(1,11),\n",
    "    \"svc__kernel\" : ['sigmoid', 'poly', 'rbf'],\n",
    "    #\"svr__degree\" : np.arange(2,6),\n",
    "}\n",
    "\n",
    "svc_clf = GridSearchCV(pipe_svc, params, n_jobs=-1, cv=10, scoring=\"accuracy\")\n",
    "\n",
    "svc_clf.fit(X_train, y_train)\n",
    "\n",
    "print(f\"Best estimator: {svc_clf.best_estimator_}\")\n",
    "print(f\"Best parameter training: {svc_clf.best_params_}\")\n",
    "print(f\"Mean cross-validated score of the best_estimator: {svc_clf.best_score_ :.2f}\")\n",
    "print(f\"Score on testset: {svc_clf.score(X_test, y_test):.3f}\")\n"
   ]
  },
  {
   "cell_type": "markdown",
   "metadata": {},
   "source": [
    "#### Results - SVR w Kernels:\n",
    "Best estimator: Pipeline(steps=[('pca', PCA(n_components=8)), ('ssc', StandardScaler()), ('svr', SVR())]) <br>\n",
    "Best parameter training: {'pca__n_components': 8, 'svr__kernel': 'rbf'} <br>\n",
    "Score on testset: 0.562 <br>\n",
    "Accuracy: 0.23 <br>"
   ]
  },
  {
   "cell_type": "markdown",
   "metadata": {},
   "source": [
    "### Ensembling Lin-Reg and SVR ###"
   ]
  },
  {
   "cell_type": "markdown",
   "metadata": {},
   "source": [
    "#### Bagging Linear-Regression ####"
   ]
  },
  {
   "cell_type": "code",
   "execution_count": null,
   "metadata": {},
   "outputs": [
    {
     "name": "stderr",
     "output_type": "stream",
     "text": [
      "c:\\Users\\Hal9\\anaconda3\\envs\\condaPytorchEnv\\lib\\site-packages\\sklearn\\ensemble\\_base.py:156: FutureWarning: `base_estimator` was renamed to `estimator` in version 1.2 and will be removed in 1.4.\n",
      "  warnings.warn(\n"
     ]
    },
    {
     "name": "stdout",
     "output_type": "stream",
     "text": [
      "Test score bag-linear-regressor: 0.546\n",
      "Accuracy: 0.26\n"
     ]
    }
   ],
   "source": [
    "from sklearn.pipeline import Pipeline\n",
    "from sklearn.decomposition import PCA\n",
    "from sklearn.preprocessing import StandardScaler\n",
    "from sklearn.cluster import KMeans\n",
    "from sklearn.linear_model import LinearRegression\n",
    "from sklearn.ensemble import BaggingRegressor\n",
    "\n",
    "\n",
    "pipe_lin_reg = Pipeline([\n",
    "    (\"pca\", PCA(n_components=8)),\n",
    "    (\"ssc\", StandardScaler()),\n",
    "    (\"kmeans\", KMeans()),\n",
    "    (\"linear_reg\", LinearRegression())\n",
    "])\n",
    "\n",
    "bag_lin_reg = BaggingRegressor(base_estimator=pipe_lin_reg, n_jobs=-1, n_estimators=10)\n",
    "bag_lin_reg.fit(X_train, y_train)\n",
    "\n",
    "print(f\"Test score bag-linear-regressor: {bag_lin_reg.score(X_test, y_test):.3f}\")\n",
    "\n",
    "age_bins = np.arange(0.5, 30, step=1)\n",
    "y_pred_discrete = binIndexVec(bag_lin_reg.predict(X_test), bin_edges=age_bins)\n",
    "print(f\"Accuracy: {accuracy_score(y_test, y_pred_discrete):.2f}\")\n",
    "\n",
    "\n",
    "# Result:\n",
    "# Test score bag-lin-regressor: 0.557\n",
    "# similar results for n_estimators = 50, 100"
   ]
  },
  {
   "cell_type": "markdown",
   "metadata": {},
   "source": [
    "#### Results - Bagging Linear Regressor:\n",
    "time: 1,9s <br>\n",
    "Test score bag-linear-regressor: 0.546 <br>\n",
    "Accuracy: 0.26 <br>"
   ]
  },
  {
   "cell_type": "code",
   "execution_count": null,
   "metadata": {},
   "outputs": [
    {
     "name": "stdout",
     "output_type": "stream",
     "text": [
      "Best parameters: {'kmeans__max_iter': 700, 'kmeans__n_clusters': 190}\n",
      "Best training-score: 0.433\n",
      "Score on test data: 0.459\n"
     ]
    }
   ],
   "source": [
    "from sklearn.model_selection import GridSearchCV\n",
    "\n",
    "params = {\n",
    "    \"pca__n_components\" : np.arange(10),\n",
    "    \"kmeans__n_clusters\" : np.arange(10, 150, 10),\n",
    "    \"kmeans__max_iter\" : np.arange(500, 800, 100),\n",
    "}\n",
    "\n",
    "#clf = GridSearchCV(pipe_lin_reg, params, n_jobs=-1, cv=10)\n",
    "\n",
    "#clf.fit(X_train, y_train)\n",
    "\n",
    "print(f\"Best parameters: {clf.best_params_}\")\n",
    "print(f\"Best training-score: {clf.best_score_:.3f}\")\n",
    "print(f\"Score on test data: {clf.score(X_test, y_test):.3f}\")"
   ]
  },
  {
   "cell_type": "markdown",
   "metadata": {},
   "source": [
    "#### Bagging Support Vector Regression ####"
   ]
  },
  {
   "cell_type": "code",
   "execution_count": null,
   "metadata": {},
   "outputs": [
    {
     "name": "stderr",
     "output_type": "stream",
     "text": [
      "c:\\Users\\Hal9\\anaconda3\\envs\\condaPytorchEnv\\lib\\site-packages\\sklearn\\ensemble\\_base.py:156: FutureWarning: `base_estimator` was renamed to `estimator` in version 1.2 and will be removed in 1.4.\n",
      "  warnings.warn(\n"
     ]
    },
    {
     "name": "stdout",
     "output_type": "stream",
     "text": [
      "Test score bag-sv-regressor: 0.561\n",
      "Accuracy: 0.22\n"
     ]
    }
   ],
   "source": [
    "from sklearn.preprocessing import StandardScaler\n",
    "from sklearn.pipeline import Pipeline\n",
    "from sklearn.decomposition import PCA\n",
    "from sklearn.svm import SVR\n",
    "from sklearn.ensemble import BaggingRegressor\n",
    "\n",
    "\n",
    "pipe_svr = Pipeline([\n",
    "    (\"pca\", PCA(n_components=8)),\n",
    "    (\"ssc\", StandardScaler()),\n",
    "    (\"svr\", SVR())\n",
    "])\n",
    "\n",
    "bag_svr = BaggingRegressor(base_estimator=pipe_svr, n_jobs=-1)\n",
    "bag_svr.fit(X_train, y_train)\n",
    "\n",
    "print(f\"Test score bag-sv-regressor: {bag_svr.score(X_test, y_test):.3f}\")\n",
    "\n",
    "age_bins = np.arange(0.5, 30, step=1)\n",
    "y_pred_discrete = binIndexVec(bag_svr.predict(X_test), bin_edges=age_bins)\n",
    "print(f\"Accuracy: {accuracy_score(y_test, y_pred_discrete):.2f}\")\n",
    "\n",
    "# Result:\n",
    "# 1.\n",
    "# n_estimators = 10\n",
    "# Test score bag-sv-regressor: 0.555\n",
    "# similar results with n_estimators = 30, 50, 100 "
   ]
  },
  {
   "cell_type": "markdown",
   "metadata": {},
   "source": [
    "#### Results - Bagging SVR:\n",
    "time: 2,2s <br>\n",
    "Test score bag-sv-regressor: 0.561 <br>\n",
    "Accuracy: 0.22 <br>"
   ]
  },
  {
   "cell_type": "markdown",
   "metadata": {},
   "source": [
    "### Ensembling by Voting: Lin-Reg and SVR ###"
   ]
  },
  {
   "cell_type": "code",
   "execution_count": null,
   "metadata": {},
   "outputs": [
    {
     "name": "stdout",
     "output_type": "stream",
     "text": [
      "Voting-Regressor score: 0.575\n",
      "Voting estimators: [Pipeline(steps=[('pca', PCA(n_components=8)), ('ssc', StandardScaler()),\n",
      "                ('kmeans', KMeans(max_iter=600, n_clusters=60)),\n",
      "                ('log_reg', LinearRegression())]), Pipeline(steps=[('pca', PCA(n_components=8)), ('ssc', StandardScaler()),\n",
      "                ('svr', SVR())])]\n",
      "Accuracy: 0.23\n"
     ]
    }
   ],
   "source": [
    "from sklearn.pipeline import Pipeline\n",
    "from sklearn.decomposition import PCA\n",
    "from sklearn.preprocessing import StandardScaler\n",
    "from sklearn.cluster import KMeans\n",
    "from sklearn.linear_model import LinearRegression\n",
    "from sklearn.svm import SVR\n",
    "from sklearn.ensemble import VotingRegressor\n",
    "\n",
    "pipe_lin_reg = Pipeline([\n",
    "    (\"pca\", PCA(n_components=8)),\n",
    "    (\"ssc\", StandardScaler()),\n",
    "    (\"kmeans\", KMeans(max_iter=600, n_clusters= 60)),\n",
    "    (\"log_reg\", LinearRegression())\n",
    "])\n",
    "\n",
    "pipe_svr = Pipeline([\n",
    "    (\"pca\", PCA(n_components=8)),\n",
    "    (\"ssc\", StandardScaler()),\n",
    "    (\"svr\", SVR())\n",
    "])\n",
    "\n",
    "vr_reg = VotingRegressor([(\"lin_reg\", pipe_lin_reg), (\"svr\", pipe_svr)], n_jobs=-1)\n",
    "vr_reg.fit(X_train, y_train)\n",
    "print(f\"Voting-Regressor score: {vr_reg.score(X_test, y_test):.3f}\")\n",
    "print(f\"Voting estimators: {vr_reg.estimators_}\")\n",
    "\n",
    "age_bins = np.arange(0.5, 30, step=1)\n",
    "y_pred_discrete = binIndexVec(vr_reg.predict(X_test), bin_edges=age_bins)\n",
    "print(f\"Accuracy: {accuracy_score(y_test, y_pred_discrete):.2f}\")\n",
    "\n",
    "# Result:\n",
    "# Voting-Regressor score: 0.578\n",
    "# Voting estimators: [Pipeline(steps=[('pca', PCA(n_components=8)), ('ssc', StandardScaler()),\n",
    "#                ('kmeans', KMeans(max_iter=600, n_clusters=60)),\n",
    "#                ('log_reg', LinearRegression())]), Pipeline(steps=[('pca', PCA(n_components=8)), ('ssc', StandardScaler()),\n",
    "#                ('svr', SVR())])]"
   ]
  },
  {
   "cell_type": "markdown",
   "metadata": {},
   "source": [
    "#### Result - Voting Regressor of Linear Regressor and SVR:\n",
    "Voting-Regressor score: 0.575 <br>\n",
    "Voting estimators: [Pipeline(steps=[('pca', PCA(n_components=8)), ('ssc', StandardScaler()), <br>\n",
    "('kmeans', KMeans(max_iter=600, n_clusters=60)), <br>\n",
    "('kmeans', KMeans(max_iter=600, n_clusters=60)), <br> \n",
    "('log_reg', LinearRegression())]),  <br>\n",
    "Pipeline(steps=[('pca', PCA(n_components=8)), ('ssc', StandardScaler()), ('svr', SVR())])]<br>\n",
    "Accuracy: 0.23 <br>"
   ]
  },
  {
   "cell_type": "markdown",
   "metadata": {},
   "source": [
    "### Sum-up Voting Regressor ###\n",
    "The voting-regressor consisting of a lin-reg and an svr does not do better than the lin-reg allone.\n",
    "<br>\n",
    "One reason might be, that both are doing well/not-so-well on the same sets of datapoints such that there is no gain in voting. <br> \n",
    "<br>\n",
    "Maybe we could improve by adding one of the weaker models to the ensemble (LogisticRegression, KNeighbourRegression, DecisionTreeRegression)"
   ]
  },
  {
   "cell_type": "markdown",
   "metadata": {},
   "source": [
    "## Save Model / Load Model ##"
   ]
  },
  {
   "cell_type": "code",
   "execution_count": null,
   "metadata": {},
   "outputs": [],
   "source": [
    "# save the model to disk:\n",
    "import pickle\n",
    "\n",
    "filename = 'votingRegressor.sav'\n",
    "pickle.dump(vr_reg, open(filename, 'wb'))"
   ]
  },
  {
   "cell_type": "code",
   "execution_count": null,
   "metadata": {},
   "outputs": [
    {
     "name": "stdout",
     "output_type": "stream",
     "text": [
      "0.576\n"
     ]
    }
   ],
   "source": [
    "# load the model from disk: \n",
    "import pickle\n",
    "\n",
    "loaded_model = pickle.load(open(filename, 'rb'))\n",
    "result = loaded_model.score(X_test, y_test)\n",
    "print(f\"{result:.3f}\")"
   ]
  },
  {
   "attachments": {},
   "cell_type": "markdown",
   "metadata": {},
   "source": [
    "# Neural Net Classifier #"
   ]
  },
  {
   "cell_type": "code",
   "execution_count": null,
   "metadata": {},
   "outputs": [
    {
     "data": {
      "text/plain": [
       "((3341, 10), (836, 10), (3341,), (836,), numpy.ndarray)"
      ]
     },
     "execution_count": 34,
     "metadata": {},
     "output_type": "execute_result"
    }
   ],
   "source": [
    "import pandas as pd\n",
    "import numpy as np\n",
    "from pathlib import Path\n",
    "\n",
    "columns = [\"Sex\", \"Length\", \"Diameter\", \"Height\", \"Whole\", \"Shucked\", \"Viscera\", \"Shell\", \"Rings\"]\n",
    "sourcepath = Path(r\"Data\\abalone.data\".replace(\"\\\\\", \"/\"))\n",
    "data = pd.read_csv(sourcepath, names=columns)\n",
    "# split off targets:\n",
    "targets = data.iloc[:,-1]\n",
    "data = data.iloc[:,:-1]\n",
    "\n",
    "# one-hot-encode Sex:\n",
    "data = pd.get_dummies(data)\n",
    "\n",
    "# train-test-split:\n",
    "from sklearn.model_selection import train_test_split\n",
    "\n",
    "random_seed = 42\n",
    "X_train, X_test, y_train, y_test = train_test_split(data.to_numpy(), targets.to_numpy(), test_size= 0.2, random_state=random_seed)\n",
    "X_train.shape, X_test.shape, y_train.shape, y_test.shape, type(X_train)"
   ]
  },
  {
   "cell_type": "code",
   "execution_count": null,
   "metadata": {},
   "outputs": [],
   "source": [
    "# Torch data-set definition:\n",
    "\n",
    "import torch\n",
    "from torch import nn\n",
    "from torchvision.io import read_image\n",
    "from torch.utils.data import Dataset, DataLoader, random_split\n",
    "\n",
    "import os\n",
    "import pandas as pd\n",
    "\n",
    "class AbaloneDataset(Dataset):\n",
    "    def __init__(self, data, targets, transform=None, target_transform=None):\n",
    "        self.y = targets\n",
    "        self.X = data\n",
    "        self.transform = transform\n",
    "        self.target_transform = target_transform\n",
    "\n",
    "    def __len__(self):\n",
    "        return len(self.y)\n",
    "\n",
    "    def __getitem__(self, idx):\n",
    "        data_record = self.X[idx,:]\n",
    "        target = self.y[idx]\n",
    "        if self.transform:\n",
    "            data_record = self.transform(data_record)\n",
    "        if self.target_transform:\n",
    "            target = self.target_transform(target)\n",
    "        return torch.tensor(data_record, dtype=torch.float32), torch.tensor(target, dtype=torch.float32)\n",
    "\n",
    "train = AbaloneDataset(X_train, y_train)\n",
    "test = AbaloneDataset(X_test, y_test)\n",
    "train_loader = DataLoader(train, batch_size=32, shuffle=True)\n",
    "test_loader = DataLoader(test, batch_size=64, shuffle=False)\n"
   ]
  },
  {
   "cell_type": "code",
   "execution_count": null,
   "metadata": {},
   "outputs": [],
   "source": [
    "# Model definition:\n",
    "\n",
    "class NeuralFC(nn.Module):\n",
    "    def __init__(self, input_dim) -> None:\n",
    "        super(NeuralFC, self).__init__()\n",
    "        self.linear_relu_stack = nn.Sequential(\n",
    "            nn.Linear(input_dim, 32),\n",
    "            nn.ReLU(),\n",
    "            nn.Linear(32,512),\n",
    "            nn.ReLU(),\n",
    "            nn.Linear(512,512),\n",
    "            nn.ReLU(),\n",
    "            nn.Linear(512,128),\n",
    "            nn.ReLU(),\n",
    "            nn.Linear(128,64),\n",
    "            nn.ReLU(),\n",
    "            nn.Linear(64, 1)\n",
    "        )\n",
    "\n",
    "    def forward(self,x):\n",
    "        age = self.linear_relu_stack(x)\n",
    "        return age\n",
    "\n",
    "\n",
    "in_dim = len(data.iloc[0].to_numpy())\n",
    "model = NeuralFC(in_dim)\n",
    "loss_fct = nn.MSELoss()\n",
    "#optimizer = torch.optim.SGD(model.parameters(), lr=0.01, momentum=0.9)\n",
    "optimizer = torch.optim.Adam(model.parameters())\n"
   ]
  },
  {
   "cell_type": "code",
   "execution_count": null,
   "metadata": {},
   "outputs": [
    {
     "name": "stdout",
     "output_type": "stream",
     "text": [
      "epoch: 0 - training-loss: 17.64\n",
      "epoch: 1 - training-loss: 8.23\n",
      "epoch: 10 - training-loss: 13.11\n",
      "epoch: 20 - training-loss: 15.75\n",
      "epoch: 30 - training-loss: 3.01\n",
      "epoch: 40 - training-loss: 13.30\n",
      "epoch: 50 - training-loss: 13.15\n",
      "epoch: 60 - training-loss: 6.39\n",
      "epoch: 70 - training-loss: 7.73\n",
      "epoch: 80 - training-loss: 11.79\n",
      "epoch: 90 - training-loss: 6.45\n"
     ]
    }
   ],
   "source": [
    "# training the model:\n",
    "\n",
    "epochs = range(100)\n",
    "\n",
    "for epoch in epochs:\n",
    "    loss = 0\n",
    "    for i, (inputs, targets) in enumerate(train_loader):\n",
    "        optimizer.zero_grad()\n",
    "        y_pred = model(inputs)\n",
    "        loss = loss_fct(y_pred, targets)\n",
    "        loss.backward()\n",
    "        optimizer.step()\n",
    "    if epoch == 1 or epoch % 10 == 0:\n",
    "            print(f\"epoch: {epoch} - training-loss: {loss:.2f}\")"
   ]
  },
  {
   "cell_type": "code",
   "execution_count": null,
   "metadata": {},
   "outputs": [],
   "source": [
    "# testing the models prediction accuracy on test-set:\n",
    "\n",
    "def MeanModelPredictionAccuracy(nmodel, test_loader, accepted_proximity= None):\n",
    "        predictions = []\n",
    "        actuals = []\n",
    "        if(not accepted_proximity):\n",
    "                accepted_proximity = 0\n",
    "\n",
    "        for i, (inputs, targets) in enumerate(test_loader):\n",
    "                y_pred = nmodel(inputs)\n",
    "                y_pred = y_pred.detach().numpy()\n",
    "                y_pred = y_pred.round()\n",
    "                predictions.append(y_pred)\n",
    "                actuals.append(targets.numpy())\n",
    "\n",
    "        predictions = np.concatenate(predictions)\n",
    "        actuals = np.concatenate(actuals)\n",
    "        hits = np.array([abs(p-a) <= accepted_proximity for p,a in zip(predictions, actuals)])\n",
    "        return hits.mean()"
   ]
  },
  {
   "cell_type": "code",
   "execution_count": null,
   "metadata": {},
   "outputs": [
    {
     "data": {
      "text/plain": [
       "0.5459443280454953"
      ]
     },
     "execution_count": 39,
     "metadata": {},
     "output_type": "execute_result"
    }
   ],
   "source": [
    "MeanModelPredictionAccuracy(model, train_loader, accepted_proximity=2.5) \n",
    "# the intervall of proximity is 2 times the accepted_proximity, i.e. we have a tollerance of 5 rings, when accepted_proximity=2.5"
   ]
  },
  {
   "cell_type": "code",
   "execution_count": null,
   "metadata": {},
   "outputs": [
    {
     "data": {
      "text/plain": [
       "0.11792876384316073"
      ]
     },
     "execution_count": 40,
     "metadata": {},
     "output_type": "execute_result"
    }
   ],
   "source": [
    "MeanModelPredictionAccuracy(model, train_loader, accepted_proximity=0.5) "
   ]
  }
 ],
 "metadata": {
  "kernelspec": {
   "display_name": "Python 3.10.4 ('condaPytorchEnv')",
   "language": "python",
   "name": "python3"
  },
  "language_info": {
   "codemirror_mode": {
    "name": "ipython",
    "version": 3
   },
   "file_extension": ".py",
   "mimetype": "text/x-python",
   "name": "python",
   "nbconvert_exporter": "python",
   "pygments_lexer": "ipython3",
   "version": "3.10.13"
  },
  "orig_nbformat": 4,
  "vscode": {
   "interpreter": {
    "hash": "df61620949cb14e55b843831dad5e2bfed0f7347786fc0c0d43a7e8bd69fd61c"
   }
  }
 },
 "nbformat": 4,
 "nbformat_minor": 2
}

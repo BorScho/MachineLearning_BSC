{
 "cells": [
  {
   "cell_type": "markdown",
   "metadata": {},
   "source": [
    "Data Source: https://archive.ics.uci.edu/dataset/732/darwin<br>\n",
    "<br>\n",
    "The DARWIN dataset includes handwriting data from 174 participants. The classification task consists in distinguishing Alzheimer’s disease patients from healthy people.<br>\n",
    "<br>\n",
    "Dataset Characteristics<br>\n",
    "Tabular\n",
    "<br>\n",
    "Subject Area<br>\n",
    "Health and Medicine<br>\n",
    "<br>\n",
    "Associated Tasks<br>\n",
    "Classification<br>\n",
    "<br>\n",
    "Feature Type<br>\n",
    "-<br>\n",
    "<br>\n",
    "Number of Instances<br>\n",
    "174<br>\n",
    "<br>\n",
    "Number of Features<br>\n",
    "451<br>"
   ]
  },
  {
   "cell_type": "markdown",
   "metadata": {},
   "source": [
    "Source of Original Paper: <br>\n",
    "* https://www.sciencedirect.com/science/article/abs/pii/S0952197622000902"
   ]
  },
  {
   "cell_type": "markdown",
   "metadata": {},
   "source": [
    "### Note: this data set has more features than instances"
   ]
  },
  {
   "cell_type": "markdown",
   "metadata": {},
   "source": [
    "## Data Loading"
   ]
  },
  {
   "cell_type": "code",
   "execution_count": 1,
   "metadata": {},
   "outputs": [],
   "source": [
    "# installer from uci:\n",
    "\n",
    "# pip install ucimlrepo"
   ]
  },
  {
   "cell_type": "code",
   "execution_count": 2,
   "metadata": {},
   "outputs": [
    {
     "data": {
      "text/plain": [
       "' \\nfrom ucimlrepo import fetch_ucirepo \\n  \\n# fetch dataset \\ndarwin = fetch_ucirepo(id=732) \\n  \\n# data (as pandas dataframes) \\nX = darwin.data.features \\ny = darwin.data.targets \\n  \\n# metadata \\nprint(darwin.metadata) \\n  \\n# variable information \\nprint(darwin.variables)  \\n'"
      ]
     },
     "execution_count": 2,
     "metadata": {},
     "output_type": "execute_result"
    }
   ],
   "source": [
    "# execute this cell to load the dataset from the internet into X and y (each time you execute this)\n",
    "\"\"\" \n",
    "from ucimlrepo import fetch_ucirepo \n",
    "  \n",
    "# fetch dataset \n",
    "darwin = fetch_ucirepo(id=732) \n",
    "  \n",
    "# data (as pandas dataframes) \n",
    "X = darwin.data.features \n",
    "y = darwin.data.targets \n",
    "  \n",
    "# metadata \n",
    "print(darwin.metadata) \n",
    "  \n",
    "# variable information \n",
    "print(darwin.variables)  \n",
    "\"\"\"\n"
   ]
  },
  {
   "cell_type": "code",
   "execution_count": 3,
   "metadata": {},
   "outputs": [
    {
     "data": {
      "text/html": [
       "<div>\n",
       "<style scoped>\n",
       "    .dataframe tbody tr th:only-of-type {\n",
       "        vertical-align: middle;\n",
       "    }\n",
       "\n",
       "    .dataframe tbody tr th {\n",
       "        vertical-align: top;\n",
       "    }\n",
       "\n",
       "    .dataframe thead th {\n",
       "        text-align: right;\n",
       "    }\n",
       "</style>\n",
       "<table border=\"1\" class=\"dataframe\">\n",
       "  <thead>\n",
       "    <tr style=\"text-align: right;\">\n",
       "      <th></th>\n",
       "      <th>ID</th>\n",
       "      <th>air_time1</th>\n",
       "      <th>disp_index1</th>\n",
       "      <th>gmrt_in_air1</th>\n",
       "      <th>gmrt_on_paper1</th>\n",
       "      <th>max_x_extension1</th>\n",
       "      <th>max_y_extension1</th>\n",
       "      <th>mean_acc_in_air1</th>\n",
       "      <th>mean_acc_on_paper1</th>\n",
       "      <th>mean_gmrt1</th>\n",
       "      <th>...</th>\n",
       "      <th>mean_jerk_in_air25</th>\n",
       "      <th>mean_jerk_on_paper25</th>\n",
       "      <th>mean_speed_in_air25</th>\n",
       "      <th>mean_speed_on_paper25</th>\n",
       "      <th>num_of_pendown25</th>\n",
       "      <th>paper_time25</th>\n",
       "      <th>pressure_mean25</th>\n",
       "      <th>pressure_var25</th>\n",
       "      <th>total_time25</th>\n",
       "      <th>class</th>\n",
       "    </tr>\n",
       "  </thead>\n",
       "  <tbody>\n",
       "    <tr>\n",
       "      <th>0</th>\n",
       "      <td>id_1</td>\n",
       "      <td>5160</td>\n",
       "      <td>0.000013</td>\n",
       "      <td>120.804174</td>\n",
       "      <td>86.853334</td>\n",
       "      <td>957</td>\n",
       "      <td>6601</td>\n",
       "      <td>0.361800</td>\n",
       "      <td>0.217459</td>\n",
       "      <td>103.828754</td>\n",
       "      <td>...</td>\n",
       "      <td>0.141434</td>\n",
       "      <td>0.024471</td>\n",
       "      <td>5.596487</td>\n",
       "      <td>3.184589</td>\n",
       "      <td>71</td>\n",
       "      <td>40120</td>\n",
       "      <td>1749.278166</td>\n",
       "      <td>296102.7676</td>\n",
       "      <td>144605</td>\n",
       "      <td>P</td>\n",
       "    </tr>\n",
       "    <tr>\n",
       "      <th>1</th>\n",
       "      <td>id_2</td>\n",
       "      <td>51980</td>\n",
       "      <td>0.000016</td>\n",
       "      <td>115.318238</td>\n",
       "      <td>83.448681</td>\n",
       "      <td>1694</td>\n",
       "      <td>6998</td>\n",
       "      <td>0.272513</td>\n",
       "      <td>0.144880</td>\n",
       "      <td>99.383459</td>\n",
       "      <td>...</td>\n",
       "      <td>0.049663</td>\n",
       "      <td>0.018368</td>\n",
       "      <td>1.665973</td>\n",
       "      <td>0.950249</td>\n",
       "      <td>129</td>\n",
       "      <td>126700</td>\n",
       "      <td>1504.768272</td>\n",
       "      <td>278744.2850</td>\n",
       "      <td>298640</td>\n",
       "      <td>P</td>\n",
       "    </tr>\n",
       "    <tr>\n",
       "      <th>2</th>\n",
       "      <td>id_3</td>\n",
       "      <td>2600</td>\n",
       "      <td>0.000010</td>\n",
       "      <td>229.933997</td>\n",
       "      <td>172.761858</td>\n",
       "      <td>2333</td>\n",
       "      <td>5802</td>\n",
       "      <td>0.387020</td>\n",
       "      <td>0.181342</td>\n",
       "      <td>201.347928</td>\n",
       "      <td>...</td>\n",
       "      <td>0.178194</td>\n",
       "      <td>0.017174</td>\n",
       "      <td>4.000781</td>\n",
       "      <td>2.392521</td>\n",
       "      <td>74</td>\n",
       "      <td>45480</td>\n",
       "      <td>1431.443492</td>\n",
       "      <td>144411.7055</td>\n",
       "      <td>79025</td>\n",
       "      <td>P</td>\n",
       "    </tr>\n",
       "    <tr>\n",
       "      <th>3</th>\n",
       "      <td>id_4</td>\n",
       "      <td>2130</td>\n",
       "      <td>0.000010</td>\n",
       "      <td>369.403342</td>\n",
       "      <td>183.193104</td>\n",
       "      <td>1756</td>\n",
       "      <td>8159</td>\n",
       "      <td>0.556879</td>\n",
       "      <td>0.164502</td>\n",
       "      <td>276.298223</td>\n",
       "      <td>...</td>\n",
       "      <td>0.113905</td>\n",
       "      <td>0.019860</td>\n",
       "      <td>4.206746</td>\n",
       "      <td>1.613522</td>\n",
       "      <td>123</td>\n",
       "      <td>67945</td>\n",
       "      <td>1465.843329</td>\n",
       "      <td>230184.7154</td>\n",
       "      <td>181220</td>\n",
       "      <td>P</td>\n",
       "    </tr>\n",
       "    <tr>\n",
       "      <th>4</th>\n",
       "      <td>id_5</td>\n",
       "      <td>2310</td>\n",
       "      <td>0.000007</td>\n",
       "      <td>257.997131</td>\n",
       "      <td>111.275889</td>\n",
       "      <td>987</td>\n",
       "      <td>4732</td>\n",
       "      <td>0.266077</td>\n",
       "      <td>0.145104</td>\n",
       "      <td>184.636510</td>\n",
       "      <td>...</td>\n",
       "      <td>0.121782</td>\n",
       "      <td>0.020872</td>\n",
       "      <td>3.319036</td>\n",
       "      <td>1.680629</td>\n",
       "      <td>92</td>\n",
       "      <td>37285</td>\n",
       "      <td>1841.702561</td>\n",
       "      <td>158290.0255</td>\n",
       "      <td>72575</td>\n",
       "      <td>P</td>\n",
       "    </tr>\n",
       "  </tbody>\n",
       "</table>\n",
       "<p>5 rows × 452 columns</p>\n",
       "</div>"
      ],
      "text/plain": [
       "     ID  air_time1  disp_index1  gmrt_in_air1  gmrt_on_paper1  \\\n",
       "0  id_1       5160     0.000013    120.804174       86.853334   \n",
       "1  id_2      51980     0.000016    115.318238       83.448681   \n",
       "2  id_3       2600     0.000010    229.933997      172.761858   \n",
       "3  id_4       2130     0.000010    369.403342      183.193104   \n",
       "4  id_5       2310     0.000007    257.997131      111.275889   \n",
       "\n",
       "   max_x_extension1  max_y_extension1  mean_acc_in_air1  mean_acc_on_paper1  \\\n",
       "0               957              6601          0.361800            0.217459   \n",
       "1              1694              6998          0.272513            0.144880   \n",
       "2              2333              5802          0.387020            0.181342   \n",
       "3              1756              8159          0.556879            0.164502   \n",
       "4               987              4732          0.266077            0.145104   \n",
       "\n",
       "   mean_gmrt1  ...  mean_jerk_in_air25  mean_jerk_on_paper25  \\\n",
       "0  103.828754  ...            0.141434              0.024471   \n",
       "1   99.383459  ...            0.049663              0.018368   \n",
       "2  201.347928  ...            0.178194              0.017174   \n",
       "3  276.298223  ...            0.113905              0.019860   \n",
       "4  184.636510  ...            0.121782              0.020872   \n",
       "\n",
       "   mean_speed_in_air25  mean_speed_on_paper25  num_of_pendown25  paper_time25  \\\n",
       "0             5.596487               3.184589                71         40120   \n",
       "1             1.665973               0.950249               129        126700   \n",
       "2             4.000781               2.392521                74         45480   \n",
       "3             4.206746               1.613522               123         67945   \n",
       "4             3.319036               1.680629                92         37285   \n",
       "\n",
       "   pressure_mean25  pressure_var25  total_time25  class  \n",
       "0      1749.278166     296102.7676        144605      P  \n",
       "1      1504.768272     278744.2850        298640      P  \n",
       "2      1431.443492     144411.7055         79025      P  \n",
       "3      1465.843329     230184.7154        181220      P  \n",
       "4      1841.702561     158290.0255         72575      P  \n",
       "\n",
       "[5 rows x 452 columns]"
      ]
     },
     "execution_count": 3,
     "metadata": {},
     "output_type": "execute_result"
    }
   ],
   "source": [
    "import pandas as pd\n",
    "import numpy as np\n",
    "from pathlib import Path\n",
    "\n",
    "#columns = [...]\n",
    "sourcepath = Path(r\".\\Data\\DARWIN\\DARWIN\\DARWIN.csv\".replace(\"\\\\\", \"/\"))\n",
    "data = pd.read_csv(sourcepath)\n",
    "\n",
    "data.head()"
   ]
  },
  {
   "cell_type": "markdown",
   "metadata": {},
   "source": [
    "The column with name \"class\" seems to be the target variable."
   ]
  },
  {
   "cell_type": "markdown",
   "metadata": {},
   "source": [
    "## To Do: \n",
    "1. wie kann man die vielen Spalten so organisieren, dass man immer 10 Stück ansehen kann? 452 Spalten sind nie auf einmal übersichtlich darstellbar.\n"
   ]
  },
  {
   "cell_type": "markdown",
   "metadata": {},
   "source": [
    "## Lots of features - we need dimension reduction:\n",
    "1. do a PCA and throw away the dimension with a contribution below a certain threshold\n",
    "2. try Boruta"
   ]
  },
  {
   "cell_type": "code",
   "execution_count": 4,
   "metadata": {},
   "outputs": [
    {
     "name": "stderr",
     "output_type": "stream",
     "text": [
      "c:\\Users\\Hal9\\anaconda3\\envs\\condaPytorchEnv\\lib\\site-packages\\xgboost\\compat.py:36: FutureWarning: pandas.Int64Index is deprecated and will be removed from pandas in a future version. Use pandas.Index with the appropriate dtype instead.\n",
      "  from pandas import MultiIndex, Int64Index\n"
     ]
    }
   ],
   "source": [
    "#import matplotlib.pyplot as plt # this calls PIL somewhen -- the major pain-in-the-ass library in the python universe...\n",
    "#import seaborn as sns # builds on matplotlib\n",
    "\n",
    "from sklearn.model_selection import train_test_split\n",
    "from sklearn.metrics import  accuracy_score ,recall_score, precision_score, f1_score \n",
    "from sklearn.decomposition import PCA\n",
    "import xgboost as xgb"
   ]
  },
  {
   "cell_type": "code",
   "execution_count": 5,
   "metadata": {},
   "outputs": [
    {
     "name": "stdout",
     "output_type": "stream",
     "text": [
      "Number of Columns that are  'int': 150\n",
      "Number of Columns that are  'object': 2\n",
      "Number of Columns that are  'float': 300\n"
     ]
    }
   ],
   "source": [
    "num_int = sum(data.dtypes == 'int64')\n",
    "num_object = sum(data.dtypes == 'object')\n",
    "num_float64 = sum(data.dtypes == 'float64')\n",
    "\n",
    "print(f\"Number of Columns that are  'int': {num_int}\")\n",
    "print(f\"Number of Columns that are  'object': {num_object}\")\n",
    "print(f\"Number of Columns that are  'float': {num_float64}\")"
   ]
  },
  {
   "cell_type": "code",
   "execution_count": 6,
   "metadata": {},
   "outputs": [
    {
     "data": {
      "text/plain": [
       "ID                 0\n",
       "air_time1          0\n",
       "disp_index1        0\n",
       "gmrt_in_air1       0\n",
       "gmrt_on_paper1     0\n",
       "                  ..\n",
       "paper_time25       0\n",
       "pressure_mean25    0\n",
       "pressure_var25     0\n",
       "total_time25       0\n",
       "class              0\n",
       "Length: 452, dtype: int64"
      ]
     },
     "execution_count": 6,
     "metadata": {},
     "output_type": "execute_result"
    }
   ],
   "source": [
    "data.isna().sum()"
   ]
  },
  {
   "cell_type": "markdown",
   "metadata": {},
   "source": [
    "No missing data!"
   ]
  },
  {
   "cell_type": "code",
   "execution_count": 7,
   "metadata": {},
   "outputs": [
    {
     "name": "stdout",
     "output_type": "stream",
     "text": [
      "['ID', 'class']\n"
     ]
    }
   ],
   "source": [
    "object_cols = data.select_dtypes(include='object').columns.tolist()\n",
    "# print the column names\n",
    "print(object_cols)"
   ]
  },
  {
   "cell_type": "markdown",
   "metadata": {},
   "source": [
    "Remove uninformative ID column:"
   ]
  },
  {
   "cell_type": "code",
   "execution_count": 8,
   "metadata": {},
   "outputs": [],
   "source": [
    "data.drop('ID',axis = 1 , inplace = True)"
   ]
  },
  {
   "cell_type": "markdown",
   "metadata": {},
   "source": [
    "Remove columns with low variance:"
   ]
  },
  {
   "cell_type": "code",
   "execution_count": 9,
   "metadata": {},
   "outputs": [],
   "source": [
    "# columns with a variance below this will be thrown out:\n",
    "\"\"\" low_threshold = 0.2\n",
    "\n",
    "variances = data.var(axis=0, numeric_only=True)\n",
    "low_variance_columns = variances[variances <= low_threshold].index\n",
    "df_high_var = data.drop(columns=low_variance_columns) \"\"\"\n",
    "\n",
    "variances = data.var(axis=0, numeric_only=True)\n",
    "nof_features = data.shape[1]\n",
    "nof_below_variance_features = np.zeros(10,)\n",
    "\n",
    "for i in range(0,10):\n",
    "    low_threshold = i * 0.1\n",
    "    low_variance_columns = variances[variances <= low_threshold].index\n",
    "    nof_below_variance_features[i] = nof_features - low_variance_columns.size\n"
   ]
  },
  {
   "cell_type": "code",
   "execution_count": 10,
   "metadata": {},
   "outputs": [
    {
     "data": {
      "text/plain": [
       "(174, 451)"
      ]
     },
     "execution_count": 10,
     "metadata": {},
     "output_type": "execute_result"
    }
   ],
   "source": [
    "data.shape"
   ]
  },
  {
   "cell_type": "code",
   "execution_count": 11,
   "metadata": {},
   "outputs": [
    {
     "data": {
      "text/plain": [
       "[<matplotlib.lines.Line2D at 0x20169504cd0>]"
      ]
     },
     "execution_count": 11,
     "metadata": {},
     "output_type": "execute_result"
    },
    {
     "data": {
      "image/png": "[encoded data removed]",
      "text/plain": [
       "<Figure size 640x480 with 1 Axes>"
      ]
     },
     "metadata": {},
     "output_type": "display_data"
    }
   ],
   "source": [
    "import matplotlib.pyplot as plt\n",
    "x=np.arange(0,1,0.1)\n",
    "\n",
    "plt.ylabel(\"Number of Columns Left\")\n",
    "plt.xlabel(\"Variance Threshold\")\n",
    "plt.plot(x,nof_below_variance_features)"
   ]
  },
  {
   "cell_type": "markdown",
   "metadata": {},
   "source": [
    "A variance threshold of 0.1 seems reasonable - we can get rid of 100 features - but there is little to gain to throw away features with variance higher than that."
   ]
  },
  {
   "cell_type": "code",
   "execution_count": 12,
   "metadata": {},
   "outputs": [],
   "source": [
    "low_variance_columns = variances[variances <= 0.8].index\n",
    "df_high_var = data.drop(columns=low_variance_columns)"
   ]
  },
  {
   "cell_type": "code",
   "execution_count": 13,
   "metadata": {},
   "outputs": [
    {
     "data": {
      "text/plain": [
       "0      P\n",
       "1      P\n",
       "2      P\n",
       "3      P\n",
       "4      P\n",
       "      ..\n",
       "169    H\n",
       "170    H\n",
       "171    H\n",
       "172    H\n",
       "173    H\n",
       "Name: class, Length: 174, dtype: object"
      ]
     },
     "execution_count": 13,
     "metadata": {},
     "output_type": "execute_result"
    }
   ],
   "source": [
    "y = df_high_var.iloc[:,-1]\n",
    "y"
   ]
  },
  {
   "cell_type": "code",
   "execution_count": 14,
   "metadata": {},
   "outputs": [
    {
     "data": {
      "text/html": [
       "<div>\n",
       "<style scoped>\n",
       "    .dataframe tbody tr th:only-of-type {\n",
       "        vertical-align: middle;\n",
       "    }\n",
       "\n",
       "    .dataframe tbody tr th {\n",
       "        vertical-align: top;\n",
       "    }\n",
       "\n",
       "    .dataframe thead th {\n",
       "        text-align: right;\n",
       "    }\n",
       "</style>\n",
       "<table border=\"1\" class=\"dataframe\">\n",
       "  <thead>\n",
       "    <tr style=\"text-align: right;\">\n",
       "      <th></th>\n",
       "      <th>air_time1</th>\n",
       "      <th>gmrt_in_air1</th>\n",
       "      <th>gmrt_on_paper1</th>\n",
       "      <th>max_x_extension1</th>\n",
       "      <th>max_y_extension1</th>\n",
       "      <th>mean_gmrt1</th>\n",
       "      <th>mean_speed_in_air1</th>\n",
       "      <th>mean_speed_on_paper1</th>\n",
       "      <th>num_of_pendown1</th>\n",
       "      <th>paper_time1</th>\n",
       "      <th>...</th>\n",
       "      <th>gmrt_on_paper25</th>\n",
       "      <th>max_x_extension25</th>\n",
       "      <th>max_y_extension25</th>\n",
       "      <th>mean_gmrt25</th>\n",
       "      <th>mean_speed_in_air25</th>\n",
       "      <th>num_of_pendown25</th>\n",
       "      <th>paper_time25</th>\n",
       "      <th>pressure_mean25</th>\n",
       "      <th>pressure_var25</th>\n",
       "      <th>total_time25</th>\n",
       "    </tr>\n",
       "  </thead>\n",
       "  <tbody>\n",
       "    <tr>\n",
       "      <th>0</th>\n",
       "      <td>5160</td>\n",
       "      <td>120.804174</td>\n",
       "      <td>86.853334</td>\n",
       "      <td>957</td>\n",
       "      <td>6601</td>\n",
       "      <td>103.828754</td>\n",
       "      <td>1.828076</td>\n",
       "      <td>1.493242</td>\n",
       "      <td>22</td>\n",
       "      <td>10730</td>\n",
       "      <td>...</td>\n",
       "      <td>219.829989</td>\n",
       "      <td>10066</td>\n",
       "      <td>13235</td>\n",
       "      <td>249.729085</td>\n",
       "      <td>5.596487</td>\n",
       "      <td>71</td>\n",
       "      <td>40120</td>\n",
       "      <td>1749.278166</td>\n",
       "      <td>296102.7676</td>\n",
       "      <td>144605</td>\n",
       "    </tr>\n",
       "    <tr>\n",
       "      <th>1</th>\n",
       "      <td>51980</td>\n",
       "      <td>115.318238</td>\n",
       "      <td>83.448681</td>\n",
       "      <td>1694</td>\n",
       "      <td>6998</td>\n",
       "      <td>99.383459</td>\n",
       "      <td>1.817744</td>\n",
       "      <td>1.517763</td>\n",
       "      <td>11</td>\n",
       "      <td>12460</td>\n",
       "      <td>...</td>\n",
       "      <td>68.398886</td>\n",
       "      <td>7365</td>\n",
       "      <td>15282</td>\n",
       "      <td>77.258394</td>\n",
       "      <td>1.665973</td>\n",
       "      <td>129</td>\n",
       "      <td>126700</td>\n",
       "      <td>1504.768272</td>\n",
       "      <td>278744.2850</td>\n",
       "      <td>298640</td>\n",
       "    </tr>\n",
       "    <tr>\n",
       "      <th>2</th>\n",
       "      <td>2600</td>\n",
       "      <td>229.933997</td>\n",
       "      <td>172.761858</td>\n",
       "      <td>2333</td>\n",
       "      <td>5802</td>\n",
       "      <td>201.347928</td>\n",
       "      <td>3.378343</td>\n",
       "      <td>3.308866</td>\n",
       "      <td>10</td>\n",
       "      <td>6080</td>\n",
       "      <td>...</td>\n",
       "      <td>171.954494</td>\n",
       "      <td>7688</td>\n",
       "      <td>14127</td>\n",
       "      <td>193.667018</td>\n",
       "      <td>4.000781</td>\n",
       "      <td>74</td>\n",
       "      <td>45480</td>\n",
       "      <td>1431.443492</td>\n",
       "      <td>144411.7055</td>\n",
       "      <td>79025</td>\n",
       "    </tr>\n",
       "    <tr>\n",
       "      <th>3</th>\n",
       "      <td>2130</td>\n",
       "      <td>369.403342</td>\n",
       "      <td>183.193104</td>\n",
       "      <td>1756</td>\n",
       "      <td>8159</td>\n",
       "      <td>276.298223</td>\n",
       "      <td>5.082499</td>\n",
       "      <td>3.542645</td>\n",
       "      <td>10</td>\n",
       "      <td>5595</td>\n",
       "      <td>...</td>\n",
       "      <td>118.573956</td>\n",
       "      <td>6397</td>\n",
       "      <td>14913</td>\n",
       "      <td>163.065803</td>\n",
       "      <td>4.206746</td>\n",
       "      <td>123</td>\n",
       "      <td>67945</td>\n",
       "      <td>1465.843329</td>\n",
       "      <td>230184.7154</td>\n",
       "      <td>181220</td>\n",
       "    </tr>\n",
       "    <tr>\n",
       "      <th>4</th>\n",
       "      <td>2310</td>\n",
       "      <td>257.997131</td>\n",
       "      <td>111.275889</td>\n",
       "      <td>987</td>\n",
       "      <td>4732</td>\n",
       "      <td>184.636510</td>\n",
       "      <td>3.804656</td>\n",
       "      <td>2.180544</td>\n",
       "      <td>8</td>\n",
       "      <td>4080</td>\n",
       "      <td>...</td>\n",
       "      <td>126.678802</td>\n",
       "      <td>4624</td>\n",
       "      <td>15532</td>\n",
       "      <td>147.094679</td>\n",
       "      <td>3.319036</td>\n",
       "      <td>92</td>\n",
       "      <td>37285</td>\n",
       "      <td>1841.702561</td>\n",
       "      <td>158290.0255</td>\n",
       "      <td>72575</td>\n",
       "    </tr>\n",
       "    <tr>\n",
       "      <th>...</th>\n",
       "      <td>...</td>\n",
       "      <td>...</td>\n",
       "      <td>...</td>\n",
       "      <td>...</td>\n",
       "      <td>...</td>\n",
       "      <td>...</td>\n",
       "      <td>...</td>\n",
       "      <td>...</td>\n",
       "      <td>...</td>\n",
       "      <td>...</td>\n",
       "      <td>...</td>\n",
       "      <td>...</td>\n",
       "      <td>...</td>\n",
       "      <td>...</td>\n",
       "      <td>...</td>\n",
       "      <td>...</td>\n",
       "      <td>...</td>\n",
       "      <td>...</td>\n",
       "      <td>...</td>\n",
       "      <td>...</td>\n",
       "      <td>...</td>\n",
       "    </tr>\n",
       "    <tr>\n",
       "      <th>169</th>\n",
       "      <td>2930</td>\n",
       "      <td>241.736477</td>\n",
       "      <td>176.115957</td>\n",
       "      <td>1839</td>\n",
       "      <td>6439</td>\n",
       "      <td>208.926217</td>\n",
       "      <td>4.074893</td>\n",
       "      <td>3.390491</td>\n",
       "      <td>12</td>\n",
       "      <td>5835</td>\n",
       "      <td>...</td>\n",
       "      <td>168.136630</td>\n",
       "      <td>7093</td>\n",
       "      <td>14889</td>\n",
       "      <td>200.568126</td>\n",
       "      <td>4.508709</td>\n",
       "      <td>96</td>\n",
       "      <td>44545</td>\n",
       "      <td>1798.923336</td>\n",
       "      <td>247448.3108</td>\n",
       "      <td>80335</td>\n",
       "    </tr>\n",
       "    <tr>\n",
       "      <th>170</th>\n",
       "      <td>2140</td>\n",
       "      <td>274.728964</td>\n",
       "      <td>234.495802</td>\n",
       "      <td>2053</td>\n",
       "      <td>8487</td>\n",
       "      <td>254.612383</td>\n",
       "      <td>4.149653</td>\n",
       "      <td>4.143594</td>\n",
       "      <td>10</td>\n",
       "      <td>4595</td>\n",
       "      <td>...</td>\n",
       "      <td>212.092561</td>\n",
       "      <td>7253</td>\n",
       "      <td>16567</td>\n",
       "      <td>231.243565</td>\n",
       "      <td>4.685573</td>\n",
       "      <td>84</td>\n",
       "      <td>37560</td>\n",
       "      <td>1725.619941</td>\n",
       "      <td>160664.6464</td>\n",
       "      <td>345835</td>\n",
       "    </tr>\n",
       "    <tr>\n",
       "      <th>171</th>\n",
       "      <td>3830</td>\n",
       "      <td>151.536989</td>\n",
       "      <td>171.104693</td>\n",
       "      <td>1287</td>\n",
       "      <td>7352</td>\n",
       "      <td>161.320841</td>\n",
       "      <td>2.041489</td>\n",
       "      <td>3.507108</td>\n",
       "      <td>14</td>\n",
       "      <td>4060</td>\n",
       "      <td>...</td>\n",
       "      <td>172.610040</td>\n",
       "      <td>6618</td>\n",
       "      <td>15141</td>\n",
       "      <td>177.935566</td>\n",
       "      <td>3.493815</td>\n",
       "      <td>88</td>\n",
       "      <td>51675</td>\n",
       "      <td>1915.573488</td>\n",
       "      <td>128727.1241</td>\n",
       "      <td>83445</td>\n",
       "    </tr>\n",
       "    <tr>\n",
       "      <th>172</th>\n",
       "      <td>1760</td>\n",
       "      <td>289.518195</td>\n",
       "      <td>196.411138</td>\n",
       "      <td>1674</td>\n",
       "      <td>6946</td>\n",
       "      <td>242.964666</td>\n",
       "      <td>4.385103</td>\n",
       "      <td>3.538417</td>\n",
       "      <td>8</td>\n",
       "      <td>4425</td>\n",
       "      <td>...</td>\n",
       "      <td>172.610040</td>\n",
       "      <td>6618</td>\n",
       "      <td>15141</td>\n",
       "      <td>177.935566</td>\n",
       "      <td>3.493815</td>\n",
       "      <td>88</td>\n",
       "      <td>51675</td>\n",
       "      <td>1915.573488</td>\n",
       "      <td>128727.1241</td>\n",
       "      <td>83445</td>\n",
       "    </tr>\n",
       "    <tr>\n",
       "      <th>173</th>\n",
       "      <td>2875</td>\n",
       "      <td>235.769350</td>\n",
       "      <td>178.208024</td>\n",
       "      <td>1838</td>\n",
       "      <td>6560</td>\n",
       "      <td>206.988687</td>\n",
       "      <td>4.898606</td>\n",
       "      <td>2.945370</td>\n",
       "      <td>12</td>\n",
       "      <td>4340</td>\n",
       "      <td>...</td>\n",
       "      <td>172.610040</td>\n",
       "      <td>6618</td>\n",
       "      <td>15141</td>\n",
       "      <td>177.935566</td>\n",
       "      <td>3.493815</td>\n",
       "      <td>88</td>\n",
       "      <td>51675</td>\n",
       "      <td>1915.573488</td>\n",
       "      <td>128727.1241</td>\n",
       "      <td>83445</td>\n",
       "    </tr>\n",
       "  </tbody>\n",
       "</table>\n",
       "<p>174 rows × 320 columns</p>\n",
       "</div>"
      ],
      "text/plain": [
       "     air_time1  gmrt_in_air1  gmrt_on_paper1  max_x_extension1  \\\n",
       "0         5160    120.804174       86.853334               957   \n",
       "1        51980    115.318238       83.448681              1694   \n",
       "2         2600    229.933997      172.761858              2333   \n",
       "3         2130    369.403342      183.193104              1756   \n",
       "4         2310    257.997131      111.275889               987   \n",
       "..         ...           ...             ...               ...   \n",
       "169       2930    241.736477      176.115957              1839   \n",
       "170       2140    274.728964      234.495802              2053   \n",
       "171       3830    151.536989      171.104693              1287   \n",
       "172       1760    289.518195      196.411138              1674   \n",
       "173       2875    235.769350      178.208024              1838   \n",
       "\n",
       "     max_y_extension1  mean_gmrt1  mean_speed_in_air1  mean_speed_on_paper1  \\\n",
       "0                6601  103.828754            1.828076              1.493242   \n",
       "1                6998   99.383459            1.817744              1.517763   \n",
       "2                5802  201.347928            3.378343              3.308866   \n",
       "3                8159  276.298223            5.082499              3.542645   \n",
       "4                4732  184.636510            3.804656              2.180544   \n",
       "..                ...         ...                 ...                   ...   \n",
       "169              6439  208.926217            4.074893              3.390491   \n",
       "170              8487  254.612383            4.149653              4.143594   \n",
       "171              7352  161.320841            2.041489              3.507108   \n",
       "172              6946  242.964666            4.385103              3.538417   \n",
       "173              6560  206.988687            4.898606              2.945370   \n",
       "\n",
       "     num_of_pendown1  paper_time1  ...  gmrt_on_paper25  max_x_extension25  \\\n",
       "0                 22        10730  ...       219.829989              10066   \n",
       "1                 11        12460  ...        68.398886               7365   \n",
       "2                 10         6080  ...       171.954494               7688   \n",
       "3                 10         5595  ...       118.573956               6397   \n",
       "4                  8         4080  ...       126.678802               4624   \n",
       "..               ...          ...  ...              ...                ...   \n",
       "169               12         5835  ...       168.136630               7093   \n",
       "170               10         4595  ...       212.092561               7253   \n",
       "171               14         4060  ...       172.610040               6618   \n",
       "172                8         4425  ...       172.610040               6618   \n",
       "173               12         4340  ...       172.610040               6618   \n",
       "\n",
       "     max_y_extension25  mean_gmrt25  mean_speed_in_air25  num_of_pendown25  \\\n",
       "0                13235   249.729085             5.596487                71   \n",
       "1                15282    77.258394             1.665973               129   \n",
       "2                14127   193.667018             4.000781                74   \n",
       "3                14913   163.065803             4.206746               123   \n",
       "4                15532   147.094679             3.319036                92   \n",
       "..                 ...          ...                  ...               ...   \n",
       "169              14889   200.568126             4.508709                96   \n",
       "170              16567   231.243565             4.685573                84   \n",
       "171              15141   177.935566             3.493815                88   \n",
       "172              15141   177.935566             3.493815                88   \n",
       "173              15141   177.935566             3.493815                88   \n",
       "\n",
       "     paper_time25  pressure_mean25  pressure_var25  total_time25  \n",
       "0           40120      1749.278166     296102.7676        144605  \n",
       "1          126700      1504.768272     278744.2850        298640  \n",
       "2           45480      1431.443492     144411.7055         79025  \n",
       "3           67945      1465.843329     230184.7154        181220  \n",
       "4           37285      1841.702561     158290.0255         72575  \n",
       "..            ...              ...             ...           ...  \n",
       "169         44545      1798.923336     247448.3108         80335  \n",
       "170         37560      1725.619941     160664.6464        345835  \n",
       "171         51675      1915.573488     128727.1241         83445  \n",
       "172         51675      1915.573488     128727.1241         83445  \n",
       "173         51675      1915.573488     128727.1241         83445  \n",
       "\n",
       "[174 rows x 320 columns]"
      ]
     },
     "execution_count": 14,
     "metadata": {},
     "output_type": "execute_result"
    }
   ],
   "source": [
    "X = df_high_var.iloc[:,:-1]\n",
    "X"
   ]
  },
  {
   "cell_type": "code",
   "execution_count": 15,
   "metadata": {},
   "outputs": [
    {
     "data": {
      "text/plain": [
       "'\\nssc = StandardScaler()\\nX_scaled = ssc.fit_transform(X)\\n'"
      ]
     },
     "execution_count": 15,
     "metadata": {},
     "output_type": "execute_result"
    }
   ],
   "source": [
    "# Separate features and target (if applicable)\n",
    "from sklearn.preprocessing import MinMaxScaler, StandardScaler\n",
    "\n",
    "mmc = MinMaxScaler()\n",
    "X_scaled = mmc.fit_transform(X)\n",
    "\n",
    "\"\"\"\n",
    "ssc = StandardScaler()\n",
    "X_scaled = ssc.fit_transform(X)\n",
    "\"\"\""
   ]
  },
  {
   "cell_type": "code",
   "execution_count": 16,
   "metadata": {},
   "outputs": [],
   "source": [
    "# Perform PCA\n",
    "\n",
    "pca = PCA(n_components=0.75, svd_solver = 'full')\n",
    "principal_components = pca.fit_transform(X_scaled)\n",
    "\n",
    "# Create a new DataFrame with the principal components\n",
    "pc_df = pd.DataFrame(data=principal_components, columns=[f'PC{i+1}' for i in range(pca.n_components_)])\n",
    "df_high_var['class'] = df_high_var['class'].replace({'H': 0, 'P': 1})\n",
    "pc_df['class'] = df_high_var['class']"
   ]
  },
  {
   "cell_type": "code",
   "execution_count": 17,
   "metadata": {},
   "outputs": [
    {
     "data": {
      "text/plain": [
       "(174, 37)"
      ]
     },
     "execution_count": 17,
     "metadata": {},
     "output_type": "execute_result"
    }
   ],
   "source": [
    "pc_df.shape"
   ]
  },
  {
   "cell_type": "code",
   "execution_count": 18,
   "metadata": {},
   "outputs": [],
   "source": [
    "from sklearn.model_selection import train_test_split\n",
    "\n",
    "X = pc_df.drop('class',axis = 1)\n",
    "y = pc_df['class']\n",
    "X_train , X_test , y_train , y_test = train_test_split(X,y,train_size = 0.8,random_state = 11)"
   ]
  },
  {
   "cell_type": "code",
   "execution_count": 19,
   "metadata": {},
   "outputs": [
    {
     "name": "stdout",
     "output_type": "stream",
     "text": [
      "[20:50:56] WARNING: ..\\src\\learner.cc:1115: Starting in XGBoost 1.3.0, the default evaluation metric used with the objective 'binary:logistic' was changed from 'error' to 'logloss'. Explicitly set eval_metric if you'd like to restore the old behavior.\n"
     ]
    },
    {
     "name": "stderr",
     "output_type": "stream",
     "text": [
      "c:\\Users\\Hal9\\anaconda3\\envs\\condaPytorchEnv\\lib\\site-packages\\xgboost\\sklearn.py:1224: UserWarning: The use of label encoder in XGBClassifier is deprecated and will be removed in a future release. To remove this warning, do the following: 1) Pass option use_label_encoder=False when constructing XGBClassifier object; and 2) Encode your labels (y) as integers starting with 0, i.e. 0, 1, 2, ..., [num_class - 1].\n",
      "  warnings.warn(label_encoder_deprecation_msg, UserWarning)\n",
      "c:\\Users\\Hal9\\anaconda3\\envs\\condaPytorchEnv\\lib\\site-packages\\xgboost\\data.py:250: FutureWarning: pandas.Int64Index is deprecated and will be removed from pandas in a future version. Use pandas.Index with the appropriate dtype instead.\n",
      "  elif isinstance(data.columns, (pd.Int64Index, pd.RangeIndex)):\n"
     ]
    }
   ],
   "source": [
    "# Create an XGBoost model\n",
    "xgb_model = xgb.XGBClassifier( objective ='binary:logistic', max_depth = 4, learning_rate = 0.01, n_estimators = 400 )\n",
    "\n",
    "# Train the model\n",
    "xgb_model.fit(X_train, y_train)\n",
    "\n",
    "# Make predictions on the test set\n",
    "y_pred = xgb_model.predict(X_test)"
   ]
  },
  {
   "cell_type": "code",
   "execution_count": 20,
   "metadata": {},
   "outputs": [
    {
     "data": {
      "text/plain": [
       "<Figure size 1000x500 with 0 Axes>"
      ]
     },
     "metadata": {},
     "output_type": "display_data"
    },
    {
     "data": {
      "image/png": "[encoded data removed]",
      "text/plain": [
       "<Figure size 640x480 with 2 Axes>"
      ]
     },
     "metadata": {},
     "output_type": "display_data"
    }
   ],
   "source": [
    "# Creating the confusion matrix \n",
    "from sklearn import metrics\n",
    "from sklearn.metrics import confusion_matrix, f1_score, matthews_corrcoef\n",
    "\n",
    "confusion_matrix =confusion_matrix(y_test, y_pred)\n",
    "cm_display = metrics.ConfusionMatrixDisplay(confusion_matrix = confusion_matrix, display_labels = [\"Healthy\", \"Alzheimer\"])\n",
    "plt.figure(figsize = (10,5))\n",
    "cm_display.plot()\n",
    "plt.show()"
   ]
  },
  {
   "cell_type": "code",
   "execution_count": 21,
   "metadata": {},
   "outputs": [
    {
     "name": "stdout",
     "output_type": "stream",
     "text": [
      "0.889\n"
     ]
    }
   ],
   "source": [
    "# Checking the F1 score of the model\n",
    "f1 = f1_score(y_test, y_pred)\n",
    "print(f\"{f1:.3}\")"
   ]
  },
  {
   "cell_type": "code",
   "execution_count": 60,
   "metadata": {},
   "outputs": [
    {
     "name": "stdout",
     "output_type": "stream",
     "text": [
      "0.771\n"
     ]
    }
   ],
   "source": [
    "mcc = matthews_corrcoef(y_true=y_test, y_pred=y_pred)\n",
    "print(f\"{mcc:.3}\")"
   ]
  }
 ],
 "metadata": {
  "kernelspec": {
   "display_name": "condaPytorchEnv",
   "language": "python",
   "name": "python3"
  },
  "language_info": {
   "codemirror_mode": {
    "name": "ipython",
    "version": 3
   },
   "file_extension": ".py",
   "mimetype": "text/x-python",
   "name": "python",
   "nbconvert_exporter": "python",
   "pygments_lexer": "ipython3",
   "version": "3.10.13"
  }
 },
 "nbformat": 4,
 "nbformat_minor": 2
}

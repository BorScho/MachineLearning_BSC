{
 "cells": [
  {
   "cell_type": "markdown",
   "metadata": {},
   "source": [
    "# Plan: #\n",
    "<br>\n",
    "Use Neural-Network for time-series prediction.\n",
    "<br>\n",
    "Books to use: <br> \n",
    "1. Machine Learning for Time Series Forecasting with Python, by Francesca Lazzeri <br>\n",
    "2. Deep Learning for Time Series Forecastin, by Jason BrownLee\n"
   ]
  },
  {
   "cell_type": "markdown",
   "metadata": {},
   "source": [
    "## 1. Use Library 'PyTorch Forecasting' ##\n",
    "\n",
    "PyTorch Forecasting is a PyTorch-based package for forecasting time series with state-of-the-art network architectures. It provides a high-level API for training networks on pandas data frames and leverages PyTorch Lightning for scalable training on (multiple) GPUs, CPUs and for automatic logging. <br>\n",
    "<br>\n",
    "https://github.com/jdb78/pytorch-forecasting\n",
    "<br>\n",
    "https://www.kaggle.com/code/shreyasajal/pytorch-forecasting-for-time-series-forecasting\n",
    "\n",
    "\n",
    "### Tutorial for this library: ###\n",
    "https://pytorch-forecasting.readthedocs.io/en/latest/tutorials.html"
   ]
  },
  {
   "cell_type": "markdown",
   "metadata": {},
   "source": [
    "## 2. Basic Approach: Time-Series Prediction with LSTM ##\n",
    "\n",
    "https://machinelearningmastery.com/time-series-forecasting-long-short-term-memory-network-python/\n",
    "\n",
    "and \n",
    "\n",
    "https://machinelearningmastery.com/time-series-prediction-lstm-recurrent-neural-networks-python-keras/\n",
    "\n",
    "Code for this:\n",
    "\n",
    "https://colab.research.google.com/github/dlmacedo/starter-academic/blob/master/content/courses/deeplearning/notebooks/pytorch/Time_Series_Prediction_with_LSTM_Using_PyTorch.ipynb"
   ]
  },
  {
   "cell_type": "markdown",
   "metadata": {},
   "source": [
    "## 3. Basic Approach: Time Series Prediction with LSTM in Pytorch ##\n",
    "https://towardsdatascience.com/pytorch-lstms-for-time-series-data-cd16190929d7"
   ]
  }
 ],
 "metadata": {
  "kernelspec": {
   "display_name": "Python 3.10.6 ('condaPytorchEnv')",
   "language": "python",
   "name": "python3"
  },
  "language_info": {
   "name": "python",
   "version": "3.10.6"
  },
  "orig_nbformat": 4,
  "vscode": {
   "interpreter": {
    "hash": "df61620949cb14e55b843831dad5e2bfed0f7347786fc0c0d43a7e8bd69fd61c"
   }
  }
 },
 "nbformat": 4,
 "nbformat_minor": 2
}

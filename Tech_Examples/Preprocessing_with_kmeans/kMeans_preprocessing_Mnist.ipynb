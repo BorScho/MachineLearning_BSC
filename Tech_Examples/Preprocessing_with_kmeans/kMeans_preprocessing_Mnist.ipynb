{
 "cells": [
  {
   "cell_type": "markdown",
   "metadata": {},
   "source": [
    "Using a KMeans to produce a representation of the \"digits\" (= 8 x 8 MNIST) - Dataset, which is then classified by a logistic regression model.\n",
    "\n",
    "Findings:\n",
    "1. There is improvement over plain logistic regression: 0.983 vs. 0.975\n",
    "2. For some reason the grid-search over the best number of clusters to use is quite random - i.e. sometimes 46 clusters are \"the best\" <br> \n",
    "(with a score below the nof_clusters=100 solution), sometimes the \"best_params_\" returns a much higher number of clusters with the same score <br>\n",
    " as the k=100 solution, despite k=100 being in the search space."
   ]
  },
  {
   "cell_type": "code",
   "execution_count": 33,
   "metadata": {},
   "outputs": [],
   "source": [
    "from sklearn.datasets import load_digits\n",
    "from sklearn.model_selection import train_test_split\n",
    "\n",
    "X_digits, y_digits = load_digits(return_X_y=True)\n",
    "\n",
    "X_train, X_test, y_train, y_test = train_test_split(X_digits, y_digits, test_size=0.2)"
   ]
  },
  {
   "cell_type": "code",
   "execution_count": 34,
   "metadata": {},
   "outputs": [
    {
     "data": {
      "text/plain": [
       "0.9722222222222222"
      ]
     },
     "execution_count": 34,
     "metadata": {},
     "output_type": "execute_result"
    }
   ],
   "source": [
    "from sklearn.linear_model import LogisticRegression\n",
    "\n",
    "log_reg = LogisticRegression(max_iter=500, tol=0.04)\n",
    "log_reg.fit(X_train, y_train)\n",
    "\n",
    "log_reg.score(X_test, y_test)"
   ]
  },
  {
   "cell_type": "code",
   "execution_count": 35,
   "metadata": {},
   "outputs": [
    {
     "data": {
      "text/plain": [
       "0.9777777777777777"
      ]
     },
     "execution_count": 35,
     "metadata": {},
     "output_type": "execute_result"
    }
   ],
   "source": [
    "from sklearn.pipeline import Pipeline\n",
    "from sklearn.cluster import KMeans\n",
    "from sklearn.preprocessing import StandardScaler\n",
    "\n",
    "nof_clusters = 100\n",
    "pipeline = Pipeline([\n",
    "    (\"kmeans\", KMeans(n_clusters=nof_clusters)),\n",
    "    #(\"log_reg\", LogisticRegression()),\n",
    "    (\"log_reg\", LogisticRegression(tol=0.4, max_iter=10000))\n",
    "])\n",
    "\n",
    "pipeline.fit(X_train, y_train)\n",
    "pipeline.score(X_test, y_test)"
   ]
  },
  {
   "cell_type": "code",
   "execution_count": 36,
   "metadata": {},
   "outputs": [
    {
     "name": "stdout",
     "output_type": "stream",
     "text": [
      "Fitting 3 folds for each of 199 candidates, totalling 597 fits\n"
     ]
    },
    {
     "data": {
      "text/plain": [
       "GridSearchCV(cv=3,\n",
       "             estimator=Pipeline(steps=[('kmeans', KMeans()),\n",
       "                                       ('log_reg',\n",
       "                                        LogisticRegression(max_iter=10000,\n",
       "                                                           tol=0.4))]),\n",
       "             n_jobs=-1, param_grid={'kmeans__n_clusters': range(2, 201)},\n",
       "             verbose=2)"
      ]
     },
     "execution_count": 36,
     "metadata": {},
     "output_type": "execute_result"
    }
   ],
   "source": [
    "from sklearn.model_selection import GridSearchCV\n",
    "from sklearn.pipeline import Pipeline\n",
    "from sklearn.cluster import KMeans\n",
    "from sklearn.preprocessing import StandardScaler\n",
    "\n",
    "pipeline = Pipeline([\n",
    "#    (\"scaler\", StandardScaler()),\n",
    "    (\"kmeans\", KMeans()),\n",
    "    (\"log_reg\", LogisticRegression(tol=0.4, max_iter=10000)),\n",
    "])\n",
    "\n",
    "param_grid = {\n",
    "    \"kmeans__n_clusters\" : range(2,201)\n",
    "    }\n",
    "grid_clf= GridSearchCV(pipeline, param_grid, cv=3, verbose=2, n_jobs=-1)\n",
    "grid_clf.fit(X_train, y_train)\n"
   ]
  },
  {
   "cell_type": "code",
   "execution_count": 37,
   "metadata": {},
   "outputs": [
    {
     "data": {
      "text/plain": [
       "({'kmeans__n_clusters': 83}, 0.9722222222222222)"
      ]
     },
     "execution_count": 37,
     "metadata": {},
     "output_type": "execute_result"
    }
   ],
   "source": [
    "grid_clf.best_params_, grid_clf.score(X_test, y_test)"
   ]
  },
  {
   "cell_type": "code",
   "execution_count": 81,
   "metadata": {},
   "outputs": [],
   "source": [
    "yt0 = y_test == 0\n",
    "X0_test = X_test[yt0]\n",
    "yt1 = y_test == 1\n",
    "X1_test = X_test[yt1]\n",
    "yt7 = y_test == 7\n",
    "X7_test = X_test[yt7]"
   ]
  },
  {
   "cell_type": "code",
   "execution_count": 82,
   "metadata": {},
   "outputs": [
    {
     "data": {
      "text/plain": [
       "((44, 64), (37, 64), (360, 64), (35, 64))"
      ]
     },
     "execution_count": 82,
     "metadata": {},
     "output_type": "execute_result"
    }
   ],
   "source": [
    "X0_test.shape, X1_test.shape, X_test.shape, X7_test.shape"
   ]
  },
  {
   "cell_type": "code",
   "execution_count": 83,
   "metadata": {},
   "outputs": [],
   "source": [
    "p0 = grid_clf.predict_proba(X0_test)\n",
    "p1 = grid_clf.predict_proba(X1_test)\n",
    "p7 = grid_clf.predict_proba(X7_test)"
   ]
  },
  {
   "cell_type": "code",
   "execution_count": 84,
   "metadata": {},
   "outputs": [],
   "source": [
    "p0is0 = np.array([ b[0] for b in p0])\n",
    "p1is1 = np.array([ b[1] for b in p1])\n",
    "p7is7 = np.array([ b[7] for b in p7])"
   ]
  },
  {
   "cell_type": "code",
   "execution_count": 85,
   "metadata": {},
   "outputs": [],
   "source": [
    "p0s = np.sort(p0is0)\n",
    "p1s = np.sort(p1is1)\n",
    "p7s = np.sort(p7is7)"
   ]
  },
  {
   "cell_type": "code",
   "execution_count": 86,
   "metadata": {},
   "outputs": [
    {
     "data": {
      "text/plain": [
       "(array([ 1.,  0.,  0.,  0.,  0.,  0.,  0.,  0.,  0., 43.]),\n",
       " array([0.1026669 , 0.19240021, 0.28213352, 0.37186683, 0.46160014,\n",
       "        0.55133345, 0.64106676, 0.73080007, 0.82053338, 0.91026669,\n",
       "        1.        ]),\n",
       " <BarContainer object of 10 artists>)"
      ]
     },
     "execution_count": 86,
     "metadata": {},
     "output_type": "execute_result"
    },
    {
     "data": {
      "image/png": "[encoded data removed]",
      "text/plain": [
       "<Figure size 432x288 with 1 Axes>"
      ]
     },
     "metadata": {
      "needs_background": "light"
     },
     "output_type": "display_data"
    }
   ],
   "source": [
    "_0counts, _0bins = np.histogram(p0s)\n",
    "plt.hist(_0bins[:-1], _0bins, weights=_0counts)\n"
   ]
  },
  {
   "cell_type": "code",
   "execution_count": 87,
   "metadata": {},
   "outputs": [
    {
     "data": {
      "text/plain": [
       "(array([ 1.,  0.,  0.,  0.,  0.,  0.,  0.,  0.,  0., 36.]),\n",
       " array([0.44855978, 0.50370378, 0.55884778, 0.61399178, 0.66913578,\n",
       "        0.72427977, 0.77942377, 0.83456777, 0.88971177, 0.94485577,\n",
       "        0.99999976]),\n",
       " <BarContainer object of 10 artists>)"
      ]
     },
     "execution_count": 87,
     "metadata": {},
     "output_type": "execute_result"
    },
    {
     "data": {
      "image/png": "[encoded data removed]",
      "text/plain": [
       "<Figure size 432x288 with 1 Axes>"
      ]
     },
     "metadata": {
      "needs_background": "light"
     },
     "output_type": "display_data"
    }
   ],
   "source": [
    "_1counts, _1bins = np.histogram(p1s)\n",
    "plt.hist(_1bins[:-1], _1bins, weights=_1counts)"
   ]
  },
  {
   "cell_type": "code",
   "execution_count": 88,
   "metadata": {},
   "outputs": [
    {
     "data": {
      "text/plain": [
       "(array([ 1.,  0.,  0.,  0.,  0.,  0.,  1.,  0.,  0., 33.]),\n",
       " array([0.2716564 , 0.34449076, 0.41732512, 0.49015948, 0.56299384,\n",
       "        0.6358282 , 0.70866256, 0.78149692, 0.85433128, 0.92716564,\n",
       "        1.        ]),\n",
       " <BarContainer object of 10 artists>)"
      ]
     },
     "execution_count": 88,
     "metadata": {},
     "output_type": "execute_result"
    },
    {
     "data": {
      "image/png": "[encoded data removed]",
      "text/plain": [
       "<Figure size 432x288 with 1 Axes>"
      ]
     },
     "metadata": {
      "needs_background": "light"
     },
     "output_type": "display_data"
    }
   ],
   "source": [
    "_7counts, _7bins = np.histogram(p7s)\n",
    "plt.hist(_7bins[:-1], _7bins, weights=_7counts)"
   ]
  }
 ],
 "metadata": {
  "kernelspec": {
   "display_name": "Python 3.10.4 ('condaPytorchEnv')",
   "language": "python",
   "name": "python3"
  },
  "language_info": {
   "codemirror_mode": {
    "name": "ipython",
    "version": 3
   },
   "file_extension": ".py",
   "mimetype": "text/x-python",
   "name": "python",
   "nbconvert_exporter": "python",
   "pygments_lexer": "ipython3",
   "version": "3.10.4"
  },
  "orig_nbformat": 4,
  "vscode": {
   "interpreter": {
    "hash": "df61620949cb14e55b843831dad5e2bfed0f7347786fc0c0d43a7e8bd69fd61c"
   }
  }
 },
 "nbformat": 4,
 "nbformat_minor": 2
}

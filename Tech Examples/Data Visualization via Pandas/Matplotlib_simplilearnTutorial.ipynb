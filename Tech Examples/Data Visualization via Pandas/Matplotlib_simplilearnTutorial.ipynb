{
 "cells": [
  {
   "attachments": {},
   "cell_type": "markdown",
   "metadata": {},
   "source": [
    "# https://www.hackerrank.com/challenges/one-week-preparation-kit-lonely-integer/ #\n"
   ]
  },
  {
   "cell_type": "code",
   "execution_count": 9,
   "metadata": {},
   "outputs": [
    {
     "name": "stdout",
     "output_type": "stream",
     "text": [
      "0.500000\n",
      "0.333333\n",
      "0.166667\n"
     ]
    }
   ],
   "source": [
    "a = [-4, 3, -9, 0, 4, 1]\n",
    "def plusMinus(arr):\n",
    "    # Write your code here\n",
    "    p = 0\n",
    "    n = 0\n",
    "    z = 0\n",
    "    l = len(arr)\n",
    "    for i in arr:\n",
    "        if i > 0:\n",
    "            p += 1\n",
    "        if i < 0:\n",
    "            n += 1\n",
    "        if i == 0:\n",
    "            z += 1\n",
    "    print(f\"{p/l:.6f}\")\n",
    "    print(f\"{(n/l):.6f}\")\n",
    "    print(f\"{(z/l):.6f}\")\n",
    "\n",
    "plusMinus(a)"
   ]
  },
  {
   "cell_type": "code",
   "execution_count": 21,
   "metadata": {},
   "outputs": [
    {
     "name": "stdout",
     "output_type": "stream",
     "text": [
      "10 14\n"
     ]
    }
   ],
   "source": [
    "import math\n",
    "import os\n",
    "import random\n",
    "import re\n",
    "import sys\n",
    "\n",
    "arr = [1,2,3,4,5]\n",
    "\n",
    "#\n",
    "# Complete the 'miniMaxSum' function below.\n",
    "#\n",
    "# The function accepts INTEGER_ARRAY arr as parameter.\n",
    "#\n",
    "\n",
    "def miniMaxSum(arr):\n",
    "    # Write your code here\n",
    "    arr.sort()\n",
    "    max = 0\n",
    "    min = 0\n",
    "    for i, x in enumerate(arr):\n",
    "        if i > 0:\n",
    "            max += x\n",
    "        if i < 4:\n",
    "            min += x\n",
    "    \n",
    "    print(f\"{min} {max}\")\n",
    "\n",
    "    \n",
    "\n",
    "#if __name__ == '__main__':\n",
    "#    arr = list(map(int, input().rstrip().split()))\n",
    "\n",
    "miniMaxSum(arr)\n",
    "\n"
   ]
  },
  {
   "attachments": {},
   "cell_type": "markdown",
   "metadata": {},
   "source": [
    "Given a time in -hour AM/PM format, convert it to military (24-hour) time.\n",
    "\n",
    "Note: - 12:00:00AM on a 12-hour clock is 00:00:00 on a 24-hour clock.\n",
    "- 12:00:00PM on a 12-hour clock is 12:00:00 on a 24-hour clock.\n",
    "\n",
    "Example\n",
    "\n",
    "\n",
    "Return '12:01:00'.\n",
    "\n",
    "\n",
    "Return '00:01:00'.\n",
    "\n",
    "Function Description\n",
    "\n",
    "Complete the timeConversion function in the editor below. It should return a new string representing the input time in 24 hour format.\n",
    "\n",
    "timeConversion has the following parameter(s):\n",
    "\n",
    "string s: a time in  hour format\n",
    "Returns\n",
    "\n",
    "string: the time in  hour format\n",
    "Input Format\n",
    "\n",
    "A single string  that represents a time in -hour clock format (i.e.:  or ).\n",
    "\n",
    "Constraints\n",
    "\n",
    "All input times are valid\n",
    "Sample Input\n",
    "\n",
    "07:05:45PM\n",
    "Sample Output\n",
    "\n",
    "19:05:45"
   ]
  },
  {
   "cell_type": "code",
   "execution_count": 58,
   "metadata": {},
   "outputs": [
    {
     "data": {
      "text/plain": [
       "'06:40:03AM'"
      ]
     },
     "execution_count": 58,
     "metadata": {},
     "output_type": "execute_result"
    }
   ],
   "source": [
    "import math\n",
    "import os\n",
    "import random\n",
    "import re\n",
    "import sys\n",
    "\n",
    "#\n",
    "# Complete the 'timeConversion' function below.\n",
    "#\n",
    "# The function is expected to return a STRING.\n",
    "# The function accepts STRING s as parameter.\n",
    "#\n",
    "\n",
    "def timeConversion(s):\n",
    "    # Write your code here\n",
    "    if s == \"12:00:00AM\":\n",
    "        return \"00:00:00\"\n",
    "    \n",
    "    if s == \"12:00:00PM\":\n",
    "        return s[:8]\n",
    "    \n",
    "    if s[8:] == \"AM\": \n",
    "        if  s[:2] == \"12\":\n",
    "            return \"00:\" + s[3:8]\n",
    "        else:\n",
    "            return s[:8]\n",
    "    else:\n",
    "        if s[:2] == \"12\":\n",
    "            return s[:8]\n",
    "        else:\n",
    "            return str(int(s[:2]) + 12) + s[2:8]\n",
    "\n",
    "\n",
    "\"\"\" if __name__ == '__main__':\n",
    "    fptr = open(os.environ['OUTPUT_PATH'], 'w')\n",
    "\n",
    "    s = input()\n",
    "\n",
    "    result = timeConversion(s)\n",
    "\n",
    "    fptr.write(result + '\\n')\n",
    "\n",
    "    fptr.close() \"\"\"\n",
    "\n",
    "s = \"06:40:03AM\"\n",
    "timeConversion(s)"
   ]
  },
  {
   "cell_type": "code",
   "execution_count": 47,
   "metadata": {},
   "outputs": [
    {
     "data": {
      "text/plain": [
       "'13:02:03'"
      ]
     },
     "execution_count": 47,
     "metadata": {},
     "output_type": "execute_result"
    }
   ],
   "source": [
    "s = \"01:02:03AM\"\n",
    "str(int(s[:2]) + 12) + s[2:8]"
   ]
  },
  {
   "attachments": {},
   "cell_type": "markdown",
   "metadata": {},
   "source": [
    "        \n",
    "    "
   ]
  },
  {
   "cell_type": "code",
   "execution_count": 76,
   "metadata": {},
   "outputs": [],
   "source": [
    "def fizzBuzz(n):\n",
    "    # Write your code here\n",
    "    for i in range(1, n +1):\n",
    "        if i%3 == 0 and i%5 == 0:\n",
    "            print(\"FizzBuzz\")\n",
    "        else:\n",
    "            if i%3 == 0 and i%5 != 0:\n",
    "                print(\"Fizz\")\n",
    "            else:\n",
    "                if i%3 != 0 and i%5 == 0:\n",
    "                    print(\"Buzz\")\n",
    "        if i%3 != 0 and i%5 != 0:\n",
    "            print(i)"
   ]
  },
  {
   "cell_type": "code",
   "execution_count": 77,
   "metadata": {},
   "outputs": [
    {
     "name": "stdout",
     "output_type": "stream",
     "text": [
      "1\n",
      "2\n",
      "Fizz\n",
      "4\n",
      "Buzz\n",
      "Fizz\n",
      "7\n",
      "8\n",
      "Fizz\n",
      "Buzz\n",
      "11\n",
      "Fizz\n",
      "13\n",
      "14\n",
      "FizzBuzz\n"
     ]
    }
   ],
   "source": [
    "fizzBuzz(15)"
   ]
  },
  {
   "attachments": {},
   "cell_type": "markdown",
   "metadata": {},
   "source": [
    "# Day2 #"
   ]
  },
  {
   "attachments": {},
   "cell_type": "markdown",
   "metadata": {},
   "source": [
    "Given an array of integers, where all elements but one occur twice, find the unique element.\n",
    "\n",
    "Example\n",
    "\n",
    "a = [1,2,3,4,3,2,1]\n",
    "\n",
    "The unique element is 4.\n",
    "\n",
    "Function Description\n",
    "\n",
    "Complete the lonelyinteger function in the editor below.\n",
    "\n",
    "lonelyinteger has the following parameter(s):\n",
    "\n",
    "int a[n]: an array of integers\n",
    "Returns\n",
    "\n",
    "int: the element that occurs only once\n",
    "Input Format\n",
    "\n",
    "The first line contains a single integer, n, the number of integers in the array.\n",
    "The second line contains  space-separated integers that describe the values in a.\n",
    "\n",
    "Constraints\n",
    "* 1 =< n < 100>>\n",
    "* It is guaranteed that n is an odd number and that there is one unique element\n",
    "* a =< a[i] =< 100, where .0=< i < n."
   ]
  },
  {
   "cell_type": "code",
   "execution_count": 1,
   "metadata": {},
   "outputs": [],
   "source": [
    "\n",
    "import math\n",
    "import os\n",
    "import random\n",
    "import re\n",
    "import sys\n",
    "\n",
    "#\n",
    "# Complete the 'lonelyinteger' function below.\n",
    "#\n",
    "# The function is expected to return an INTEGER.\n",
    "# The function accepts INTEGER_ARRAY a as parameter.\n",
    "#\n",
    "\n",
    "def lonelyinteger(a):\n",
    "    # Write your code here\n",
    "    for x in a:\n",
    "        indeces = [i for i, e in enumerate(a) if e == x]\n",
    "        if len(indeces) == 1:\n",
    "            return x"
   ]
  },
  {
   "cell_type": "code",
   "execution_count": 2,
   "metadata": {},
   "outputs": [
    {
     "data": {
      "text/plain": [
       "4"
      ]
     },
     "execution_count": 2,
     "metadata": {},
     "output_type": "execute_result"
    }
   ],
   "source": [
    "a = [1,2,3,4,1,2,3]\n",
    "lonelyinteger(a)"
   ]
  },
  {
   "attachments": {},
   "cell_type": "markdown",
   "metadata": {},
   "source": [
    "Given a square matrix, calculate the absolute difference between the sums of its diagonals.\n",
    "\n",
    "For example, the square matrix  is shown below:\n",
    "\n",
    "1 2 3 <br>\n",
    "4 5 6 <br>\n",
    "9 8 9 <br> \n",
    "\n",
    "The left-to-right diagonal = 1 + 5 + 9. The right to left diagonal = 3 + 5 + 9. Their absolute difference is |15 - 17| = 2.\n",
    "\n",
    "Function description\n",
    "\n",
    "Complete the  function in the editor below.\n",
    "\n",
    "diagonalDifference takes the following parameter:\n",
    "\n",
    "int arr[n][m]: an array of integers\n",
    "Return\n",
    "\n",
    "int: the absolute diagonal difference\n",
    "Input Format\n",
    "\n",
    "The first line contains a single integer, , the number of rows and columns in the square matrix .\n",
    "Each of the next  lines describes a row, , and consists of  space-separated integers .\n",
    "\n",
    "Constraints\n",
    "* -100 =< arr[i][j] =< 100\n",
    "\n",
    "Output Format\n",
    "\n",
    "Return the absolute difference between the sums of the matrix's two diagonals as a single integer.\n",
    "\n",
    "Sample Input\n",
    "\n",
    "3 <br>\n",
    "11 2 4 <br>\n",
    "4 5 6 <br>\n",
    "10 8 -12 <br>\n",
    "Sample Output\n",
    "\n",
    "15\n",
    "\n",
    "Explanation\n",
    "\n",
    "The primary diagonal is:\n",
    "\n",
    "11 <br>\n",
    "   5 <br>\n",
    "     -12 <br>\n",
    "Sum across the primary diagonal: 11 + 5 - 12 = 4\n",
    "\n",
    "The secondary diagonal is:\n",
    "\n",
    "     4\n",
    "   5\n",
    "10\n",
    "Sum across the secondary diagonal: 4 + 5 + 10 = 19\n",
    "Difference: |4 - 19| = 15\n",
    "\n",
    "Note: |x| is the absolute value of x"
   ]
  },
  {
   "cell_type": "code",
   "execution_count": 8,
   "metadata": {},
   "outputs": [
    {
     "data": {
      "text/plain": [
       "range(0, 3)"
      ]
     },
     "execution_count": 8,
     "metadata": {},
     "output_type": "execute_result"
    }
   ],
   "source": [
    "arr= [[1,2,3], [4,5,6], [7,8,9]]\n",
    "# arr[1][2]\n",
    "range(len(arr))"
   ]
  },
  {
   "cell_type": "code",
   "execution_count": 20,
   "metadata": {},
   "outputs": [],
   "source": [
    "def diagonalDifference(arr):\n",
    "    # Write your code here\n",
    "    d1 = 0\n",
    "    d2 = 0\n",
    "    L = len(arr) - 1\n",
    "    for i in range(len(arr)):\n",
    "        d1 += arr[i][i]\n",
    "        d2 += arr[i][L - i]\n",
    "        print(f\"d1: {d1}\")\n",
    "        print(f\"d2: {d2}\")\n",
    "    return abs(d1 - d2)\n"
   ]
  },
  {
   "cell_type": "code",
   "execution_count": 22,
   "metadata": {},
   "outputs": [
    {
     "name": "stdout",
     "output_type": "stream",
     "text": [
      "d1: 1\n",
      "d2: 3\n",
      "d1: 6\n",
      "d2: 8\n",
      "d1: 15\n",
      "d2: 15\n"
     ]
    },
    {
     "data": {
      "text/plain": [
       "0"
      ]
     },
     "execution_count": 22,
     "metadata": {},
     "output_type": "execute_result"
    }
   ],
   "source": [
    "# arr = [[1,2,3], [4,5,6], [9,8,9]]\n",
    "arr= [[1,2,3], [4,5,6], [7,8,9]]\n",
    "diagonalDifference(arr)"
   ]
  },
  {
   "attachments": {},
   "cell_type": "markdown",
   "metadata": {},
   "source": [
    "Comparison Sorting\n",
    "Quicksort usually has a running time of n x log(n) , but is there an algorithm that can sort even faster? In general, this is not possible. Most sorting algorithms are comparison sorts, i.e. they sort a list just by comparing the elements to one another. A comparison sort algorithm cannot beat n x log(n) (worst-case) running time, since n x log(n) represents the minimum number of comparisons needed to know where to place each element. For more details, you can see these notes (PDF).\n",
    "\n",
    "Alternative Sorting\n",
    "Another sorting method, the counting sort, does not require comparison. Instead, you create an integer array whose index range covers the entire range of values in your array to sort. Each time a value occurs in the original array, you increment the counter at that index. At the end, run through your counting array, printing the value of each non-zero valued index that number of times.\n",
    "\n",
    "Example\n",
    "\n",
    "arr = [1,1,3,2,1]\n",
    "\n",
    "All of the values are in the range [0..3], so create an array of zeros, result = [0,0,0,0] . The results of each iteration follow:\n",
    "\n",
    "i   arr[i]  result <br>\n",
    "0   1       [0, 1, 0, 0] <br>\n",
    "1   1       [0, 2, 0, 0] <br>\n",
    "2   3       [0, 2, 0, 1] <br>\n",
    "3   2       [0, 2, 1, 1] <br>\n",
    "4   1       [0, 3, 1, 1] <br>\n",
    "\n",
    "The frequency array is [0,3,1,1] . These values can be used to create the sorted array as well: sorted = [1,1,1,2,3].\n",
    "\n",
    "Note\n",
    "For this exercise, always return a frequency array with 100 elements. The example above shows only the first 4 elements, the remainder being zeros.\n",
    "\n",
    "Challenge\n",
    "Given a list of integers, count and return the number of times each value appears as an array of integers.\n",
    "\n",
    "Function Description\n",
    "\n",
    "Complete the countingSort function in the editor below.\n",
    "\n",
    "countingSort has the following parameter(s):\n",
    "\n",
    "* arr[n]: an array of integers\n",
    "\n",
    "Returns\n",
    "\n",
    "* int[100]: a frequency array\n",
    "\n",
    "Input Format\n",
    "\n",
    "The first line contains an integer n, the number of items in arr.\n",
    "Each of the next n lines contains an integer arr[i]  where 0=< i < n.\n",
    "\n",
    "Constraints\n",
    "\n",
    "* 100 =< n < 10e6\n",
    "* 0 =< arr[i] < 100\n",
    "\n",
    "Sample Input\n",
    "\n",
    "100\n",
    "63 25 73 1 98 73 56 84 86 57 16 83 8 25 81 56 9 53 98 67 99 12 83 89 80 91 39 86 76 85 74 39 25 90 59 10 94 32 44 3 89 30 27 79 46 96 27 32 18 21 92 69 81 40 40 34 68 78 24 87 42 69 23 41 78 22 6 90 99 89 50 30 20 1 43 3 70 95 33 46 44 9 69 48 33 60 65 16 82 67 61 32 21 79 75 75 13 87 70 33  \n",
    "\n",
    "Sample Output\n",
    "\n",
    "0 2 0 2 0 0 1 0 1 2 1 0 1 1 0 0 2 0 1 0 1 2 1 1 1 3 0 2 0 0 2 0 3 3 1 0 0 0 0 2 2 1 1 1 2 0 2 0 1 0 1 0 0 1 0 0 2 1 0 1 1 1 0 1 0 1 0 2 1 3 2 0 0 2 1 2 1 0 2 2 1 2 1 2 1 1 2 2 0 3 2 1 1 0 1 1 1 0 2 2 \n",
    "\n",
    "Explanation\n",
    "\n",
    "Each of the resulting values  represents the number of times  appeared in ."
   ]
  },
  {
   "cell_type": "code",
   "execution_count": 23,
   "metadata": {},
   "outputs": [],
   "source": [
    "import math\n",
    "import os\n",
    "import random\n",
    "import re\n",
    "import sys\n",
    "\n",
    "#\n",
    "# Complete the 'countingSort' function below.\n",
    "#\n",
    "# The function is expected to return an INTEGER_ARRAY.\n",
    "# The function accepts INTEGER_ARRAY arr as parameter.\n",
    "#\n",
    "\n",
    "def countingSort(arr):\n",
    "    # Write your code here\n",
    "    freq = [0] * 100\n",
    "    for x in arr:\n",
    "        freq[x] += 1\n",
    "    return freq"
   ]
  },
  {
   "cell_type": "code",
   "execution_count": 25,
   "metadata": {},
   "outputs": [
    {
     "data": {
      "text/plain": [
       "[0, 5, 4, 0, 0, 4, 0, 0, 0, 0, 3, 0, 0, 0, 0, 0]"
      ]
     },
     "execution_count": 25,
     "metadata": {},
     "output_type": "execute_result"
    }
   ],
   "source": [
    "arr = [1, 1, 1, 2, 10 ,2 ,2, 5, 5, 5, 5, 10, 10, 1, 1, 2]\n",
    "countingSort(arr)"
   ]
  },
  {
   "attachments": {},
   "cell_type": "markdown",
   "metadata": {},
   "source": [
    "flipping matrix\n"
   ]
  },
  {
   "cell_type": "code",
   "execution_count": 35,
   "metadata": {},
   "outputs": [],
   "source": [
    "def flippingMatrix(matrix):\n",
    "    # Write your code here\n",
    "    n = int(len(matrix) / 2)\n",
    "    L = len(matrix) - 1\n",
    "    rev_col2 = [matrix[L - i][2] for i in range(len(matrix))]\n",
    "    for i in range(len(matrix)):\n",
    "        matrix[i][2] = rev_col2[i]\n",
    "    print(matrix)\n",
    "    rev_row0 = [matrix[0][L - i] for i in range(len(matrix))]\n",
    "    for i in range(len(matrix)):\n",
    "        matrix[0][i] = rev_row0[i]\n",
    "    print(matrix)\n",
    "    sum = 0\n",
    "    for i in range(n):\n",
    "        for j in range(n):\n",
    "            sum += matrix[i][j]\n",
    "    \n",
    "    return sum\n"
   ]
  },
  {
   "cell_type": "code",
   "execution_count": 36,
   "metadata": {},
   "outputs": [
    {
     "name": "stdout",
     "output_type": "stream",
     "text": [
      "[[112, 42, 114, 119], [56, 125, 101, 49], [15, 78, 56, 43], [62, 98, 83, 108]]\n",
      "[[119, 114, 42, 112], [56, 125, 101, 49], [15, 78, 56, 43], [62, 98, 83, 108]]\n"
     ]
    },
    {
     "data": {
      "text/plain": [
       "414"
      ]
     },
     "execution_count": 36,
     "metadata": {},
     "output_type": "execute_result"
    }
   ],
   "source": [
    "matrix = [[112, 42, 83, 119], [56, 125, 56, 49], [15, 78, 101, 43], [62, 98, 114, 108]]\n",
    "flippingMatrix(matrix)"
   ]
  },
  {
   "cell_type": "code",
   "execution_count": 38,
   "metadata": {},
   "outputs": [
    {
     "name": "stdout",
     "output_type": "stream",
     "text": [
      "[0, 1, 2, 3]\n"
     ]
    }
   ],
   "source": [
    "print([i for i in range(len(matrix))])"
   ]
  },
  {
   "cell_type": "code",
   "execution_count": 55,
   "metadata": {},
   "outputs": [],
   "source": [
    "def findZigZagSequence(a, n):\n",
    "    a.sort()\n",
    "    mid = int((n + 1)/2) -1\n",
    "    a[mid], a[n-1] = a[n-1], a[mid]\n",
    "\n",
    "    st = mid + 1\n",
    "    ed = n - 2\n",
    "    while(st <= ed):\n",
    "        a[st], a[ed] = a[ed], a[st]\n",
    "        st = st + 1\n",
    "        ed = ed - 1\n",
    "\n",
    "    for i in range (n):\n",
    "        if i == n-1:\n",
    "            print(a[i])\n",
    "        else:\n",
    "            print(a[i], end = ' ')\n",
    "    return"
   ]
  },
  {
   "cell_type": "code",
   "execution_count": 56,
   "metadata": {},
   "outputs": [
    {
     "name": "stdout",
     "output_type": "stream",
     "text": [
      "4\n",
      "1 2 3 7 6 5 4\n"
     ]
    }
   ],
   "source": [
    "a = [1,2,3,4,5,6,7]\n",
    "n = len(a)\n",
    "print(int((n + 1)/2))\n",
    "findZigZagSequence(a,n)"
   ]
  },
  {
   "attachments": {},
   "cell_type": "markdown",
   "metadata": {},
   "source": [
    "### Tower Breakers\n",
    "\n",
    "Two players are playing a game of Tower Breakers! Player  always moves first, and both players always play optimally.The rules of the game are as follows:\n",
    "\n",
    "Initially there are  towers.\n",
    "Each tower is of height .\n",
    "The players move in alternating turns.\n",
    "In each turn, a player can choose a tower of height  and reduce its height to , where  and  evenly divides .\n",
    "If the current player is unable to make a move, they lose the game.\n",
    "Given the values of  and , determine which player will win. If the first player wins, return . Otherwise, return .\n",
    "\n",
    "Example. \n",
    "\n",
    "There are  towers, each  units tall. Player  has a choice of two moves:\n",
    "- remove  pieces from a tower to leave  as \n",
    "- remove  pieces to leave \n",
    "\n",
    "Let Player  remove . Now the towers are  and  units tall.\n",
    "\n",
    "Player  matches the move. Now the towers are both  units tall.\n",
    "\n",
    "Now Player  has only one move.\n",
    "\n",
    "Player  removes  pieces leaving . Towers are  and  units tall.\n",
    "Player  matches again. Towers are both  unit tall.\n",
    "\n",
    "Player  has no move and loses. Return .\n",
    "\n",
    "Function Description\n",
    "\n",
    "Complete the towerBreakers function in the editor below.\n",
    "\n",
    "towerBreakers has the following paramter(s):\n",
    "\n",
    "int n: the number of towers\n",
    "int m: the height of each tower\n",
    "Returns\n",
    "\n",
    "int: the winner of the game\n",
    "Input Format\n",
    "\n",
    "The first line contains a single integer , the number of test cases.\n",
    "Each of the next  lines describes a test case in the form of  space-separated integers,  and .\n",
    "\n",
    "Constraints\n",
    "\n",
    "Sample Input\n",
    "\n",
    "STDIN   Function\n",
    "-----   --------\n",
    "2       t = 2\n",
    "2 2     n = 2, m = 2\n",
    "1 4     n = 1, m = 4\n",
    "Sample Output\n",
    "\n",
    "2\n",
    "1\n",
    "Explanation\n",
    "\n",
    "We'll refer to player  as  and player  as \n",
    "\n",
    "In the first test case,  chooses one of the two towers and reduces it to . Then  reduces the remaining tower to a height of . As both towers now have height ,  cannot make a move so  is the winner.\n",
    "\n",
    "In the second test case, there is only one tower of height .  can reduce it to a height of either  or .  chooses  as both players always choose optimally. Because  has no possible move,  wins."
   ]
  },
  {
   "cell_type": "code",
   "execution_count": 57,
   "metadata": {},
   "outputs": [],
   "source": [
    "# strategy: \n",
    "# break down by dividing the tower heights by prime-factors: a tower with a prime-number height can only be taken down completely. \n",
    "# If there is an odd number of towers to be broken down completely, than P1 wins, if there is an even number, P2 wins.\n",
    "# The maximum number of turns in the play is equal to the sum of the numbers of prime-factors in each tower-height.\n",
    "# find prime-factors\n",
    "def findPrimeFactors(n):\n",
    "    primeFactors = []\n",
    "    i = 2\n",
    "    while i == n or i < n:\n",
    "        if n%i == 0:\n",
    "            primeFactors.append(i)\n",
    "            n = n // i\n",
    "        else:\n",
    "            i += 1\n",
    "    return primeFactors"
   ]
  },
  {
   "cell_type": "code",
   "execution_count": 60,
   "metadata": {},
   "outputs": [
    {
     "data": {
      "text/plain": [
       "[2, 2, 3]"
      ]
     },
     "execution_count": 60,
     "metadata": {},
     "output_type": "execute_result"
    }
   ],
   "source": [
    "findPrimeFactors(12)"
   ]
  }
 ],
 "metadata": {
  "kernelspec": {
   "display_name": "condaPytorchEnv",
   "language": "python",
   "name": "python3"
  },
  "language_info": {
   "codemirror_mode": {
    "name": "ipython",
    "version": 3
   },
   "file_extension": ".py",
   "mimetype": "text/x-python",
   "name": "python",
   "nbconvert_exporter": "python",
   "pygments_lexer": "ipython3",
   "version": "3.10.6 | packaged by conda-forge | (main, Oct 24 2022, 16:02:16) [MSC v.1916 64 bit (AMD64)]"
  },
  "orig_nbformat": 4,
  "vscode": {
   "interpreter": {
    "hash": "df61620949cb14e55b843831dad5e2bfed0f7347786fc0c0d43a7e8bd69fd61c"
   }
  }
 },
 "nbformat": 4,
 "nbformat_minor": 2
}

{
 "cells": [
  {
   "cell_type": "markdown",
   "metadata": {},
   "source": [
    "(Source: https://archive.ics.uci.edu/ml/datasets/Breast+Cancer+Wisconsin+(Diagnostic))\n",
    "\n",
    "# Data Set Information: #\n",
    "\n",
    "Features are computed from a digitized image of a fine needle aspirate (FNA) of a breast mass. They describe characteristics of the cell nuclei present in the image. A few of the images can be found at [Web Link]\n",
    "\n",
    "Separating plane described above was obtained using Multisurface Method-Tree (MSM-T) [K. P. Bennett, \"Decision Tree Construction Via Linear Programming.\" Proceedings of the 4th Midwest Artificial Intelligence and Cognitive Science Society, pp. 97-101, 1992], a classification method which uses linear programming to construct a decision tree. Relevant features were selected using an exhaustive search in the space of 1-4 features and 1-3 separating planes.\n",
    "\n",
    "The actual linear program used to obtain the separating plane in the 3-dimensional space is that described in: [K. P. Bennett and O. L. Mangasarian: \"Robust Linear Programming Discrimination of Two Linearly Inseparable Sets\", Optimization Methods and Software 1, 1992, 23-34].\n",
    "\n",
    "This database is also available through the UW CS ftp server:\n",
    "ftp ftp.cs.wisc.edu\n",
    "cd math-prog/cpo-dataset/machine-learn/WDBC/\n",
    "\n",
    "\n",
    "Attribute Information:\n",
    "\n",
    "1) ID number\n",
    "2) Diagnosis (M = malignant, B = benign)\n",
    "3-32)\n",
    "\n",
    "Ten real-valued features are computed for each cell nucleus:\n",
    "\n",
    "a) radius (mean of distances from center to points on the perimeter)\n",
    "b) texture (standard deviation of gray-scale values)\n",
    "c) perimeter\n",
    "d) area\n",
    "e) smoothness (local variation in radius lengths)\n",
    "f) compactness (perimeter^2 / area - 1.0)\n",
    "g) concavity (severity of concave portions of the contour)\n",
    "h) concave points (number of concave portions of the contour)\n",
    "i) symmetry\n",
    "j) fractal dimension (\"coastline approximation\" - 1)\n",
    "\n"
   ]
  },
  {
   "cell_type": "code",
   "execution_count": 8,
   "metadata": {},
   "outputs": [],
   "source": [
    "from sklearn.datasets import load_breast_cancer\n",
    "import numpy as np"
   ]
  },
  {
   "cell_type": "code",
   "execution_count": 9,
   "metadata": {},
   "outputs": [
    {
     "data": {
      "text/plain": [
       "((569, 30), (569,))"
      ]
     },
     "execution_count": 9,
     "metadata": {},
     "output_type": "execute_result"
    }
   ],
   "source": [
    "bc = load_breast_cancer()\n",
    "X = bc.data\n",
    "y = bc.target\n",
    "\n",
    "X.shape, y.shape"
   ]
  },
  {
   "cell_type": "code",
   "execution_count": 10,
   "metadata": {},
   "outputs": [
    {
     "data": {
      "text/plain": [
       "array([[ 1.09706398, -2.07333501,  1.26993369, ...,  2.29607613,\n",
       "         2.75062224,  1.93701461],\n",
       "       [ 1.82982061, -0.35363241,  1.68595471, ...,  1.0870843 ,\n",
       "        -0.24388967,  0.28118999],\n",
       "       [ 1.57988811,  0.45618695,  1.56650313, ...,  1.95500035,\n",
       "         1.152255  ,  0.20139121],\n",
       "       ...,\n",
       "       [ 0.70228425,  2.0455738 ,  0.67267578, ...,  0.41406869,\n",
       "        -1.10454895, -0.31840916],\n",
       "       [ 1.83834103,  2.33645719,  1.98252415, ...,  2.28998549,\n",
       "         1.91908301,  2.21963528],\n",
       "       [-1.80840125,  1.22179204, -1.81438851, ..., -1.74506282,\n",
       "        -0.04813821, -0.75120669]])"
      ]
     },
     "execution_count": 10,
     "metadata": {},
     "output_type": "execute_result"
    }
   ],
   "source": [
    "from sklearn.preprocessing import StandardScaler\n",
    "\n",
    "ssc = StandardScaler(copy=False)\n",
    "ssc.fit_transform(X)"
   ]
  },
  {
   "cell_type": "code",
   "execution_count": 11,
   "metadata": {},
   "outputs": [
    {
     "data": {
      "text/plain": [
       "0.9515688143331487"
      ]
     },
     "execution_count": 11,
     "metadata": {},
     "output_type": "execute_result"
    }
   ],
   "source": [
    "from sklearn.decomposition import PCA\n",
    "\n",
    "pca = PCA(n_components=10)\n",
    "X_pca = pca.fit_transform(X)\n",
    "\n",
    "np.sum(pca.explained_variance_ratio_)"
   ]
  },
  {
   "cell_type": "code",
   "execution_count": 12,
   "metadata": {},
   "outputs": [],
   "source": [
    "from sklearn.model_selection import train_test_split\n",
    "\n",
    "X_train, X_test, y_train, y_test = train_test_split(X_pca, y, test_size=0.2)"
   ]
  },
  {
   "cell_type": "markdown",
   "metadata": {},
   "source": [
    "### Logistic Regression Classifier ###"
   ]
  },
  {
   "cell_type": "code",
   "execution_count": 13,
   "metadata": {},
   "outputs": [
    {
     "name": "stdout",
     "output_type": "stream",
     "text": [
      "sc_log_reg: 0.9736842105263158\n"
     ]
    }
   ],
   "source": [
    "from sklearn.linear_model import LogisticRegression\n",
    "\n",
    "log_reg = LogisticRegression()\n",
    "\n",
    "log_reg.fit(X_train, y_train)\n",
    "\n",
    "sc_log_reg = log_reg.score(X_test, y_test)\n",
    "p_test_log_reg = log_reg.predict_proba(X_test)\n",
    "y_pred_log_reg = np.argmax(p_test_log_reg, axis=1)\n",
    "\n",
    "print(f\"sc_log_reg: {sc_log_reg}\")"
   ]
  },
  {
   "cell_type": "markdown",
   "metadata": {},
   "source": [
    "### Suport Vector Classifier ###"
   ]
  },
  {
   "cell_type": "code",
   "execution_count": 30,
   "metadata": {},
   "outputs": [],
   "source": [
    "from sklearn import svm\n",
    "\n",
    "svm_clf = svm.SVC(probability=True)\n",
    "svm_clf.fit(X_train, y_train)\n",
    "y_pred_svm = svm_clf.predict(X_test)"
   ]
  },
  {
   "cell_type": "markdown",
   "metadata": {},
   "source": [
    "## Determine precision and recall ##\n",
    "<br>\n",
    "Recall is, of course, the more important metric here, since not recognizing cancer in a patient who has cancer (i.e. classifing him falsely as negative) is worse than classifing a patient who does not have cancer as someone who has (false positive) - because in this case further test would be undertaken and the error would most probably be discovered before some serious measures would (falsely) be undertaken."
   ]
  },
  {
   "cell_type": "code",
   "execution_count": 31,
   "metadata": {},
   "outputs": [
    {
     "name": "stdout",
     "output_type": "stream",
     "text": [
      "Recall for logistic-regression: 1.000\n",
      "Precision for logistic-regression:: 0.958\n"
     ]
    },
    {
     "data": {
      "image/png": "[encoded data removed]",
      "text/plain": [
       "<Figure size 432x288 with 1 Axes>"
      ]
     },
     "metadata": {
      "needs_background": "light"
     },
     "output_type": "display_data"
    }
   ],
   "source": [
    "from sklearn.metrics import recall_score, precision_score, PrecisionRecallDisplay\n",
    "\n",
    "recall_log_reg = recall_score(y_true=y_test, y_pred=y_pred_log_reg)\n",
    "print(f\"Recall for logistic-regression: {recall_log_reg:.3f}\")\n",
    "precision_log_reg = precision_score(y_true=y_test, y_pred=y_pred_log_reg)\n",
    "print(f\"Precision for logistic-regression:: {precision_log_reg:.3f}\")\n",
    "\n",
    "display = PrecisionRecallDisplay.from_estimator(\n",
    "    estimator=log_reg, X=X_test, y=y_test, name=\"logistic_regr\"\n",
    ")\n",
    "\n",
    "_=display.ax_.set_title(\"Precision Recall curve for Logistic Regression\")\n",
    "\n"
   ]
  },
  {
   "cell_type": "code",
   "execution_count": 32,
   "metadata": {},
   "outputs": [
    {
     "name": "stdout",
     "output_type": "stream",
     "text": [
      "Recall for support vector classifier: 0.985\n",
      "Precision for support vector classifier: 0.957\n"
     ]
    },
    {
     "data": {
      "image/png": "[encoded data removed]",
      "text/plain": [
       "<Figure size 432x288 with 1 Axes>"
      ]
     },
     "metadata": {
      "needs_background": "light"
     },
     "output_type": "display_data"
    }
   ],
   "source": [
    "from sklearn.metrics import recall_score, precision_score, PrecisionRecallDisplay\n",
    "\n",
    "recall_svm_clf = recall_score(y_true=y_test, y_pred=y_pred_svm)\n",
    "print(f\"Recall for support vector classifier: {recall_svm_clf:.3f}\")\n",
    "precision_svm_clf = precision_score(y_true=y_test, y_pred=y_pred_svm)\n",
    "print(f\"Precision for support vector classifier: {precision_svm_clf:.3f}\")\n",
    "\n",
    "display = PrecisionRecallDisplay.from_estimator(\n",
    "    estimator=svm_clf, X=X_test, y=y_test, name=\"svm_clf\"\n",
    ")\n",
    "\n",
    "_=display.ax_.set_title(\"Precision Recall curve for Support Vector Classifier\")\n"
   ]
  },
  {
   "cell_type": "markdown",
   "metadata": {},
   "source": [
    "The curve for the support vector classifier must be wrong! - because we have exclusively 0´s and 1´s in y_pred_svm, there is no dependency on the threshold parameter and thus the entire PR-Curve should be the point (0.985, 0.957). <br>\n",
    "Without looking into the implementation I would guess, that the curve is calculated by choosing a threshold, sub-sampling the test data and doing prediction on this subsample. This would introduce sampling artifacts that show up as the different P and R values for different thresholds."
   ]
  },
  {
   "cell_type": "markdown",
   "metadata": {},
   "source": [
    "### Plot the Probability-Mass allocation for each Class ###\n",
    "Let's have a look at how well the classifier does on each of the two classes, i.e. how much probability for the correct classification of a data-point actually has been allocated to that datapoint."
   ]
  },
  {
   "cell_type": "code",
   "execution_count": 33,
   "metadata": {},
   "outputs": [
    {
     "data": {
      "image/png": "[encoded data removed]",
      "text/plain": [
       "<Figure size 1080x720 with 2 Axes>"
      ]
     },
     "metadata": {
      "needs_background": "light"
     },
     "output_type": "display_data"
    }
   ],
   "source": [
    "import matplotlib.pyplot as plt\n",
    "%matplotlib inline\n",
    "\n",
    "#switch = \"log_reg\"\n",
    "switch = \"svm_clf\"\n",
    "\n",
    "nof_classes = 2 # number of classes/labels\n",
    "nof_diagram_columns = 2\n",
    "nof_diagram_rows = 1\n",
    "fig_width = 15 # drawing-area hight\n",
    "fig_height = 10 # drawing-area width\n",
    "\n",
    "\n",
    "fig, axs = plt.subplots(nof_diagram_rows,nof_diagram_columns, figsize=(fig_width,fig_height), sharex=True)\n",
    "fig.suptitle(f\"Histograms of {switch}-predictions\", size='xx-large', y=0.92)\n",
    "\n",
    "stats = np.zeros((nof_classes,2)) # contains the values for mean and var for each class\n",
    "p_is = []\n",
    "r = 0\n",
    "c = 0\n",
    "\n",
    "for i in range(nof_classes):\n",
    "    i_mask = y_test == i\n",
    "    Xi_test = X_test[i_mask] # get the data-point with label i\n",
    "\n",
    "    if switch == \"svm_clf\":\n",
    "        p_i = svm_clf.predict_proba(Xi_test)\n",
    "    elif switch == \"log_reg\":\n",
    "        p_i = log_reg.predict_proba(Xi_test)\n",
    "\n",
    "    pi_is_i = np.array([ b[i] for b in p_i])\n",
    "    p_i_sorted = np.sort(pi_is_i)\n",
    "    p_is.append(p_i_sorted)\n",
    "    stats[i, 0] = np.mean(pi_is_i)\n",
    "    stats[i, 1] = np.var(pi_is_i)\n",
    "\n",
    "    i_counts, i_bins = np.histogram(p_i_sorted, bins=100, range=(0,1))\n",
    "    if len(axs.shape) > 1:\n",
    "        axs[r, c].hist(i_bins[:-1], i_bins, weights=i_counts)\n",
    "        axs[r, c].set_title(f\"Distribution for {i} with n={len(p_is[i])}\")\n",
    "\n",
    "        if c < nof_diagram_columns-1:\n",
    "            c += 1\n",
    "        else:\n",
    "            r += 1\n",
    "            c = 0\n",
    "    else:\n",
    "        axs[r].hist(i_bins[:-1], i_bins, weights=i_counts)\n",
    "        axs[r].set_title(f\"Probability mass allocation for {i} with n={len(p_is[i])}\")\n",
    "        r += 1\n"
   ]
  },
  {
   "cell_type": "markdown",
   "metadata": {},
   "source": [
    "#### For log-reg: ####\n",
    "so we see some of the datapoints of class 0 have gotten quite low probability to be a class 0 - as low as approx. 0.55 and the same goes for the class 1 datapoints, where the spread seems even more pronounced. <br>\n",
    "Next we calculate the mean allocated probability for each class and the spread (i.e. variance):"
   ]
  },
  {
   "cell_type": "code",
   "execution_count": 34,
   "metadata": {},
   "outputs": [
    {
     "name": "stdout",
     "output_type": "stream",
     "text": [
      "Class-0 has mean allocated probab-mass of 0.926 and a variance of this allocation equal to 0.031\n",
      "Class-1 has mean allocated probab-mass of 0.949 and a variance of this allocation equal to 0.022\n"
     ]
    }
   ],
   "source": [
    "for c in [0,1]:\n",
    "    print(f\"Class-{c} has mean allocated probab-mass of {stats[c,0]:.3f} and a variance of this allocation equal to {stats[c, 1]:.3f}\")"
   ]
  },
  {
   "cell_type": "markdown",
   "metadata": {},
   "source": [
    "#### For log-reg: ####\n",
    "So indeed the classifier does better on class 0 than on class 1 datapoints."
   ]
  }
 ],
 "metadata": {
  "kernelspec": {
   "display_name": "Python 3.10.4 ('condaPytorchEnv')",
   "language": "python",
   "name": "python3"
  },
  "language_info": {
   "codemirror_mode": {
    "name": "ipython",
    "version": 3
   },
   "file_extension": ".py",
   "mimetype": "text/x-python",
   "name": "python",
   "nbconvert_exporter": "python",
   "pygments_lexer": "ipython3",
   "version": "3.10.6"
  },
  "orig_nbformat": 4,
  "vscode": {
   "interpreter": {
    "hash": "df61620949cb14e55b843831dad5e2bfed0f7347786fc0c0d43a7e8bd69fd61c"
   }
  }
 },
 "nbformat": 4,
 "nbformat_minor": 2
}
